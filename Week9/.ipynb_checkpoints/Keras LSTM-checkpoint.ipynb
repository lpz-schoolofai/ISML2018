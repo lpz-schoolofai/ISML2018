{
 "cells": [
  {
   "cell_type": "code",
   "execution_count": 1,
   "metadata": {},
   "outputs": [
    {
     "name": "stderr",
     "output_type": "stream",
     "text": [
      "Using TensorFlow backend.\n"
     ]
    }
   ],
   "source": [
    "import math\n",
    "from keras.models import Sequential\n",
    "from keras.layers import Dense\n",
    "from keras.layers import LSTM\n",
    "\n",
    "from sklearn.metrics import mean_squared_error\n",
    "from sklearn.preprocessing import MinMaxScaler\n",
    "\n",
    "import numpy as np\n",
    "import matplotlib.pyplot as plt"
   ]
  },
  {
   "cell_type": "code",
   "execution_count": 2,
   "metadata": {},
   "outputs": [],
   "source": [
    "orig = np.load('TimeSeries/orig.npy')"
   ]
  },
  {
   "cell_type": "code",
   "execution_count": 3,
   "metadata": {},
   "outputs": [],
   "source": [
    "scaler = MinMaxScaler(feature_range=(0, 1))\n",
    "data_array = scaler.fit_transform(orig)"
   ]
  },
  {
   "cell_type": "code",
   "execution_count": 4,
   "metadata": {},
   "outputs": [
    {
     "name": "stdout",
     "output_type": "stream",
     "text": [
      "(116, 1) (116,)\n",
      "(14, 1) (14,)\n",
      "(12, 1) (12,)\n"
     ]
    }
   ],
   "source": [
    "X_train = np.load('TimeSeries/X_train.npy')\n",
    "Y_train = np.load('TimeSeries/Y_train.npy')\n",
    "\n",
    "X_cross_val = np.load('TimeSeries/X_cross_val.npy')\n",
    "Y_cross_val = np.load('TimeSeries/Y_cross_val.npy')\n",
    "\n",
    "X_test = np.load('TimeSeries/X_test.npy').reshape((12,1))\n",
    "Y_test = np.load('TimeSeries/Y_test.npy')\n",
    "\n",
    "print(X_train.shape, Y_train.shape)\n",
    "print(X_cross_val.shape, Y_cross_val.shape)\n",
    "print(X_test.shape, Y_test.shape)"
   ]
  },
  {
   "cell_type": "code",
   "execution_count": 5,
   "metadata": {},
   "outputs": [
    {
     "name": "stdout",
     "output_type": "stream",
     "text": [
      "0.4980694980694981 0.471042471042471\n",
      "0.471042471042471 0.5\n",
      "0.5 0.6389961389961389\n",
      "0.6389961389961389 0.747104247104247\n",
      "0.747104247104247 0.7741312741312741\n",
      "0.7741312741312741 0.5791505791505791\n",
      "\n",
      "0.5791505791505791 0.4922779922779923\n",
      "0.4922779922779923 0.39768339768339767\n",
      "0.39768339768339767 0.4498069498069498\n",
      "...\n",
      "0.8571428571428572 0.8783783783783783\n",
      "0.8783783783783783 0.693050193050193\n",
      "0.693050193050193 0.5849420849420849\n",
      "\n",
      "0.6042471042471043 0.6042471042471043\n",
      "0.5540540540540541 0.5540540540540541\n",
      "0.6081081081081081 0.6081081081081081\n",
      "0.6891891891891891 0.6891891891891891\n",
      "0.7104247104247104 0.7104247104247104\n"
     ]
    }
   ],
   "source": [
    "for i in range(110,116):\n",
    "    print(X_train[i,0], Y_train[i])\n",
    "    \n",
    "print()\n",
    "\n",
    "for i in range(0,3):\n",
    "    print(X_cross_val[i,0], Y_cross_val[i])\n",
    "print('...')\n",
    "for i in range(10,13):\n",
    "    print(X_cross_val[i,0], Y_cross_val[i])\n",
    "    \n",
    "print()\n",
    "\n",
    "for i in range(0,5):\n",
    "    print(X_test[i,0], Y_test[i])"
   ]
  },
  {
   "cell_type": "code",
   "execution_count": 6,
   "metadata": {},
   "outputs": [
    {
     "name": "stdout",
     "output_type": "stream",
     "text": [
      "(116, 1, 1) (116,)\n",
      "(14, 1, 1) (14,)\n",
      "(12, 1, 1) (12,)\n"
     ]
    }
   ],
   "source": [
    "X_train = np.reshape(X_train, (X_train.shape[0], 1, X_train.shape[1]))\n",
    "X_cross_val = np.reshape(X_cross_val, (X_cross_val.shape[0], 1, X_cross_val.shape[1]))\n",
    "X_test = np.reshape(X_test, (X_test.shape[0], 1, X_test.shape[1]))\n",
    "\n",
    "print(X_train.shape, Y_train.shape)\n",
    "print(X_cross_val.shape, Y_cross_val.shape)\n",
    "print(X_test.shape, Y_test.shape)"
   ]
  },
  {
   "cell_type": "code",
   "execution_count": 7,
   "metadata": {
    "scrolled": true
   },
   "outputs": [
    {
     "name": "stdout",
     "output_type": "stream",
     "text": [
      "Train on 116 samples, validate on 14 samples\n",
      "Epoch 1/50\n",
      " - 1s - loss: 0.0716 - val_loss: 0.2075\n",
      "Epoch 2/50\n",
      " - 0s - loss: 0.0346 - val_loss: 0.1128\n",
      "Epoch 3/50\n",
      " - 0s - loss: 0.0250 - val_loss: 0.0838\n",
      "Epoch 4/50\n",
      " - 0s - loss: 0.0224 - val_loss: 0.0726\n",
      "Epoch 5/50\n",
      " - 0s - loss: 0.0201 - val_loss: 0.0605\n",
      "Epoch 6/50\n",
      " - 0s - loss: 0.0181 - val_loss: 0.0511\n",
      "Epoch 7/50\n",
      " - 0s - loss: 0.0159 - val_loss: 0.0442\n",
      "Epoch 8/50\n",
      " - 0s - loss: 0.0136 - val_loss: 0.0378\n",
      "Epoch 9/50\n",
      " - 0s - loss: 0.0115 - val_loss: 0.0319\n",
      "Epoch 10/50\n",
      " - 0s - loss: 0.0098 - val_loss: 0.0226\n",
      "Epoch 11/50\n",
      " - 0s - loss: 0.0080 - val_loss: 0.0170\n",
      "Epoch 12/50\n",
      " - 0s - loss: 0.0065 - val_loss: 0.0163\n",
      "Epoch 13/50\n",
      " - 0s - loss: 0.0054 - val_loss: 0.0140\n",
      "Epoch 14/50\n",
      " - 0s - loss: 0.0045 - val_loss: 0.0117\n",
      "Epoch 15/50\n",
      " - 0s - loss: 0.0039 - val_loss: 0.0097\n",
      "Epoch 16/50\n",
      " - 0s - loss: 0.0035 - val_loss: 0.0087\n",
      "Epoch 17/50\n",
      " - 0s - loss: 0.0034 - val_loss: 0.0087\n",
      "Epoch 18/50\n",
      " - 0s - loss: 0.0032 - val_loss: 0.0087\n",
      "Epoch 19/50\n",
      " - 0s - loss: 0.0032 - val_loss: 0.0085\n",
      "Epoch 20/50\n",
      " - 0s - loss: 0.0031 - val_loss: 0.0086\n",
      "Epoch 21/50\n",
      " - 0s - loss: 0.0031 - val_loss: 0.0086\n",
      "Epoch 22/50\n",
      " - 0s - loss: 0.0031 - val_loss: 0.0086\n",
      "Epoch 23/50\n",
      " - 0s - loss: 0.0031 - val_loss: 0.0088\n",
      "Epoch 24/50\n",
      " - 0s - loss: 0.0031 - val_loss: 0.0086\n",
      "Epoch 25/50\n",
      " - 0s - loss: 0.0030 - val_loss: 0.0087\n",
      "Epoch 26/50\n",
      " - 0s - loss: 0.0031 - val_loss: 0.0087\n",
      "Epoch 27/50\n",
      " - 0s - loss: 0.0031 - val_loss: 0.0087\n",
      "Epoch 28/50\n",
      " - 0s - loss: 0.0030 - val_loss: 0.0086\n",
      "Epoch 29/50\n",
      " - 0s - loss: 0.0030 - val_loss: 0.0089\n",
      "Epoch 30/50\n",
      " - 0s - loss: 0.0032 - val_loss: 0.0087\n",
      "Epoch 31/50\n",
      " - 0s - loss: 0.0030 - val_loss: 0.0086\n",
      "Epoch 32/50\n",
      " - 0s - loss: 0.0030 - val_loss: 0.0087\n",
      "Epoch 33/50\n",
      " - 0s - loss: 0.0030 - val_loss: 0.0090\n",
      "Epoch 34/50\n",
      " - 0s - loss: 0.0031 - val_loss: 0.0086\n",
      "Epoch 35/50\n",
      " - 0s - loss: 0.0030 - val_loss: 0.0087\n",
      "Epoch 36/50\n",
      " - 0s - loss: 0.0030 - val_loss: 0.0090\n",
      "Epoch 37/50\n",
      " - 0s - loss: 0.0031 - val_loss: 0.0086\n",
      "Epoch 38/50\n",
      " - 0s - loss: 0.0030 - val_loss: 0.0086\n",
      "Epoch 39/50\n",
      " - 0s - loss: 0.0030 - val_loss: 0.0087\n",
      "Epoch 40/50\n",
      " - 0s - loss: 0.0031 - val_loss: 0.0086\n",
      "Epoch 41/50\n",
      " - 0s - loss: 0.0031 - val_loss: 0.0086\n",
      "Epoch 42/50\n",
      " - 0s - loss: 0.0030 - val_loss: 0.0085\n",
      "Epoch 43/50\n",
      " - 0s - loss: 0.0030 - val_loss: 0.0087\n",
      "Epoch 44/50\n",
      " - 0s - loss: 0.0030 - val_loss: 0.0085\n",
      "Epoch 45/50\n",
      " - 0s - loss: 0.0030 - val_loss: 0.0085\n",
      "Epoch 46/50\n",
      " - 0s - loss: 0.0030 - val_loss: 0.0086\n",
      "Epoch 47/50\n",
      " - 0s - loss: 0.0030 - val_loss: 0.0085\n",
      "Epoch 48/50\n",
      " - 0s - loss: 0.0030 - val_loss: 0.0084\n",
      "Epoch 49/50\n",
      " - 0s - loss: 0.0030 - val_loss: 0.0085\n",
      "Epoch 50/50\n",
      " - 0s - loss: 0.0031 - val_loss: 0.0085\n"
     ]
    },
    {
     "data": {
      "text/plain": [
       "<keras.callbacks.History at 0x7fc049490f98>"
      ]
     },
     "execution_count": 7,
     "metadata": {},
     "output_type": "execute_result"
    }
   ],
   "source": [
    "model = Sequential()\n",
    "model.add(LSTM(4, input_shape=(1, 1)))\n",
    "model.add(Dense(1))\n",
    "model.compile(loss='mean_squared_error', optimizer='adam')\n",
    "\n",
    "model.fit(X_train, Y_train, validation_data=(X_cross_val, Y_cross_val), epochs=50, batch_size=1, verbose=2)"
   ]
  },
  {
   "cell_type": "code",
   "execution_count": 8,
   "metadata": {},
   "outputs": [],
   "source": [
    "preds = model.predict(X_test)"
   ]
  },
  {
   "cell_type": "code",
   "execution_count": 9,
   "metadata": {},
   "outputs": [
    {
     "data": {
      "image/png": "[encoded data removed]",
      "text/plain": [
       "<Figure size 432x288 with 1 Axes>"
      ]
     },
     "metadata": {},
     "output_type": "display_data"
    }
   ],
   "source": [
    "plt.plot(Y_test, 'b')\n",
    "plt.plot(preds[1:14], 'g')\n",
    "plt.show()"
   ]
  },
  {
   "cell_type": "code",
   "execution_count": 11,
   "metadata": {},
   "outputs": [
    {
     "data": {
      "image/png": "[encoded data removed]",
      "text/plain": [
       "<Figure size 432x288 with 1 Axes>"
      ]
     },
     "metadata": {},
     "output_type": "display_data"
    }
   ],
   "source": [
    "plt.plot(orig, 'b')\n",
    "plt.plot(scaler.inverse_transform( model.predict(X_train) ), 'r')\n",
    "\n",
    "x_dim_cv = np.arange(X_train.shape[0], X_train.shape[0]+X_cross_val.shape[0])\n",
    "plt.plot(x_dim_cv, scaler.inverse_transform( model.predict(X_cross_val)),'r')\n",
    "\n",
    "x_dim_test = np.arange(X_train.shape[0]+X_cross_val.shape[0], X_train.shape[0]+X_cross_val.shape[0]+X_test.shape[0])\n",
    "plt.plot(x_dim_test, scaler.inverse_transform( model.predict(X_test) ), 'g')\n",
    "\n",
    "plt.show()"
   ]
  },
  {
   "cell_type": "code",
   "execution_count": null,
   "metadata": {},
   "outputs": [],
   "source": []
  }
 ],
 "metadata": {
  "kernelspec": {
   "display_name": "Python 3",
   "language": "python",
   "name": "python3"
  },
  "language_info": {
   "codemirror_mode": {
    "name": "ipython",
    "version": 3
   },
   "file_extension": ".py",
   "mimetype": "text/x-python",
   "name": "python",
   "nbconvert_exporter": "python",
   "pygments_lexer": "ipython3",
   "version": "3.6.5"
  }
 },
 "nbformat": 4,
 "nbformat_minor": 2
}

{
 "cells": [
  {
   "cell_type": "code",
   "execution_count": 150,
   "metadata": {},
   "outputs": [],
   "source": [
    "import numpy as np\n",
    "import cv2\n",
    "from keras.datasets import mnist\n",
    "from tqdm import tqdm\n",
    "from sklearn.metrics import accuracy_score, confusion_matrix\n",
    "import matplotlib.pyplot as plt"
   ]
  },
  {
   "cell_type": "markdown",
   "metadata": {},
   "source": [
    "# Dataset"
   ]
  },
  {
   "cell_type": "code",
   "execution_count": 2,
   "metadata": {},
   "outputs": [],
   "source": [
    "(x_train, y_train), (x_test, y_test) = mnist.load_data()"
   ]
  },
  {
   "cell_type": "code",
   "execution_count": 3,
   "metadata": {},
   "outputs": [],
   "source": [
    "x_train = x_train.astype(float) / 255.\n",
    "x_test = x_test.astype(float) / 255.\n",
    "\n",
    "# extraemos los últimos 10K datos para validación\n",
    "x_train, x_val = x_train[:-10000], x_train[-10000:]\n",
    "y_train, y_val = y_train[:-10000], y_train[-10000:]\n",
    "\n",
    "x_train = x_train.reshape([x_train.shape[0], -1])\n",
    "x_val = x_val.reshape([x_val.shape[0], -1])\n",
    "x_test = x_test.reshape([x_test.shape[0], -1])"
   ]
  },
  {
   "cell_type": "code",
   "execution_count": 4,
   "metadata": {},
   "outputs": [],
   "source": [
    "####ONE HOT ENCODE####\n",
    "new_y_train = np.zeros((y_train.shape[0], 10))\n",
    "new_y_train[range(len(y_train)), y_train] = 1\n",
    "\n",
    "new_y_val = np.zeros((y_val.shape[0], 10))\n",
    "new_y_val[range(len(y_val)), y_val] = 1\n",
    "\n",
    "new_y_test = np.zeros((y_test.shape[0], 10))\n",
    "new_y_test[range(len(y_test)), y_test] = 1"
   ]
  },
  {
   "cell_type": "code",
   "execution_count": 5,
   "metadata": {},
   "outputs": [],
   "source": [
    "# np.save('x_train', x_train)\n",
    "# np.save('y_train', new_y_train)\n",
    "# np.save('x_val', x_val)\n",
    "# np.save('y_val', new_y_val)\n",
    "# np.save('x_test', x_test)\n",
    "# np.save('y_test', new_y_test)"
   ]
  },
  {
   "cell_type": "code",
   "execution_count": 6,
   "metadata": {},
   "outputs": [],
   "source": [
    "# x_train = np.load('x_train.npy')\n",
    "# y_train = np.load('y_train.npy')\n",
    "# x_val = np.load('x_val.npy')\n",
    "# y_val = np.load('y_val.npy')\n",
    "# x_test = np.load('x_test.npy')\n",
    "# y_test = np.load('y_test.npy')"
   ]
  },
  {
   "cell_type": "code",
   "execution_count": 6,
   "metadata": {},
   "outputs": [],
   "source": [
    "y_train = new_y_train\n",
    "y_val = new_y_val\n",
    "y_test = new_y_test"
   ]
  },
  {
   "cell_type": "code",
   "execution_count": 7,
   "metadata": {},
   "outputs": [
    {
     "name": "stdout",
     "output_type": "stream",
     "text": [
      "(50000, 784)\n",
      "(50000, 10)\n",
      "(10000, 784)\n",
      "(10000, 10)\n",
      "(10000, 784)\n",
      "(10000, 10)\n"
     ]
    }
   ],
   "source": [
    "print(x_train.shape)\n",
    "print(y_train.shape)\n",
    "print(x_val.shape)\n",
    "print(y_val.shape)\n",
    "print(x_test.shape)\n",
    "print(y_test.shape)"
   ]
  },
  {
   "cell_type": "code",
   "execution_count": 10,
   "metadata": {},
   "outputs": [
    {
     "data": {
      "text/plain": [
       "<matplotlib.image.AxesImage at 0x7f50752d7198>"
      ]
     },
     "execution_count": 10,
     "metadata": {},
     "output_type": "execute_result"
    },
    {
     "data": {
      "image/png": "[encoded data removed]",
      "text/plain": [
       "<Figure size 432x288 with 1 Axes>"
      ]
     },
     "metadata": {},
     "output_type": "display_data"
    }
   ],
   "source": [
    "plt.imshow(x_train[0].reshape((28,28)), cmap='gray')"
   ]
  },
  {
   "cell_type": "code",
   "execution_count": 8,
   "metadata": {},
   "outputs": [
    {
     "name": "stdout",
     "output_type": "stream",
     "text": [
      "[[0. 0. 0. 0. 0. 1. 0. 0. 0. 0.]\n",
      " [1. 0. 0. 0. 0. 0. 0. 0. 0. 0.]\n",
      " [0. 0. 0. 0. 1. 0. 0. 0. 0. 0.]\n",
      " [0. 1. 0. 0. 0. 0. 0. 0. 0. 0.]\n",
      " [0. 0. 0. 0. 0. 0. 0. 0. 0. 1.]\n",
      " [0. 0. 1. 0. 0. 0. 0. 0. 0. 0.]\n",
      " [0. 1. 0. 0. 0. 0. 0. 0. 0. 0.]\n",
      " [0. 0. 0. 1. 0. 0. 0. 0. 0. 0.]\n",
      " [0. 1. 0. 0. 0. 0. 0. 0. 0. 0.]\n",
      " [0. 0. 0. 0. 1. 0. 0. 0. 0. 0.]]\n"
     ]
    }
   ],
   "source": [
    "print(y_train[:10,:])"
   ]
  },
  {
   "cell_type": "markdown",
   "metadata": {},
   "source": [
    "# Softmax and Cross Entropy"
   ]
  },
  {
   "cell_type": "code",
   "execution_count": 11,
   "metadata": {},
   "outputs": [],
   "source": [
    "def stable_softmax(Z):\n",
    "    exps = np.exp(Z - np.max(Z))\n",
    "    return exps / exps.sum(axis=-1,keepdims=True) ##Sumatoria se realiza para cada fila"
   ]
  },
  {
   "cell_type": "code",
   "execution_count": 13,
   "metadata": {},
   "outputs": [],
   "source": [
    "def grad_softmax_crossentropy(Y_hat, Y):\n",
    "    \"\"\"\n",
    "    Y: Etiquetas de tamaño (m, c) //m: nro ejemplos, c: nro clases\n",
    "    Y_hat: Predicciones (stable softmax) de tamaño (m, c) //m: nro ejemplos, c: nro clases\n",
    "    \"\"\"\n",
    "    return (Y_hat - Y) / Y.shape[0] ## . /len(Y_hat) es el término (1/m)"
   ]
  },
  {
   "cell_type": "code",
   "execution_count": 14,
   "metadata": {},
   "outputs": [],
   "source": [
    "def cross_entropy_with_logits(Z: np.ndarray, Y: np.ndarray):\n",
    "    \"\"\"\n",
    "    Z: La predicción de la última capa sin activar (m, c)\n",
    "    Y: El vector de etiquetas sin one hot encoding (m,). Si es de tamaño (m, c) se extraerá solo\n",
    "    \"\"\"\n",
    "    if len(Y.shape) > 1:\n",
    "        Y = Y.argmax(axis=-1)\n",
    "    \n",
    "    Z_j = Z[range(len(Z)), Y] ## LA PREDICCIÓN SIN ACTIVAR EN LA COLUMNA DEL Y CORRESPONDIENTE\n",
    "    loss = - Z_j + np.log(np.sum(np.exp(Z),axis=-1)) ## LOG SOFTMAX CON LA SUMATORI PARA CADA FILA\n",
    "    \n",
    "    return loss"
   ]
  },
  {
   "cell_type": "markdown",
   "metadata": {},
   "source": [
    "# Softmax Regression"
   ]
  },
  {
   "cell_type": "code",
   "execution_count": 15,
   "metadata": {},
   "outputs": [],
   "source": [
    "def predict(theta, x, bias):\n",
    "    return stable_softmax(x @ theta + bias)"
   ]
  },
  {
   "cell_type": "code",
   "execution_count": 16,
   "metadata": {
    "scrolled": true
   },
   "outputs": [
    {
     "name": "stderr",
     "output_type": "stream",
     "text": [
      "100%|██████████| 500/500 [02:37<00:00,  3.17it/s]\n"
     ]
    }
   ],
   "source": [
    "####INITIALIZE THETAS####\n",
    "input_size = 784\n",
    "n_classes = 10\n",
    "lr = 0.01\n",
    "\n",
    "θ = np.random.randn(input_size, n_classes) * np.sqrt(2.0/input_size)\n",
    "b = np.zeros(n_classes)\n",
    "\n",
    "train_losses = []\n",
    "val_losses = []\n",
    "iters = 500\n",
    "for it in tqdm(range(iters)):\n",
    "#for it in range(iters):\n",
    "    Z = x_train @ θ + b\n",
    "    \n",
    "    loss = cross_entropy_with_logits(Z, y_train)\n",
    "    train_losses.append(loss.mean())\n",
    "    val_losses.append(cross_entropy_with_logits(x_val@θ+b, y_val).mean())\n",
    "    \n",
    "    y_hat = stable_softmax(Z)\n",
    "    \n",
    "    dZ = grad_softmax_crossentropy(y_hat, y_train)\n",
    "    dθ = x_train.T @ dZ\n",
    "    db = dZ.sum(axis=0)\n",
    "    \n",
    "    θ = θ - lr*dθ\n",
    "    b = b - lr*db"
   ]
  },
  {
   "cell_type": "code",
   "execution_count": 13,
   "metadata": {},
   "outputs": [
    {
     "data": {
      "image/png": "[encoded data removed]",
      "text/plain": [
       "<Figure size 432x288 with 1 Axes>"
      ]
     },
     "metadata": {},
     "output_type": "display_data"
    }
   ],
   "source": [
    "plt.plot(train_losses)\n",
    "plt.plot(val_losses)\n",
    "plt.show()"
   ]
  },
  {
   "cell_type": "code",
   "execution_count": 17,
   "metadata": {},
   "outputs": [
    {
     "data": {
      "text/plain": [
       "0.842"
      ]
     },
     "execution_count": 17,
     "metadata": {},
     "output_type": "execute_result"
    }
   ],
   "source": [
    "accuracy_score(np.argmax(predict(θ, x_test, b), axis=1), np.argmax(y_test, axis=1))"
   ]
  },
  {
   "cell_type": "code",
   "execution_count": 18,
   "metadata": {},
   "outputs": [
    {
     "data": {
      "text/plain": [
       "array([[ 931,    0,   28,    5,    2,   27,   23,    6,   13,   20],\n",
       "       [   0, 1078,   34,    4,   13,   27,   12,   43,   29,   15],\n",
       "       [   5,   16,  823,   26,    6,    5,   22,   28,   11,   19],\n",
       "       [   3,    8,   31,  872,    0,  111,    2,    1,   59,   13],\n",
       "       [   1,    1,   15,    2,  821,   27,   12,   19,   14,   50],\n",
       "       [   4,    6,    2,   21,    1,  565,   17,    1,   17,    8],\n",
       "       [  19,    4,   34,    9,   20,   31,  860,    3,   17,    4],\n",
       "       [   1,    0,   17,   17,    3,   23,    0,  876,   11,   35],\n",
       "       [  16,   22,   43,   32,   15,   54,   10,    8,  768,   19],\n",
       "       [   0,    0,    5,   22,  101,   22,    0,   43,   35,  826]])"
      ]
     },
     "execution_count": 18,
     "metadata": {},
     "output_type": "execute_result"
    }
   ],
   "source": [
    "confusion_matrix(np.argmax(predict(θ, x_test, b), axis=1), np.argmax(y_test, axis=1))"
   ]
  },
  {
   "cell_type": "markdown",
   "metadata": {},
   "source": [
    "# Red Neuronal\n",
    "\n",
    "## Capas"
   ]
  },
  {
   "cell_type": "code",
   "execution_count": 30,
   "metadata": {},
   "outputs": [],
   "source": [
    "class Layer:\n",
    "    \"\"\"\n",
    "    Bloque base para definición de una capa\n",
    "    \"\"\"\n",
    "    def __init__(self):\n",
    "        \"\"\"Inicialización de parámetros.\"\"\"\n",
    "        # A dummy layer does nothing\n",
    "        pass\n",
    "    \n",
    "    def forward(self, input):\n",
    "        \"\"\"\n",
    "        Recibe [batch, input_units], Y devuelve [batch, output_units]\n",
    "        \"\"\"\n",
    "        # A dummy layer just returns whatever it gets as input.\n",
    "        return input\n",
    "\n",
    "    def backward(self, input, grad_output):\n",
    "        \"\"\"\n",
    "        Aplicamos Backpropagation\n",
    "        \n",
    "        d loss / d x  = (d loss / d layer) * (d layer / d x)\n",
    "        \n",
    "        Se recibe d loss / d layer como entrada, así que sólo se debe multiplicar por d layer / d x.\n",
    "        \n",
    "        Si la capa tiene parámetros, se deben actualizar sus valores d loss / d layer\n",
    "        \"\"\"\n",
    "        num_units = input.shape[1]\n",
    "        \n",
    "        d_layer_d_input = np.eye(num_units)\n",
    "        \n",
    "        return np.dot(grad_output, d_layer_d_input)"
   ]
  },
  {
   "cell_type": "code",
   "execution_count": 20,
   "metadata": {},
   "outputs": [],
   "source": [
    "class ReLU(Layer):\n",
    "    def __init__(self):\n",
    "        \"\"\"No tiene parámetros entrenables\"\"\"\n",
    "        pass\n",
    "    \n",
    "    def forward(self, input):\n",
    "        \"\"\"Aplica ReLU a [batch, input_units]\"\"\"\n",
    "        return np.maximum(0,input)\n",
    "    \n",
    "    def backward(self, input, grad_output):\n",
    "        \"\"\"Computa gradiente de loss respecto a ReLU\"\"\"\n",
    "        relu_grad = input > 0\n",
    "        return grad_output*relu_grad    #dL/dZ[l]    "
   ]
  },
  {
   "cell_type": "code",
   "execution_count": 117,
   "metadata": {},
   "outputs": [],
   "source": [
    "class Dense(Layer):\n",
    "    def __init__(self, input_units, output_units, learning_rate=0.1, initializer='standard'):\n",
    "        \"\"\"\n",
    "        Una capa densa que realiza un mapeo entre espacios:\n",
    "        f(x) = <W*x> + b\n",
    "        \"\"\"\n",
    "        self.learning_rate = learning_rate\n",
    "        #np.random.normal()\n",
    "        \n",
    "        ###PODEMOS ELEGIR LA FORMA DE INICIALIZACIÓN, LA ESTÁNDAR Y LA XAVIER###\n",
    "        scaler = 0.01 if initializer == 'standard' else np.sqrt(2.0/input_units)\n",
    "        \n",
    "        self.weights = np.random.randn(input_units, output_units)*scaler\n",
    "        self.biases = np.zeros(output_units)\n",
    "        \n",
    "    def forward(self,input):\n",
    "        \"\"\"\n",
    "        input shape: [batch, input_units]\n",
    "        output shape: [batch, output units]\n",
    "        \"\"\"\n",
    "        return input @ self.weights + self.biases #<your code here>\n",
    "    \n",
    "    def backward(self,input,grad_output):\n",
    "        # Calculamos dL/dA[l-1]\n",
    "        grad_input = grad_output @ self.weights.T #dL/dA[l-1] = <dL/dZ[l], w[l]'> -> dL/dX -> dL/dA[l-1]\n",
    "        \n",
    "        # Calculamos para los pesos y los bias\n",
    "        grad_weights = input.T @ grad_output #dL/dW[l] = <A[l-1]', dL/dZ[l]> -> dL/dθ\n",
    "        grad_biases = np.sum(grad_output, axis=0) #dL/db[l] = sum_rows(b[l])\n",
    "        \n",
    "        assert grad_weights.shape == self.weights.shape and grad_biases.shape == self.biases.shape\n",
    "        \n",
    "        # Actualizamos parámetros\n",
    "        self.weights = self.weights - self.learning_rate * grad_weights\n",
    "        self.biases = self.biases - self.learning_rate * grad_biases\n",
    "\n",
    "        return grad_input ## Retornamos grad para la anterior capa"
   ]
  },
  {
   "cell_type": "markdown",
   "metadata": {},
   "source": [
    "## Entrenamiento"
   ]
  },
  {
   "cell_type": "code",
   "execution_count": 31,
   "metadata": {},
   "outputs": [],
   "source": [
    "def forward(network, X):\n",
    "    \"\"\"\n",
    "    Damos una pasada por toda la red propagando la información hacia delante.\n",
    "    \"\"\"\n",
    "    activations = []\n",
    "    input = X\n",
    "\n",
    "    for layer in network:\n",
    "        input = layer.forward(input)\n",
    "        activations.append(input)    \n",
    "        \n",
    "    assert len(activations) == len(network)\n",
    "    return activations\n",
    "\n",
    "def predict(network,X):\n",
    "    \"\"\"\n",
    "    Calculamos un vector de predicciones\n",
    "    \"\"\"\n",
    "    logits = forward(network,X)[-1]\n",
    "    preds = stable_softmax(logits)\n",
    "    #return logits.argmax(axis=-1) #Max element of each row\n",
    "    return preds.argmax(axis=-1)\n",
    "\n",
    "def train(network,X,y):\n",
    "    \"\"\"\n",
    "    Realizar un paso de entrenamiento, un forward pass y un backward pass, junto con una actualización de pesos.\n",
    "    \"\"\"\n",
    "    \n",
    "    # Obtener activaciones\n",
    "    layer_activations = forward(network,X)\n",
    "    layer_inputs = [X]+layer_activations  #layer_input[i] es una entrada para network[i]\n",
    "    logits = layer_activations[-1] #extraemos la última capa sin activar\n",
    "    \n",
    "    # Calculamos el Loss y el gradiente inicial para retropopagar\n",
    "    loss = cross_entropy_with_logits(logits,y)\n",
    "    loss_grad = grad_softmax_crossentropy(stable_softmax(logits),y) #dZ[L]\n",
    "    \n",
    "    # Retropopagamos\n",
    "    for layer, input in zip(reversed(network), reversed(layer_inputs[:-1])):\n",
    "        loss_grad = layer.backward(input, loss_grad)\n",
    "        \n",
    "    return np.mean(loss)"
   ]
  },
  {
   "cell_type": "code",
   "execution_count": 90,
   "metadata": {},
   "outputs": [
    {
     "name": "stdout",
     "output_type": "stream",
     "text": [
      "[0, 1, 2, 3, 4, 5, 6, 7, 8, 9]\n",
      "<list_reverseiterator object at 0x7f50752a27f0>\n",
      "9, 8, 7, 6, 5, 4, 3, 2, 1, 0, "
     ]
    }
   ],
   "source": [
    "la = list(range(10))\n",
    "print(la)\n",
    "rla = reversed(la)\n",
    "print(rla)\n",
    "#print(list(rla))\n",
    "for i in rla:\n",
    "    print(i, end=', ')"
   ]
  },
  {
   "cell_type": "code",
   "execution_count": 87,
   "metadata": {},
   "outputs": [],
   "source": [
    "network = []\n",
    "network.append(Dense(x_train.shape[1],100))\n",
    "network.append(ReLU())\n",
    "network.append(Dense(100,200))\n",
    "network.append(ReLU())\n",
    "network.append(Dense(200,10))"
   ]
  },
  {
   "cell_type": "code",
   "execution_count": 86,
   "metadata": {},
   "outputs": [
    {
     "data": {
      "text/plain": [
       "2.2987855609335575"
      ]
     },
     "execution_count": 86,
     "metadata": {},
     "output_type": "execute_result"
    }
   ],
   "source": [
    "train(network, x_train[:100, :], y_train[:100])"
   ]
  },
  {
   "cell_type": "code",
   "execution_count": 91,
   "metadata": {},
   "outputs": [],
   "source": [
    "from tqdm import trange\n",
    "def iterate_minibatches(inputs, targets, batchsize, shuffle=False):\n",
    "    assert len(inputs) == len(targets)\n",
    "    if shuffle:\n",
    "        indices = np.random.permutation(len(inputs))\n",
    "    for start_idx in trange(0, len(inputs) - batchsize + 1, batchsize):\n",
    "        if shuffle:\n",
    "            excerpt = indices[start_idx:start_idx + batchsize]\n",
    "        else:\n",
    "            excerpt = slice(start_idx, start_idx + batchsize)\n",
    "            \n",
    "        yield inputs[excerpt], targets[excerpt]"
   ]
  },
  {
   "cell_type": "markdown",
   "metadata": {},
   "source": [
    "## Entrenando la Red"
   ]
  },
  {
   "cell_type": "code",
   "execution_count": 92,
   "metadata": {},
   "outputs": [],
   "source": [
    "from IPython.display import clear_output\n",
    "train_log = []\n",
    "val_log = []"
   ]
  },
  {
   "cell_type": "code",
   "execution_count": 93,
   "metadata": {},
   "outputs": [
    {
     "name": "stdout",
     "output_type": "stream",
     "text": [
      "Epoch 24\n",
      "Train accuracy: 0.97482\n",
      "Val accuracy: 0.9658\n"
     ]
    },
    {
     "data": {
      "image/png": "[encoded data removed]",
      "text/plain": [
       "<Figure size 432x288 with 1 Axes>"
      ]
     },
     "metadata": {},
     "output_type": "display_data"
    }
   ],
   "source": [
    "for epoch in range(25):\n",
    "\n",
    "    for x_batch,y_batch in iterate_minibatches(x_train,y_train,batchsize=32,shuffle=True):\n",
    "        train(network,x_batch,y_batch)\n",
    "    \n",
    "    args_y_train = np.argmax(y_train, axis=-1)\n",
    "    args_y_val = np.argmax(y_val, axis=-1)\n",
    "    train_log.append(np.mean(predict(network,x_train)==args_y_train))\n",
    "    val_log.append(np.mean(predict(network,x_val)==args_y_val))\n",
    "    \n",
    "    clear_output()\n",
    "    print(\"Epoch\",epoch)\n",
    "    print(\"Train accuracy:\",train_log[-1])\n",
    "    print(\"Val accuracy:\",val_log[-1])\n",
    "    plt.plot(train_log,label='train accuracy')\n",
    "    plt.plot(val_log,label='val accuracy')\n",
    "    plt.legend(loc='best')\n",
    "    plt.grid()\n",
    "    plt.show()\n",
    "    "
   ]
  },
  {
   "cell_type": "code",
   "execution_count": 94,
   "metadata": {},
   "outputs": [
    {
     "data": {
      "text/plain": [
       "0.9635"
      ]
     },
     "execution_count": 94,
     "metadata": {},
     "output_type": "execute_result"
    }
   ],
   "source": [
    "accuracy_score(predict(network, x_test), np.argmax(y_test, axis=-1))"
   ]
  },
  {
   "cell_type": "code",
   "execution_count": 95,
   "metadata": {},
   "outputs": [
    {
     "data": {
      "text/plain": [
       "array([[ 963,    0,    8,    0,    2,    7,    5,    1,    4,    4],\n",
       "       [   0, 1122,    2,    0,    0,    1,    3,   11,    3,    7],\n",
       "       [   0,    2, 1000,    6,    1,    1,    1,   14,    2,    0],\n",
       "       [   3,    2,    6,  984,    0,   14,    0,    6,   15,    6],\n",
       "       [   2,    0,    4,    0,  946,    4,    8,    1,    8,   15],\n",
       "       [   4,    2,    0,    7,    1,  842,   10,    1,   11,    8],\n",
       "       [   6,    2,    5,    0,    9,   10,  929,    0,   11,    1],\n",
       "       [   1,    1,    4,    7,    2,    1,    0,  978,    6,    7],\n",
       "       [   1,    4,    3,    3,    1,    7,    2,    0,  910,    0],\n",
       "       [   0,    0,    0,    3,   20,    5,    0,   16,    4,  961]])"
      ]
     },
     "execution_count": 95,
     "metadata": {},
     "output_type": "execute_result"
    }
   ],
   "source": [
    "confusion_matrix(predict(network, x_test), np.argmax(y_test, axis=-1))"
   ]
  },
  {
   "cell_type": "markdown",
   "metadata": {},
   "source": [
    "# More Layers"
   ]
  },
  {
   "cell_type": "code",
   "execution_count": 118,
   "metadata": {},
   "outputs": [],
   "source": [
    "network = []\n",
    "network.append(Dense(x_train.shape[1], 100, initializer='xavier'))\n",
    "network.append(ReLU())\n",
    "network.append(Dense(100, 200, initializer='xavier'))\n",
    "network.append(ReLU())\n",
    "network.append(Dense(200, 200, initializer='xavier'))\n",
    "network.append(ReLU())\n",
    "network.append(Dense(200, 100, initializer='xavier'))\n",
    "network.append(ReLU())\n",
    "network.append(Dense(100, 10, initializer='xavier'))"
   ]
  },
  {
   "cell_type": "code",
   "execution_count": 119,
   "metadata": {},
   "outputs": [
    {
     "name": "stdout",
     "output_type": "stream",
     "text": [
      "Epoch 5\n",
      "Train accuracy: 0.9897\n",
      "Val accuracy: 0.9734\n"
     ]
    },
    {
     "data": {
      "image/png": "[encoded data removed]",
      "text/plain": [
       "<Figure size 432x288 with 1 Axes>"
      ]
     },
     "metadata": {},
     "output_type": "display_data"
    }
   ],
   "source": [
    "from IPython.display import clear_output\n",
    "train_log = []\n",
    "val_log = []\n",
    "\n",
    "for epoch in range(6):\n",
    "\n",
    "    for x_batch,y_batch in iterate_minibatches(x_train,y_train,batchsize=32,shuffle=True):\n",
    "        train(network,x_batch,y_batch)\n",
    "    \n",
    "    args_y_train = np.argmax(y_train, axis=-1)\n",
    "    args_y_val = np.argmax(y_val, axis=-1)\n",
    "    train_log.append(np.mean(predict(network,x_train)==args_y_train))\n",
    "    val_log.append(np.mean(predict(network,x_val)==args_y_val))\n",
    "    \n",
    "    clear_output()\n",
    "    print(\"Epoch\",epoch)\n",
    "    print(\"Train accuracy:\",train_log[-1])\n",
    "    print(\"Val accuracy:\",val_log[-1])\n",
    "    plt.plot(train_log,label='train accuracy')\n",
    "    plt.plot(val_log,label='val accuracy')\n",
    "    plt.legend(loc='best')\n",
    "    plt.grid()\n",
    "    plt.show()"
   ]
  },
  {
   "cell_type": "code",
   "execution_count": 120,
   "metadata": {},
   "outputs": [
    {
     "data": {
      "text/plain": [
       "0.9751"
      ]
     },
     "execution_count": 120,
     "metadata": {},
     "output_type": "execute_result"
    }
   ],
   "source": [
    "accuracy_score(predict(network, x_test), np.argmax(y_test, axis=-1))"
   ]
  },
  {
   "cell_type": "code",
   "execution_count": 121,
   "metadata": {},
   "outputs": [
    {
     "data": {
      "text/plain": [
       "array([[ 965,    0,    7,    0,    1,    2,    2,    1,    2,    3],\n",
       "       [   1, 1117,    2,    0,    0,    0,    2,    2,    1,    1],\n",
       "       [   0,    1,  976,    1,    0,    0,    0,    7,    1,    1],\n",
       "       [   0,    2,   11,  990,    1,    6,    0,    5,   10,    5],\n",
       "       [   1,    0,   10,    0,  953,    1,    2,    0,    1,    7],\n",
       "       [   5,    2,    1,    9,    0,  873,    5,    0,    6,    1],\n",
       "       [   6,    6,   13,    0,    5,    5,  946,    0,    2,    1],\n",
       "       [   0,    4,    5,    3,    5,    1,    0, 1002,    3,    7],\n",
       "       [   1,    3,    6,    5,    3,    3,    1,    1,  947,    1],\n",
       "       [   1,    0,    1,    2,   14,    1,    0,   10,    1,  982]])"
      ]
     },
     "execution_count": 121,
     "metadata": {},
     "output_type": "execute_result"
    }
   ],
   "source": [
    "confusion_matrix(predict(network, x_test), np.argmax(y_test, axis=-1))"
   ]
  },
  {
   "cell_type": "code",
   "execution_count": 156,
   "metadata": {},
   "outputs": [
    {
     "data": {
      "text/plain": [
       "array([[-0.02883559,  0.00334399,  0.0196828 , ...,  0.01855984,\n",
       "         0.07987797,  0.056738  ],\n",
       "       [-0.03245599,  0.11177726,  0.03169167, ..., -0.01005191,\n",
       "         0.06277313, -0.07968455],\n",
       "       [-0.05634844, -0.04094861, -0.05551116, ..., -0.03271104,\n",
       "        -0.06553216, -0.04036772],\n",
       "       ...,\n",
       "       [ 0.00351773,  0.07994159,  0.01891672, ...,  0.04029019,\n",
       "        -0.09306188, -0.00437942],\n",
       "       [ 0.01861427,  0.00331801, -0.02936776, ...,  0.04339444,\n",
       "         0.07808687,  0.00953205],\n",
       "       [-0.00944546, -0.03059761,  0.00736663, ..., -0.07257564,\n",
       "        -0.02099411, -0.00794083]])"
      ]
     },
     "execution_count": 156,
     "metadata": {},
     "output_type": "execute_result"
    }
   ],
   "source": [
    "network[0].weights"
   ]
  },
  {
   "cell_type": "markdown",
   "metadata": {},
   "source": [
    "# Usando librerías"
   ]
  },
  {
   "cell_type": "markdown",
   "metadata": {},
   "source": [
    "## Keras"
   ]
  },
  {
   "cell_type": "code",
   "execution_count": 100,
   "metadata": {},
   "outputs": [],
   "source": [
    "from keras.layers import Dense\n",
    "from keras.models import Sequential\n",
    "from keras.optimizers import SGD"
   ]
  },
  {
   "cell_type": "code",
   "execution_count": 101,
   "metadata": {},
   "outputs": [],
   "source": [
    "model = Sequential()\n",
    "model.add(Dense(100, activation='relu'))\n",
    "model.add(Dense(200, activation='relu'))\n",
    "model.add(Dense(200, activation='relu'))\n",
    "model.add(Dense(100, activation='relu'))\n",
    "model.add(Dense(10, activation='softmax'))"
   ]
  },
  {
   "cell_type": "code",
   "execution_count": 102,
   "metadata": {},
   "outputs": [],
   "source": [
    "optimizer = SGD(lr=0.01)\n",
    "model.compile(optimizer=optimizer, loss='categorical_crossentropy', metrics=['accuracy'])"
   ]
  },
  {
   "cell_type": "code",
   "execution_count": 103,
   "metadata": {},
   "outputs": [
    {
     "name": "stdout",
     "output_type": "stream",
     "text": [
      "Train on 50000 samples, validate on 10000 samples\n",
      "Epoch 1/7\n",
      "50000/50000 [==============================] - 6s 118us/step - loss: 0.7775 - acc: 0.7801 - val_loss: 0.3892 - val_acc: 0.8786\n",
      "Epoch 2/7\n",
      "50000/50000 [==============================] - 5s 99us/step - loss: 0.2828 - acc: 0.9169 - val_loss: 0.2219 - val_acc: 0.9352\n",
      "Epoch 3/7\n",
      "50000/50000 [==============================] - 5s 97us/step - loss: 0.2188 - acc: 0.9356 - val_loss: 0.2276 - val_acc: 0.9349\n",
      "Epoch 4/7\n",
      "50000/50000 [==============================] - 5s 99us/step - loss: 0.1810 - acc: 0.9466 - val_loss: 0.1781 - val_acc: 0.9491\n",
      "Epoch 5/7\n",
      "50000/50000 [==============================] - 5s 96us/step - loss: 0.1539 - acc: 0.9544 - val_loss: 0.1444 - val_acc: 0.9587\n",
      "Epoch 6/7\n",
      "50000/50000 [==============================] - 5s 98us/step - loss: 0.1329 - acc: 0.9602 - val_loss: 0.1358 - val_acc: 0.9633\n",
      "Epoch 7/7\n",
      "50000/50000 [==============================] - 5s 94us/step - loss: 0.1170 - acc: 0.9648 - val_loss: 0.1190 - val_acc: 0.9676\n"
     ]
    },
    {
     "data": {
      "text/plain": [
       "<keras.callbacks.History at 0x7f50748ef0f0>"
      ]
     },
     "execution_count": 103,
     "metadata": {},
     "output_type": "execute_result"
    }
   ],
   "source": [
    "model.fit(x_train, y_train, batch_size=32, epochs=7, validation_data=(x_val, y_val))"
   ]
  },
  {
   "cell_type": "code",
   "execution_count": 104,
   "metadata": {},
   "outputs": [],
   "source": [
    "preds = model.predict(x_test)"
   ]
  },
  {
   "cell_type": "code",
   "execution_count": 105,
   "metadata": {},
   "outputs": [
    {
     "data": {
      "text/plain": [
       "0.966"
      ]
     },
     "execution_count": 105,
     "metadata": {},
     "output_type": "execute_result"
    }
   ],
   "source": [
    "accuracy_score(np.argmax(preds, axis=-1), np.argmax(y_test, axis=-1))"
   ]
  },
  {
   "cell_type": "code",
   "execution_count": 106,
   "metadata": {},
   "outputs": [
    {
     "data": {
      "text/plain": [
       "array([[ 968,    0,    5,    0,    1,    8,    9,    2,    5,    5],\n",
       "       [   0, 1119,    1,    1,    1,    1,    3,    9,    1,    6],\n",
       "       [   0,    5, 1003,    8,    6,    1,    2,   14,    5,    0],\n",
       "       [   0,    1,    3,  976,    0,    9,    2,    1,   11,    8],\n",
       "       [   1,    0,    4,    0,  947,    2,    7,    0,    5,   18],\n",
       "       [   2,    2,    2,   10,    1,  850,    3,    0,    5,    2],\n",
       "       [   4,    2,    3,    0,    5,   11,  927,    0,    7,    1],\n",
       "       [   2,    1,    8,    6,    2,    0,    1,  993,   11,   11],\n",
       "       [   2,    5,    3,    9,    2,    6,    4,    2,  924,    5],\n",
       "       [   1,    0,    0,    0,   17,    4,    0,    7,    0,  953]])"
      ]
     },
     "execution_count": 106,
     "metadata": {},
     "output_type": "execute_result"
    }
   ],
   "source": [
    "confusion_matrix(np.argmax(preds, axis=-1), np.argmax(y_test, axis=-1))"
   ]
  },
  {
   "cell_type": "code",
   "execution_count": null,
   "metadata": {},
   "outputs": [],
   "source": []
  },
  {
   "cell_type": "markdown",
   "metadata": {},
   "source": [
    "## Pytorch"
   ]
  },
  {
   "cell_type": "code",
   "execution_count": 109,
   "metadata": {},
   "outputs": [],
   "source": [
    "import torch.nn as nn\n",
    "import torch"
   ]
  },
  {
   "cell_type": "code",
   "execution_count": 110,
   "metadata": {},
   "outputs": [],
   "source": [
    "class Net(nn.Module):\n",
    "    def __init__(self):\n",
    "        super(Net, self).__init__()\n",
    "        self.fc1 = nn.Linear(x_train.shape[1], 100)\n",
    "        self.g1 = nn.ReLU()\n",
    "        self.fc2 = nn.Linear(100, 200)\n",
    "        self.g2 = nn.ReLU()\n",
    "        self.fc3 = nn.Linear(200, 200)\n",
    "        self.g3 = nn.ReLU()\n",
    "        self.fc4 = nn.Linear(200, 100)\n",
    "        self.g4 = nn.ReLU()\n",
    "        self.fc5 = nn.Linear(100, 10)\n",
    "        #self.g5 = nn.Softmax()\n",
    "        \n",
    "    def forward(self, x):\n",
    "        out = self.fc1(x)\n",
    "        out = self.g1(out)\n",
    "        out = self.fc2(out)\n",
    "        out = self.g2(out)\n",
    "        out = self.fc3(out)\n",
    "        out = self.g3(out)\n",
    "        out = self.fc4(out)\n",
    "        out = self.g4(out)\n",
    "        out = self.fc5(out)\n",
    "        #out = sefl.g5(out)\n",
    "        \n",
    "        return out"
   ]
  },
  {
   "cell_type": "code",
   "execution_count": 144,
   "metadata": {},
   "outputs": [],
   "source": [
    "net = Net()"
   ]
  },
  {
   "cell_type": "code",
   "execution_count": 147,
   "metadata": {},
   "outputs": [],
   "source": [
    "criterio = nn.CrossEntropyLoss()\n",
    "optimizer= torch.optim.SGD(net.parameters(), lr=0.1)"
   ]
  },
  {
   "cell_type": "code",
   "execution_count": 148,
   "metadata": {},
   "outputs": [
    {
     "name": "stderr",
     "output_type": "stream",
     "text": [
      "100%|██████████| 1562/1562 [00:02<00:00, 558.45it/s]\n",
      "/home/rafael/anaconda3/envs/machine_learning/lib/python3.6/site-packages/ipykernel_launcher.py:11: UserWarning: invalid index of a 0-dim tensor. This will be an error in PyTorch 0.5. Use tensor.item() to convert a 0-dim tensor to a Python number\n",
      "  # This is added back by InteractiveShellApp.init_path()\n",
      "  3%|▎         | 50/1562 [00:00<00:03, 492.74it/s]"
     ]
    },
    {
     "name": "stdout",
     "output_type": "stream",
     "text": [
      "tensor(0.0442)\n"
     ]
    },
    {
     "name": "stderr",
     "output_type": "stream",
     "text": [
      "100%|██████████| 1562/1562 [00:02<00:00, 558.20it/s]\n",
      "  3%|▎         | 50/1562 [00:00<00:03, 496.16it/s]"
     ]
    },
    {
     "name": "stdout",
     "output_type": "stream",
     "text": [
      "tensor(0.0497)\n"
     ]
    },
    {
     "name": "stderr",
     "output_type": "stream",
     "text": [
      "100%|██████████| 1562/1562 [00:02<00:00, 540.75it/s]\n",
      "  2%|▏         | 28/1562 [00:00<00:05, 278.70it/s]"
     ]
    },
    {
     "name": "stdout",
     "output_type": "stream",
     "text": [
      "tensor(0.0050)\n"
     ]
    },
    {
     "name": "stderr",
     "output_type": "stream",
     "text": [
      "100%|██████████| 1562/1562 [00:03<00:00, 488.29it/s]\n",
      "  3%|▎         | 48/1562 [00:00<00:03, 475.89it/s]"
     ]
    },
    {
     "name": "stdout",
     "output_type": "stream",
     "text": [
      "tensor(0.0089)\n"
     ]
    },
    {
     "name": "stderr",
     "output_type": "stream",
     "text": [
      "100%|██████████| 1562/1562 [00:02<00:00, 571.98it/s]\n",
      "  3%|▎         | 49/1562 [00:00<00:03, 487.28it/s]"
     ]
    },
    {
     "name": "stdout",
     "output_type": "stream",
     "text": [
      "tensor(0.0029)\n"
     ]
    },
    {
     "name": "stderr",
     "output_type": "stream",
     "text": [
      "100%|██████████| 1562/1562 [00:02<00:00, 562.06it/s]\n",
      "  3%|▎         | 52/1562 [00:00<00:02, 515.47it/s]"
     ]
    },
    {
     "name": "stdout",
     "output_type": "stream",
     "text": [
      "tensor(0.0008)\n"
     ]
    },
    {
     "name": "stderr",
     "output_type": "stream",
     "text": [
      "100%|██████████| 1562/1562 [00:02<00:00, 546.26it/s]"
     ]
    },
    {
     "name": "stdout",
     "output_type": "stream",
     "text": [
      "tensor(0.0012)\n"
     ]
    },
    {
     "name": "stderr",
     "output_type": "stream",
     "text": [
      "\n"
     ]
    }
   ],
   "source": [
    "for epoch in range(7):\n",
    "    for x_batch,y_batch in iterate_minibatches(x_train,np.argmax(y_train,axis=-1),batchsize=32,shuffle=True):\n",
    "        optimizer.zero_grad()\n",
    "        y_hat = net(torch.from_numpy(x_batch).float())\n",
    "        \n",
    "        loss = criterio(y_hat, torch.from_numpy(y_batch).long())\n",
    "        \n",
    "        loss.backward()\n",
    "        optimizer.step()\n",
    "        \n",
    "    print(loss.data[0])"
   ]
  },
  {
   "cell_type": "code",
   "execution_count": 125,
   "metadata": {},
   "outputs": [
    {
     "name": "stdout",
     "output_type": "stream",
     "text": [
      "torch.Size([10000, 10])\n"
     ]
    }
   ],
   "source": [
    "y_hat = net(torch.from_numpy(x_test).float())\n",
    "preds = y_hat.detach().numpy()\n",
    "print(y_hat.shape)"
   ]
  },
  {
   "cell_type": "code",
   "execution_count": 126,
   "metadata": {},
   "outputs": [
    {
     "data": {
      "text/plain": [
       "0.9768"
      ]
     },
     "execution_count": 126,
     "metadata": {},
     "output_type": "execute_result"
    }
   ],
   "source": [
    "accuracy_score(np.argmax(preds, axis=-1), np.argmax(y_test, axis=-1))"
   ]
  },
  {
   "cell_type": "code",
   "execution_count": 116,
   "metadata": {},
   "outputs": [
    {
     "data": {
      "text/plain": [
       "array([[ 958,    0,    7,    0,    1,    5,    6,    1,    2,    6],\n",
       "       [   0, 1112,    1,    1,    1,    1,    3,   10,    3,    6],\n",
       "       [   1,    3,  975,    8,    1,    1,    4,   16,    7,    2],\n",
       "       [   1,    3,   15,  972,    0,   21,    0,    7,   14,    8],\n",
       "       [   1,    0,    5,    0,  949,    3,    8,    7,    8,   33],\n",
       "       [   4,    1,    0,    7,    0,  829,    8,    1,   18,    7],\n",
       "       [   8,    4,   10,    0,    7,    9,  926,    0,    9,    1],\n",
       "       [   2,    1,    3,    7,    1,    1,    0,  948,    3,    6],\n",
       "       [   3,   10,   14,   12,    3,   17,    3,    0,  902,    6],\n",
       "       [   2,    1,    2,    3,   19,    5,    0,   38,    8,  934]])"
      ]
     },
     "execution_count": 116,
     "metadata": {},
     "output_type": "execute_result"
    }
   ],
   "source": [
    "confusion_matrix(np.argmax(preds, axis=-1), np.argmax(y_test, axis=-1))"
   ]
  },
  {
   "cell_type": "code",
   "execution_count": 155,
   "metadata": {},
   "outputs": [
    {
     "data": {
      "text/plain": [
       "Parameter containing:\n",
       "tensor([[ 0.0149,  0.0270,  0.0205,  ..., -0.0031,  0.0098, -0.0039],\n",
       "        [-0.0202, -0.0036,  0.0237,  ...,  0.0236, -0.0243,  0.0228],\n",
       "        [-0.0148,  0.0272, -0.0249,  ..., -0.0280, -0.0216,  0.0156],\n",
       "        ...,\n",
       "        [-0.0325, -0.0336, -0.0330,  ...,  0.0357, -0.0234, -0.0196],\n",
       "        [ 0.0032, -0.0265,  0.0101,  ...,  0.0230, -0.0311,  0.0105],\n",
       "        [-0.0180, -0.0165,  0.0340,  ..., -0.0206,  0.0235, -0.0134]],\n",
       "       requires_grad=True)"
      ]
     },
     "execution_count": 155,
     "metadata": {},
     "output_type": "execute_result"
    }
   ],
   "source": [
    "list(net.parameters())[0]"
   ]
  }
 ],
 "metadata": {
  "kernelspec": {
   "display_name": "Python (Machine Learning)",
   "language": "python",
   "name": "machine_learning"
  },
  "language_info": {
   "codemirror_mode": {
    "name": "ipython",
    "version": 3
   },
   "file_extension": ".py",
   "mimetype": "text/x-python",
   "name": "python",
   "nbconvert_exporter": "python",
   "pygments_lexer": "ipython3",
   "version": "3.6.6"
  }
 },
 "nbformat": 4,
 "nbformat_minor": 2
}

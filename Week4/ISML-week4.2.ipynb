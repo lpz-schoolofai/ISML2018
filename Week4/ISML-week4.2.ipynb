{
 "cells": [
  {
   "cell_type": "markdown",
   "metadata": {},
   "source": [
    "[![alt-text](./img/LP-School-Of-AI-black.png)](https://www.facebook.com/groups/1204328906374103/)"
   ]
  },
  {
   "cell_type": "markdown",
   "metadata": {},
   "source": [
    "# Introducción a Statistical Machine Learning\n",
    "## Semana IV: Regresión Logística y funciones de activación \n",
    "por: [Marco Antonio Vino](https://www.linkedin.com/in/mavino)\n",
    "### 4.1 Regresión Logística"
   ]
  },
  {
   "cell_type": "code",
   "execution_count": 1,
   "metadata": {},
   "outputs": [],
   "source": [
    "import numpy as np\n",
    "import pandas as pd\n",
    "import matplotlib.pyplot as plt"
   ]
  },
  {
   "cell_type": "markdown",
   "metadata": {},
   "source": [
    "#### ¿Qué tipo de dato es el que queremos predecir?\n",
    "\n",
    "* Variables cualitativas\n",
    "    * Variables cualitativas nominales\n",
    "    * Variables cualitativas ordinales\n",
    "* Variables cuantitativas\n",
    "    * Variables cuantitativas discretas \n",
    "    * Variables cuantitativas continuas"
   ]
  },
  {
   "cell_type": "code",
   "execution_count": 2,
   "metadata": {
    "scrolled": true
   },
   "outputs": [
    {
     "data": {
      "text/html": [
       "<div>\n",
       "<style scoped>\n",
       "    .dataframe tbody tr th:only-of-type {\n",
       "        vertical-align: middle;\n",
       "    }\n",
       "\n",
       "    .dataframe tbody tr th {\n",
       "        vertical-align: top;\n",
       "    }\n",
       "\n",
       "    .dataframe thead th {\n",
       "        text-align: right;\n",
       "    }\n",
       "</style>\n",
       "<table border=\"1\" class=\"dataframe\">\n",
       "  <thead>\n",
       "    <tr style=\"text-align: right;\">\n",
       "      <th></th>\n",
       "      <th>Y</th>\n",
       "      <th>X</th>\n",
       "    </tr>\n",
       "    <tr>\n",
       "      <th>FAMILY</th>\n",
       "      <th></th>\n",
       "      <th></th>\n",
       "    </tr>\n",
       "  </thead>\n",
       "  <tbody>\n",
       "    <tr>\n",
       "      <th>1</th>\n",
       "      <td>0</td>\n",
       "      <td>8</td>\n",
       "    </tr>\n",
       "    <tr>\n",
       "      <th>2</th>\n",
       "      <td>1</td>\n",
       "      <td>16</td>\n",
       "    </tr>\n",
       "    <tr>\n",
       "      <th>3</th>\n",
       "      <td>1</td>\n",
       "      <td>18</td>\n",
       "    </tr>\n",
       "    <tr>\n",
       "      <th>4</th>\n",
       "      <td>0</td>\n",
       "      <td>11</td>\n",
       "    </tr>\n",
       "    <tr>\n",
       "      <th>5</th>\n",
       "      <td>0</td>\n",
       "      <td>12</td>\n",
       "    </tr>\n",
       "  </tbody>\n",
       "</table>\n",
       "</div>"
      ],
      "text/plain": [
       "        Y   X\n",
       "FAMILY       \n",
       "1       0   8\n",
       "2       1  16\n",
       "3       1  18\n",
       "4       0  11\n",
       "5       0  12"
      ]
     },
     "execution_count": 2,
     "metadata": {},
     "output_type": "execute_result"
    }
   ],
   "source": [
    "HO = pd.read_excel(\"data/HomeOwernship.xls\",index_col=0)\n",
    "HO.head()"
   ]
  },
  {
   "cell_type": "code",
   "execution_count": 3,
   "metadata": {},
   "outputs": [],
   "source": [
    "X = pd.DataFrame(HO[\"X\"])\n",
    "pd.DataFrame.insert(X,0,\"X0\",1)\n",
    "X = X.as_matrix()\n",
    "Y = HO[\"Y\"].as_matrix()"
   ]
  },
  {
   "cell_type": "code",
   "execution_count": 4,
   "metadata": {},
   "outputs": [],
   "source": [
    "def reglin(X,Y):\n",
    "    return np.linalg.inv(X.T@X)@(X.T@Y)"
   ]
  },
  {
   "cell_type": "code",
   "execution_count": 5,
   "metadata": {},
   "outputs": [],
   "source": [
    "Theta = reglin(X,Y)\n",
    "h_x = X@Theta"
   ]
  },
  {
   "cell_type": "code",
   "execution_count": 6,
   "metadata": {
    "scrolled": false
   },
   "outputs": [
    {
     "data": {
      "text/plain": [
       "[<matplotlib.lines.Line2D at 0x7efd412bad30>]"
      ]
     },
     "execution_count": 6,
     "metadata": {},
     "output_type": "execute_result"
    },
    {
     "data": {
      "image/png": "[encoded data removed]",
      "text/plain": [
       "<Figure size 432x288 with 1 Axes>"
      ]
     },
     "metadata": {},
     "output_type": "display_data"
    }
   ],
   "source": [
    "plt.hlines(1,6,22, colors=\"g\")\n",
    "plt.hlines(0,6,22, colors=\"r\")\n",
    "plt.scatter(HO[\"X\"],HO[\"Y\"], s=50)\n",
    "plt.plot(HO[\"X\"],h_x) ## Regresion Lineal \n"
   ]
  },
  {
   "cell_type": "markdown",
   "metadata": {},
   "source": [
    "Definiendo nuestra función de costo:\n",
    "    $$ J(\\Theta|X)  = - \\frac{1}{n}\\sum_{i=1}^{n} [y_i log(\\hat{p_i}) + (1 - y_i)log(1 - \\hat{p_i})]$$"
   ]
  },
  {
   "cell_type": "markdown",
   "metadata": {},
   "source": [
    "### Construyendo la función de costo paso a paso \n",
    "\n",
    "Los datos observados con categorías 1 o 0:\n",
    "$$ y_i$$"
   ]
  },
  {
   "cell_type": "code",
   "execution_count": 7,
   "metadata": {
    "scrolled": false
   },
   "outputs": [
    {
     "data": {
      "text/plain": [
       "array([0, 1, 1, 0, 0, 1, 1, 0, 0, 0, 1, 1, 0, 1, 0, 1, 1, 0, 0, 1, 1, 1,\n",
       "       0, 0, 1, 0, 1, 1, 0, 0, 1, 0, 1, 1, 0, 0, 1, 1, 0, 1])"
      ]
     },
     "execution_count": 7,
     "metadata": {},
     "output_type": "execute_result"
    }
   ],
   "source": [
    "Y"
   ]
  },
  {
   "cell_type": "markdown",
   "metadata": {},
   "source": [
    "El Logaritmo de la probabilidad de éxito"
   ]
  },
  {
   "cell_type": "markdown",
   "metadata": {},
   "source": [
    "$$ log(\\hat{p_i})$$\n",
    "Para hallar ese valor sabemos que:\n",
    "$$\\hat{p_i} = \\sigma(z_i)$$\n",
    "Siendo $\\sigma$ la función sigmoide, y $z_i$:"
   ]
  },
  {
   "cell_type": "markdown",
   "metadata": {},
   "source": [
    "$$ z_i = \\theta_0 + \\theta_1x_{1i} + \\theta_2x_{2i} + \\theta_3x_{3i} + ...$$"
   ]
  },
  {
   "cell_type": "markdown",
   "metadata": {},
   "source": [
    "$$z_i = \\Theta X_i$$"
   ]
  },
  {
   "cell_type": "code",
   "execution_count": 8,
   "metadata": {},
   "outputs": [
    {
     "name": "stdout",
     "output_type": "stream",
     "text": [
      "[[ 1  8]\n",
      " [ 1 16]\n",
      " [ 1 18]\n",
      " [ 1 11]\n",
      " [ 1 12]\n",
      " [ 1 19]\n",
      " [ 1 20]\n",
      " [ 1 13]\n",
      " [ 1  9]\n",
      " [ 1 10]\n",
      " [ 1 17]\n",
      " [ 1 18]\n",
      " [ 1 14]\n",
      " [ 1 20]\n",
      " [ 1  6]\n",
      " [ 1 19]\n",
      " [ 1 16]\n",
      " [ 1 10]\n",
      " [ 1  8]\n",
      " [ 1 18]\n",
      " [ 1 22]\n",
      " [ 1 16]\n",
      " [ 1 12]\n",
      " [ 1 11]\n",
      " [ 1 16]\n",
      " [ 1 11]\n",
      " [ 1 20]\n",
      " [ 1 18]\n",
      " [ 1 11]\n",
      " [ 1 10]\n",
      " [ 1 17]\n",
      " [ 1 13]\n",
      " [ 1 21]\n",
      " [ 1 20]\n",
      " [ 1 11]\n",
      " [ 1  8]\n",
      " [ 1 17]\n",
      " [ 1 16]\n",
      " [ 1  7]\n",
      " [ 1 17]]\n",
      "(40, 2)\n"
     ]
    }
   ],
   "source": [
    "print(X)\n",
    "print(X.shape)"
   ]
  },
  {
   "cell_type": "code",
   "execution_count": 9,
   "metadata": {},
   "outputs": [
    {
     "name": "stdout",
     "output_type": "stream",
     "text": [
      "[-0.94568607  0.10213098]\n",
      "(2,)\n"
     ]
    }
   ],
   "source": [
    "print(Theta)\n",
    "print(Theta.shape)"
   ]
  },
  {
   "cell_type": "code",
   "execution_count": 10,
   "metadata": {
    "scrolled": true
   },
   "outputs": [
    {
     "name": "stdout",
     "output_type": "stream",
     "text": [
      "(40,)\n"
     ]
    },
    {
     "data": {
      "text/plain": [
       "array([-0.12863825,  0.68840956,  0.89267152,  0.17775468,  0.27988565,\n",
       "        0.99480249,  1.09693347,  0.38201663, -0.02650728,  0.0756237 ,\n",
       "        0.79054054,  0.89267152,  0.48414761,  1.09693347, -0.33290021,\n",
       "        0.99480249,  0.68840956,  0.0756237 , -0.12863825,  0.89267152,\n",
       "        1.30119543,  0.68840956,  0.27988565,  0.17775468,  0.68840956,\n",
       "        0.17775468,  1.09693347,  0.89267152,  0.17775468,  0.0756237 ,\n",
       "        0.79054054,  0.38201663,  1.19906445,  1.09693347,  0.17775468,\n",
       "       -0.12863825,  0.79054054,  0.68840956, -0.23076923,  0.79054054])"
      ]
     },
     "execution_count": 10,
     "metadata": {},
     "output_type": "execute_result"
    }
   ],
   "source": [
    "Z = X@Theta\n",
    "print(Z.shape)\n",
    "Z"
   ]
  },
  {
   "cell_type": "markdown",
   "metadata": {},
   "source": [
    "Hallando el valor de probabilidad de la predicción:\n",
    "$$\\hat{p_i} = \\sigma(z_i) = \\frac{1}{1+e^{-z}}$$"
   ]
  },
  {
   "cell_type": "code",
   "execution_count": 11,
   "metadata": {},
   "outputs": [],
   "source": [
    "def sigmoide(Z):\n",
    "    return 1/(1+np.exp(-Z))"
   ]
  },
  {
   "cell_type": "code",
   "execution_count": 12,
   "metadata": {},
   "outputs": [],
   "source": [
    "p_hat = sigmoide(Z)"
   ]
  },
  {
   "cell_type": "code",
   "execution_count": 13,
   "metadata": {
    "scrolled": false
   },
   "outputs": [
    {
     "data": {
      "text/plain": [
       "(40,)"
      ]
     },
     "execution_count": 13,
     "metadata": {},
     "output_type": "execute_result"
    }
   ],
   "source": [
    "p_hat.shape"
   ]
  },
  {
   "cell_type": "markdown",
   "metadata": {},
   "source": [
    "Aplicando el logaritmo :\n",
    "$$ log(\\hat{p_i})$$"
   ]
  },
  {
   "cell_type": "code",
   "execution_count": 14,
   "metadata": {
    "scrolled": true
   },
   "outputs": [
    {
     "data": {
      "text/plain": [
       "array([-0.75953336, -0.40704681, -0.3432777 , -0.60821424, -0.56296456,\n",
       "       -0.31466217, -0.28810204, -0.5202711 , -0.70648865, -0.65605003,\n",
       "       -0.37404292, -0.3432777 , -0.48009147, -0.28810204, -0.8733866 ,\n",
       "       -0.31466217, -0.40704681, -0.65605003, -0.75953336, -0.3432777 ,\n",
       "       -0.24075256, -0.40704681, -0.56296456, -0.60821424, -0.40704681,\n",
       "       -0.60821424, -0.28810204, -0.3432777 , -0.60821424, -0.65605003,\n",
       "       -0.37404292, -0.5202711 , -0.2634991 , -0.28810204, -0.60821424,\n",
       "       -0.75953336, -0.37404292, -0.40704681, -0.81517388, -0.37404292])"
      ]
     },
     "execution_count": 14,
     "metadata": {},
     "output_type": "execute_result"
    }
   ],
   "source": [
    "lp_hat = np.log(p_hat)\n",
    "lp_hat"
   ]
  },
  {
   "cell_type": "markdown",
   "metadata": {},
   "source": [
    "Calculando la Función de costo :\n",
    "    $$ J(\\Theta|X)  = - \\frac{1}{n}\\sum_{i=1}^{n} [y_i log(\\hat{p_i}) + (1 - y_i)log(1 - \\hat{p_i})]$$"
   ]
  },
  {
   "cell_type": "markdown",
   "metadata": {},
   "source": [
    "Considerando esta primera parte \n",
    "$$ [y_i log(\\hat{p_i}) + (1 - y_i)log(1 - \\hat{p_i})]$$"
   ]
  },
  {
   "cell_type": "code",
   "execution_count": 15,
   "metadata": {
    "scrolled": false
   },
   "outputs": [
    {
     "data": {
      "text/plain": [
       "array([-0.6308951 , -0.40704681, -0.3432777 , -0.78596892, -0.84285021,\n",
       "       -0.31466217, -0.28810204, -0.90228773, -0.67998137, -0.73167373,\n",
       "       -0.37404292, -0.3432777 , -0.96423908, -0.28810204, -0.5404864 ,\n",
       "       -0.31466217, -0.40704681, -0.73167373, -0.6308951 , -0.3432777 ,\n",
       "       -0.24075256, -0.40704681, -0.84285021, -0.78596892, -0.40704681,\n",
       "       -0.78596892, -0.28810204, -0.3432777 , -0.78596892, -0.73167373,\n",
       "       -0.37404292, -0.90228773, -0.2634991 , -0.28810204, -0.78596892,\n",
       "       -0.6308951 , -0.37404292, -0.40704681, -0.58440465, -0.37404292])"
      ]
     },
     "execution_count": 15,
     "metadata": {},
     "output_type": "execute_result"
    }
   ],
   "source": [
    "i = Y*lp_hat + (1-Y)*np.log(1 - p_hat)\n",
    "i"
   ]
  },
  {
   "cell_type": "markdown",
   "metadata": {},
   "source": [
    "Aplicando la sumatoria y diviendo entre n"
   ]
  },
  {
   "cell_type": "code",
   "execution_count": 16,
   "metadata": {
    "scrolled": true
   },
   "outputs": [
    {
     "data": {
      "text/plain": [
       "0.5366859793353862"
      ]
     },
     "execution_count": 16,
     "metadata": {},
     "output_type": "execute_result"
    }
   ],
   "source": [
    "J = -np.sum(i)/i.shape[0]\n",
    "J"
   ]
  },
  {
   "cell_type": "code",
   "execution_count": 17,
   "metadata": {},
   "outputs": [],
   "source": [
    "def costFunc(X,Y,Theta):\n",
    "    return -np.sum( Y*np.log(sigmoide(X@Theta)) + (1-Y)*np.log(1-sigmoide(X@Theta)))/Y.shape[0]"
   ]
  },
  {
   "cell_type": "code",
   "execution_count": 18,
   "metadata": {},
   "outputs": [
    {
     "data": {
      "text/plain": [
       "0.5366859793353862"
      ]
     },
     "execution_count": 18,
     "metadata": {},
     "output_type": "execute_result"
    }
   ],
   "source": [
    "costFunc(X,Y,Theta)"
   ]
  },
  {
   "cell_type": "markdown",
   "metadata": {},
   "source": [
    "Hallando el gradiente\n",
    "$$\\frac{\\partial J}{\\partial \\theta_j} = \\frac{1}{n}\\sum_{i=1}^{n}[\\hat{p_i} - y_i]x_{i}^{(j)}$$"
   ]
  },
  {
   "cell_type": "code",
   "execution_count": 19,
   "metadata": {},
   "outputs": [
    {
     "data": {
      "text/plain": [
       "array([ 0.09781833, -0.10462449])"
      ]
     },
     "execution_count": 19,
     "metadata": {},
     "output_type": "execute_result"
    }
   ],
   "source": [
    "(X.T@(sigmoide(X@Theta) - Y))/Y.shape[0]"
   ]
  },
  {
   "cell_type": "code",
   "execution_count": 20,
   "metadata": {},
   "outputs": [],
   "source": [
    "def costFunc(X,Y,Theta):\n",
    "    J =  -np.sum( Y*np.log(sigmoide(X@Theta)) + (1-Y)*np.log(1-sigmoide(X@Theta)))/Y.shape[0]\n",
    "    J_grad = (X.T@(sigmoide(X@Theta) - Y))/Y.shape[0]\n",
    "    return J, J_grad"
   ]
  },
  {
   "cell_type": "markdown",
   "metadata": {},
   "source": [
    "### GRADIENT DESCENT"
   ]
  },
  {
   "cell_type": "markdown",
   "metadata": {},
   "source": [
    "* Inicializamos los Parámetros de manera aleatoria\n",
    "* Por el número de iteraciones definidas. \n",
    "    * Calculamos el valor del los gradientes\n",
    "    * Actualizamos los parámetros\n"
   ]
  },
  {
   "cell_type": "markdown",
   "metadata": {},
   "source": [
    "#### Inicializando los parámetros de manera aleatoria"
   ]
  },
  {
   "cell_type": "code",
   "execution_count": 21,
   "metadata": {},
   "outputs": [],
   "source": [
    "np.random.seed(12345)\n",
    "Theta = np.random.randn(X.shape[1])"
   ]
  },
  {
   "cell_type": "markdown",
   "metadata": {},
   "source": [
    "Obtenemos el gradiente:"
   ]
  },
  {
   "cell_type": "markdown",
   "metadata": {},
   "source": [
    "$$\\frac{\\partial J}{\\partial \\theta_j} = \\frac{1}{n}\\sum_{i=1}^{n}[\\hat{p_i} - y_i]x_{i}^{(j)}$$"
   ]
  },
  {
   "cell_type": "code",
   "execution_count": 22,
   "metadata": {},
   "outputs": [],
   "source": [
    "J , J_grad = costFunc(X,Y,Theta)"
   ]
  },
  {
   "cell_type": "code",
   "execution_count": 23,
   "metadata": {},
   "outputs": [
    {
     "data": {
      "text/plain": [
       "(2.2447678622766625, array([0.46795735, 4.81571816]))"
      ]
     },
     "execution_count": 23,
     "metadata": {},
     "output_type": "execute_result"
    }
   ],
   "source": [
    "costFunc(X,Y,Theta)"
   ]
  },
  {
   "cell_type": "markdown",
   "metadata": {},
   "source": [
    "#### Regla de ACTUALIZACIÓN DE LOS PARÁMETROS"
   ]
  },
  {
   "cell_type": "markdown",
   "metadata": {},
   "source": [
    "$$ \\theta_i := \\theta_i - \\alpha \\frac{\\partial J}{\\partial \\theta_i}$$"
   ]
  },
  {
   "cell_type": "code",
   "execution_count": 24,
   "metadata": {},
   "outputs": [],
   "source": [
    "def act_Theta(Theta,J_grad,alpha=0.001):\n",
    "    return  Theta - alpha*J_grad"
   ]
  },
  {
   "cell_type": "code",
   "execution_count": 25,
   "metadata": {},
   "outputs": [],
   "source": [
    "def gradientDescent(X,Y,Theta_gd,alpha=0.01,iteraciones=1000):\n",
    "    histJ = []\n",
    "    histJ_grad= []\n",
    "    J , J_grad = costFunc(X,Y,Theta_gd)\n",
    "    histJ.append(J)\n",
    "    histJ_grad.append(J_grad)\n",
    "    for i in range(1,iteraciones+1):\n",
    "        Theta_gd = act_Theta(Theta_gd,J_grad,alpha=alpha)\n",
    "        J , J_grad = costFunc(X,Y,Theta_gd)\n",
    "        histJ.append(J)\n",
    "        histJ_grad.append(J_grad)\n",
    "        if i%500 ==0:\n",
    "            print(\"Función de costo en la iteración \", i, \": \",round(J,6))\n",
    "    return Theta_gd , histJ, histJ_grad"
   ]
  },
  {
   "cell_type": "code",
   "execution_count": 26,
   "metadata": {},
   "outputs": [
    {
     "name": "stdout",
     "output_type": "stream",
     "text": [
      "Función de costo en la iteración  500 :  0.552323\n",
      "Función de costo en la iteración  1000 :  0.499957\n",
      "Función de costo en la iteración  1500 :  0.456661\n",
      "Función de costo en la iteración  2000 :  0.420554\n",
      "Función de costo en la iteración  2500 :  0.390142\n",
      "Función de costo en la iteración  3000 :  0.364267\n",
      "Función de costo en la iteración  3500 :  0.34203\n",
      "Función de costo en la iteración  4000 :  0.32274\n",
      "Función de costo en la iteración  4500 :  0.305859\n",
      "Función de costo en la iteración  5000 :  0.290967\n",
      "Función de costo en la iteración  5500 :  0.277733\n",
      "Función de costo en la iteración  6000 :  0.265893\n",
      "Función de costo en la iteración  6500 :  0.255236\n",
      "Función de costo en la iteración  7000 :  0.24559\n",
      "Función de costo en la iteración  7500 :  0.236815\n",
      "Función de costo en la iteración  8000 :  0.228795\n",
      "Función de costo en la iteración  8500 :  0.221433\n",
      "Función de costo en la iteración  9000 :  0.21465\n",
      "Función de costo en la iteración  9500 :  0.208377\n",
      "Función de costo en la iteración  10000 :  0.202557\n"
     ]
    }
   ],
   "source": [
    "Theta_opt , J_hist , histJ_grad = gradientDescent(X,Y,Theta,iteraciones=10**4)"
   ]
  },
  {
   "cell_type": "code",
   "execution_count": 27,
   "metadata": {
    "scrolled": true
   },
   "outputs": [
    {
     "data": {
      "text/plain": [
       "[<matplotlib.lines.Line2D at 0x7efd410ebc50>]"
      ]
     },
     "execution_count": 27,
     "metadata": {},
     "output_type": "execute_result"
    },
    {
     "data": {
      "image/png": "[encoded data removed]",
      "text/plain": [
       "<Figure size 432x288 with 1 Axes>"
      ]
     },
     "metadata": {},
     "output_type": "display_data"
    }
   ],
   "source": [
    "plt.plot(J_hist)"
   ]
  },
  {
   "cell_type": "code",
   "execution_count": 28,
   "metadata": {},
   "outputs": [
    {
     "data": {
      "text/plain": [
       "array([ 0.03342061, -0.0022695 ])"
      ]
     },
     "execution_count": 28,
     "metadata": {},
     "output_type": "execute_result"
    }
   ],
   "source": [
    "histJ_grad[-1]"
   ]
  },
  {
   "cell_type": "code",
   "execution_count": 29,
   "metadata": {},
   "outputs": [
    {
     "data": {
      "text/plain": [
       "array([-6.22742551,  0.45870685])"
      ]
     },
     "execution_count": 29,
     "metadata": {},
     "output_type": "execute_result"
    }
   ],
   "source": [
    "Theta_opt"
   ]
  },
  {
   "cell_type": "markdown",
   "metadata": {},
   "source": [
    "#### Aplicandola a nuestro modelo"
   ]
  },
  {
   "cell_type": "code",
   "execution_count": 30,
   "metadata": {
    "scrolled": true
   },
   "outputs": [
    {
     "data": {
      "text/plain": [
       "<matplotlib.collections.PathCollection at 0x7efd4105ce48>"
      ]
     },
     "execution_count": 30,
     "metadata": {},
     "output_type": "execute_result"
    },
    {
     "data": {
      "image/png": "[encoded data removed]",
      "text/plain": [
       "<Figure size 432x288 with 1 Axes>"
      ]
     },
     "metadata": {},
     "output_type": "display_data"
    }
   ],
   "source": [
    "plt.hlines(1,6,22, colors=\"g\")\n",
    "plt.hlines(0,6,22, colors=\"r\")\n",
    "plt.hlines(0.5,6,22, colors=\"yellow\")\n",
    "plt.scatter(HO[\"X\"],HO[\"Y\"], s=50)\n",
    "#plt.plot(HO[\"X\"],h_x) ## Regresion Lineal \n",
    "plt.scatter(HO[\"X\"],sigmoide(X@Theta_opt), c = \"orange\")"
   ]
  },
  {
   "cell_type": "code",
   "execution_count": 31,
   "metadata": {},
   "outputs": [
    {
     "data": {
      "text/plain": [
       "array([0.07190618, 0.75248021, 0.88383901, 0.23475563, 0.32674518,\n",
       "       0.92329661, 0.95010784, 0.43432259, 0.10918785, 0.16241649,\n",
       "       0.82786784, 0.88383901, 0.54846496, 0.95010784, 0.03002662,\n",
       "       0.92329661, 0.75248021, 0.16241649, 0.07190618, 0.88383901,\n",
       "       0.9794499 , 0.75248021, 0.32674518, 0.23475563, 0.75248021,\n",
       "       0.23475563, 0.95010784, 0.88383901, 0.23475563, 0.16241649,\n",
       "       0.82786784, 0.43432259, 0.96787345, 0.95010784, 0.23475563,\n",
       "       0.07190618, 0.82786784, 0.75248021, 0.046687  , 0.82786784])"
      ]
     },
     "execution_count": 31,
     "metadata": {},
     "output_type": "execute_result"
    }
   ],
   "source": [
    "sigmoide(X@Theta_opt)"
   ]
  },
  {
   "cell_type": "markdown",
   "metadata": {},
   "source": [
    "### Conteo de los casos de predicciones acertadas"
   ]
  },
  {
   "cell_type": "code",
   "execution_count": 32,
   "metadata": {
    "scrolled": false
   },
   "outputs": [],
   "source": [
    "def aciertos(X,Theta_opt,Y): \n",
    "    Salida = np.where(sigmoide(X@Theta_opt)>= 0.5, 1, 0)\n",
    "    return Salida, np.sum(Y == Salida)/Y.shape[0]"
   ]
  },
  {
   "cell_type": "code",
   "execution_count": 33,
   "metadata": {
    "scrolled": false
   },
   "outputs": [
    {
     "data": {
      "text/plain": [
       "0.975"
      ]
     },
     "execution_count": 33,
     "metadata": {},
     "output_type": "execute_result"
    }
   ],
   "source": [
    "Y_hat , count = aciertos(X,Theta_opt,Y)\n",
    "count"
   ]
  },
  {
   "cell_type": "code",
   "execution_count": 34,
   "metadata": {},
   "outputs": [],
   "source": [
    "import itertools\n",
    "from sklearn.metrics import confusion_matrix\n",
    "\n",
    "def plot_confusion_matrix(cm, normalize=False,\n",
    "                          title='Confusion matrix',\n",
    "                          cmap=plt.cm.Oranges):\n",
    "    \"\"\"\n",
    "    This function prints and plots the confusion matrix.\n",
    "    Normalization can be applied by setting `normalize=True`.\n",
    "    \"\"\"\n",
    "    if normalize:\n",
    "        cm = cm.astype('float') / cm.sum(axis=1)[:, np.newaxis]\n",
    "        print(\"Normalized confusion matrix\")\n",
    "    else:\n",
    "        print('Confusion matrix, without normalization')\n",
    "\n",
    "    plt.imshow(cm, interpolation='nearest', cmap=cmap)\n",
    "    plt.title(title)\n",
    "    fmt = '.2f' if normalize else 'd'\n",
    "    thresh = cm.max() / 2.\n",
    "    for i, j in itertools.product(range(cm.shape[0]), range(cm.shape[1])):\n",
    "        plt.text(j, i, format(cm[i, j], fmt),\n",
    "                 horizontalalignment=\"center\",\n",
    "                 color=\"white\" if cm[i, j] > thresh else \"black\")\n",
    "\n",
    "    plt.ylabel('True label')\n",
    "    plt.xlabel('Predicted label')\n",
    "    plt.tight_layout()"
   ]
  },
  {
   "cell_type": "code",
   "execution_count": 35,
   "metadata": {},
   "outputs": [
    {
     "data": {
      "text/plain": [
       "array([0, 1, 1, 0, 0, 1, 1, 0, 0, 0, 1, 1, 1, 1, 0, 1, 1, 0, 0, 1, 1, 1,\n",
       "       0, 0, 1, 0, 1, 1, 0, 0, 1, 0, 1, 1, 0, 0, 1, 1, 0, 1])"
      ]
     },
     "execution_count": 35,
     "metadata": {},
     "output_type": "execute_result"
    }
   ],
   "source": [
    "Y_hat = np.where(sigmoide(X@Theta_opt)>=0.5,1,0)\n",
    "Y_hat"
   ]
  },
  {
   "cell_type": "code",
   "execution_count": 36,
   "metadata": {
    "scrolled": true
   },
   "outputs": [
    {
     "data": {
      "text/plain": [
       "array([0, 1, 1, 0, 0, 1, 1, 0, 0, 0, 1, 1, 0, 1, 0, 1, 1, 0, 0, 1, 1, 1,\n",
       "       0, 0, 1, 0, 1, 1, 0, 0, 1, 0, 1, 1, 0, 0, 1, 1, 0, 1])"
      ]
     },
     "execution_count": 36,
     "metadata": {},
     "output_type": "execute_result"
    }
   ],
   "source": [
    "Y"
   ]
  },
  {
   "cell_type": "code",
   "execution_count": 37,
   "metadata": {},
   "outputs": [
    {
     "data": {
      "text/plain": [
       "array([[18,  1],\n",
       "       [ 0, 21]])"
      ]
     },
     "execution_count": 37,
     "metadata": {},
     "output_type": "execute_result"
    }
   ],
   "source": [
    "MC = confusion_matrix(Y,Y_hat)\n",
    "MC"
   ]
  },
  {
   "cell_type": "code",
   "execution_count": 38,
   "metadata": {
    "scrolled": false
   },
   "outputs": [
    {
     "name": "stdout",
     "output_type": "stream",
     "text": [
      "Confusion matrix, without normalization\n"
     ]
    },
    {
     "data": {
      "image/png": "[encoded data removed]",
      "text/plain": [
       "<Figure size 432x288 with 1 Axes>"
      ]
     },
     "metadata": {},
     "output_type": "display_data"
    }
   ],
   "source": [
    "plot_confusion_matrix(MC)"
   ]
  },
  {
   "cell_type": "markdown",
   "metadata": {},
   "source": [
    " "
   ]
  },
  {
   "cell_type": "markdown",
   "metadata": {},
   "source": [
    " "
   ]
  },
  {
   "cell_type": "markdown",
   "metadata": {},
   "source": [
    " "
   ]
  },
  {
   "cell_type": "markdown",
   "metadata": {},
   "source": [
    " "
   ]
  },
  {
   "cell_type": "markdown",
   "metadata": {},
   "source": [
    " "
   ]
  },
  {
   "cell_type": "markdown",
   "metadata": {},
   "source": [
    "### En base a esta herramienta podemos realizar el análisis de problemas más complejos "
   ]
  },
  {
   "cell_type": "markdown",
   "metadata": {},
   "source": [
    " "
   ]
  },
  {
   "cell_type": "markdown",
   "metadata": {},
   "source": [
    " "
   ]
  },
  {
   "cell_type": "markdown",
   "metadata": {},
   "source": [
    " "
   ]
  },
  {
   "cell_type": "code",
   "execution_count": 39,
   "metadata": {},
   "outputs": [],
   "source": [
    "from sklearn.linear_model import LogisticRegression\n",
    "lrVivienda = LogisticRegression(random_state=0).fit(X, Y)"
   ]
  },
  {
   "cell_type": "code",
   "execution_count": 40,
   "metadata": {
    "scrolled": true
   },
   "outputs": [
    {
     "data": {
      "text/plain": [
       "array([ True,  True,  True,  True,  True,  True,  True,  True,  True,\n",
       "        True,  True,  True,  True,  True,  True,  True,  True,  True,\n",
       "        True,  True,  True,  True,  True,  True,  True,  True,  True,\n",
       "        True,  True,  True,  True,  True,  True,  True,  True,  True,\n",
       "        True,  True,  True,  True])"
      ]
     },
     "execution_count": 40,
     "metadata": {},
     "output_type": "execute_result"
    }
   ],
   "source": [
    "lrVivienda.predict(X) == Y_hat"
   ]
  },
  {
   "cell_type": "code",
   "execution_count": 41,
   "metadata": {
    "scrolled": true
   },
   "outputs": [
    {
     "name": "stdout",
     "output_type": "stream",
     "text": [
      "Confusion matrix, without normalization\n"
     ]
    },
    {
     "data": {
      "image/png": "[encoded data removed]",
      "text/plain": [
       "<Figure size 432x288 with 1 Axes>"
      ]
     },
     "metadata": {},
     "output_type": "display_data"
    }
   ],
   "source": [
    "plot_confusion_matrix(confusion_matrix(Y,lrVivienda.predict(X)))"
   ]
  },
  {
   "cell_type": "markdown",
   "metadata": {},
   "source": [
    "# Reconocimiento clasificador de imagenes binario  "
   ]
  },
  {
   "cell_type": "markdown",
   "metadata": {},
   "source": [
    "Fuente de los datos: \n",
    "        ![alt-text](img/J6VS.png)"
   ]
  },
  {
   "cell_type": "markdown",
   "metadata": {},
   "source": [
    "![alt-text](img/1.png)"
   ]
  },
  {
   "cell_type": "markdown",
   "metadata": {},
   "source": [
    "![alt-text](img/s.png)"
   ]
  },
  {
   "cell_type": "code",
   "execution_count": 42,
   "metadata": {},
   "outputs": [],
   "source": [
    "D = np.fromfile(\"data/digits\",sep=\",\")"
   ]
  },
  {
   "cell_type": "code",
   "execution_count": 43,
   "metadata": {},
   "outputs": [],
   "source": [
    "D = D.reshape((1000,400))"
   ]
  },
  {
   "cell_type": "code",
   "execution_count": 44,
   "metadata": {},
   "outputs": [
    {
     "data": {
      "text/plain": [
       "array([255., 255., 255., 255., 255., 255., 255., 255., 255., 255., 255.,\n",
       "       255., 255., 255., 255., 255., 255., 255., 255., 255., 255., 255.,\n",
       "       255., 255., 255., 255., 255., 255., 255., 255., 255., 255., 255.,\n",
       "       255., 255., 255., 255., 255., 255., 255., 255., 255., 255., 255.,\n",
       "       255., 250., 228., 219., 219., 219., 219., 240., 255., 255., 255.,\n",
       "       255., 255., 255., 255., 255., 255., 255., 255., 255., 255., 219.,\n",
       "        59.,  26.,  49.,  49.,  29., 128., 239., 255., 255., 255., 255.,\n",
       "       255., 255., 255., 255., 255., 255., 255., 247., 155.,  32., 166.,\n",
       "       255., 255., 176.,  79., 150., 239., 255., 255., 255., 255., 255.,\n",
       "       255., 255., 255., 255., 255., 231.,  73., 121., 255., 255., 255.,\n",
       "       255., 255., 114., 145., 240., 255., 255., 255., 255., 255., 255.,\n",
       "       255., 255., 255., 255., 255., 255., 255., 255., 255., 255., 255.,\n",
       "       209.,  50., 201., 254., 255., 255., 255., 255., 255., 255., 255.,\n",
       "       255., 255., 255., 255., 255., 255., 255., 255., 255., 255.,  68.,\n",
       "       120., 241., 255., 255., 255., 255., 255., 255., 255., 255., 255.,\n",
       "       255., 255., 255., 248., 205., 194., 241., 231.,  58.,   0., 221.,\n",
       "       255., 255., 255., 255., 255., 255., 255., 255., 255., 255., 255.,\n",
       "       255., 247., 147.,  70., 116., 104.,  24.,  73., 233., 255., 255.,\n",
       "       255., 255., 255., 255., 255., 255., 255., 255., 255., 255., 255.,\n",
       "       209., 144., 111.,  35.,  99., 206., 251., 255., 255., 255., 255.,\n",
       "       255., 255., 255., 255., 255., 255., 255., 255., 255., 255., 255.,\n",
       "       237.,  77., 180., 253., 255., 255., 255., 255., 255., 255., 255.,\n",
       "       255., 255., 234.,  97., 139., 255., 255., 255., 255., 255., 190.,\n",
       "       108., 222., 255., 255., 255., 255., 255., 255., 255., 255., 255.,\n",
       "       221.,   0.,  68., 255., 255., 255., 255., 255., 255.,  68., 145.,\n",
       "       245., 255., 255., 255., 255., 255., 255., 255., 255., 245., 146.,\n",
       "        46., 200., 255., 255., 255., 255., 255.,  68.,  33., 227., 255.,\n",
       "       255., 255., 255., 255., 255., 255., 255., 255., 204.,  10.,  67.,\n",
       "       184., 255., 255., 255., 255.,  68.,   0., 221., 255., 255., 255.,\n",
       "       255., 255., 255., 255., 255., 255., 245., 207., 144.,  31.,  89.,\n",
       "       120., 174., 105.,  13.,   0., 221., 255., 255., 255., 255., 255.,\n",
       "       255., 255., 255., 255., 255., 255., 243., 219., 156.,  45.,  22.,\n",
       "        10.,  38., 185., 250., 255., 255., 255., 255., 255., 255., 255.,\n",
       "       255., 255., 255., 255., 255., 255., 247., 234., 231., 231., 235.,\n",
       "       251., 255., 255., 255., 255., 255., 255., 255., 255., 255., 255.,\n",
       "       255., 255., 255., 255., 255., 255., 255., 255., 255., 255., 255.,\n",
       "       255., 255., 255., 255.])"
      ]
     },
     "execution_count": 44,
     "metadata": {},
     "output_type": "execute_result"
    }
   ],
   "source": [
    "D[0]"
   ]
  },
  {
   "cell_type": "code",
   "execution_count": 45,
   "metadata": {
    "scrolled": true
   },
   "outputs": [
    {
     "name": "stdout",
     "output_type": "stream",
     "text": [
      "420\n"
     ]
    },
    {
     "data": {
      "text/plain": [
       "<matplotlib.image.AxesImage at 0x7efd2fb6b438>"
      ]
     },
     "execution_count": 45,
     "metadata": {},
     "output_type": "execute_result"
    },
    {
     "data": {
      "image/png": "[encoded data removed]",
      "text/plain": [
       "<Figure size 432x288 with 1 Axes>"
      ]
     },
     "metadata": {},
     "output_type": "display_data"
    }
   ],
   "source": [
    "Numi = np.random.randint(0,500)\n",
    "print(Numi)\n",
    "plt.imshow(D[Numi].reshape((20,20)), cmap=\"binary\")"
   ]
  },
  {
   "cell_type": "code",
   "execution_count": 46,
   "metadata": {},
   "outputs": [
    {
     "data": {
      "text/plain": [
       "array([255., 255., 255., 255., 255., 255., 255., 255., 255., 255., 255.,\n",
       "       255., 255., 255., 255., 255., 255., 255., 255., 255., 255., 255.,\n",
       "       255., 255., 255., 255., 255., 255., 255., 255., 255., 249., 226.,\n",
       "       210., 235., 255., 255., 255., 255., 255., 255., 255., 255., 255.,\n",
       "       255., 255., 255., 255., 255., 251., 204., 141.,  88.,  50., 130.,\n",
       "       234., 255., 255., 255., 255., 255., 255., 255., 255., 255., 255.,\n",
       "       255., 255., 194., 135., 125., 130., 110.,  48.,  51., 202., 255.,\n",
       "       255., 255., 255., 255., 255., 255., 255., 255., 255., 255., 186.,\n",
       "        92., 111., 206., 253., 210., 100.,  74., 212., 255., 255., 255.,\n",
       "       255., 255., 255., 255., 255., 255., 255., 183., 151., 186., 233.,\n",
       "       253., 255., 210., 133., 160., 246., 255., 255., 255., 255., 255.,\n",
       "       255., 255., 255., 255., 188.,  82., 136., 228., 255., 254., 220.,\n",
       "       140., 120., 217., 255., 255., 255., 255., 255., 255., 255., 255.,\n",
       "       255., 246., 159., 133., 210., 255., 253., 214.,  98.,  37., 142.,\n",
       "       238., 253., 255., 255., 255., 255., 255., 255., 255., 255., 219.,\n",
       "       114., 142., 224., 255., 211., 103.,  44.,  53.,  48., 128., 233.,\n",
       "       255., 255., 255., 255., 255., 255., 255., 255., 255., 255., 255.,\n",
       "       255., 225., 157., 127., 182., 190.,  74.,  51., 202., 255., 255.,\n",
       "       255., 255., 255., 255., 255., 255., 255., 255., 255., 255., 225.,\n",
       "       228., 253., 255., 210.,  95.,  59., 205., 255., 255., 255., 255.,\n",
       "       255., 255., 255., 255., 255., 255., 255., 255., 255., 255., 255.,\n",
       "       255., 210., 128., 146., 241., 255., 255., 255., 255., 255., 255.,\n",
       "       255., 255., 255., 255., 255., 255., 255., 255., 255., 252., 202.,\n",
       "       134., 181., 255., 255., 255., 255., 255., 255., 255., 255., 255.,\n",
       "       255., 255., 255., 255., 255., 255., 253., 215., 153., 169., 252.,\n",
       "       255., 255., 255., 255., 255., 255., 255., 255., 255., 243., 211.,\n",
       "       220., 245., 255., 253., 212., 143., 158., 246., 255., 255., 255.,\n",
       "       255., 255., 255., 255., 255., 255., 255., 202.,  51.,  75., 191.,\n",
       "       222., 182.,  98., 100., 216., 255., 255., 255., 255., 255., 255.,\n",
       "       255., 255., 255., 255., 255., 228., 113.,  46.,  81.,  84.,  92.,\n",
       "       132., 194., 255., 255., 255., 255., 255., 255., 255., 255., 255.,\n",
       "       255., 255., 255., 255., 226., 175., 155., 155., 204., 251., 255.,\n",
       "       255., 255., 255., 255., 255., 255., 255., 255., 255., 255., 255.,\n",
       "       255., 255., 255., 255., 255., 255., 255., 255., 255., 255., 255.,\n",
       "       255., 255., 255., 255., 255., 255., 255., 255., 255., 255., 255.,\n",
       "       255., 255., 255., 255., 255., 255., 255., 255., 255., 255., 255.,\n",
       "       255., 255., 255., 255.])"
      ]
     },
     "execution_count": 46,
     "metadata": {},
     "output_type": "execute_result"
    }
   ],
   "source": [
    "D[420]"
   ]
  },
  {
   "cell_type": "code",
   "execution_count": 47,
   "metadata": {
    "scrolled": false
   },
   "outputs": [
    {
     "name": "stdout",
     "output_type": "stream",
     "text": [
      "925\n"
     ]
    },
    {
     "data": {
      "text/plain": [
       "<matplotlib.image.AxesImage at 0x7efd31c1fcf8>"
      ]
     },
     "execution_count": 47,
     "metadata": {},
     "output_type": "execute_result"
    },
    {
     "data": {
      "image/png": "[encoded data removed]",
      "text/plain": [
       "<Figure size 432x288 with 1 Axes>"
      ]
     },
     "metadata": {},
     "output_type": "display_data"
    }
   ],
   "source": [
    "Ni = np.random.randint(500,1000)\n",
    "print(Ni)\n",
    "plt.imshow(D[Ni].reshape((20,20)), cmap=\"binary\")"
   ]
  },
  {
   "cell_type": "code",
   "execution_count": 48,
   "metadata": {},
   "outputs": [],
   "source": [
    "D1 = D/255"
   ]
  },
  {
   "cell_type": "markdown",
   "metadata": {},
   "source": [
    " "
   ]
  },
  {
   "cell_type": "code",
   "execution_count": 49,
   "metadata": {},
   "outputs": [
    {
     "data": {
      "text/plain": [
       "array([[1., 1., 1., ..., 1., 1., 1.],\n",
       "       [1., 1., 1., ..., 1., 1., 1.],\n",
       "       [1., 1., 1., ..., 1., 1., 1.],\n",
       "       ...,\n",
       "       [1., 1., 1., ..., 1., 1., 1.],\n",
       "       [1., 1., 1., ..., 1., 1., 1.],\n",
       "       [1., 1., 1., ..., 1., 1., 1.]])"
      ]
     },
     "execution_count": 49,
     "metadata": {},
     "output_type": "execute_result"
    }
   ],
   "source": [
    "X = np.insert(D1,0,np.ones(D.shape[0]),axis=1)\n",
    "X"
   ]
  },
  {
   "cell_type": "markdown",
   "metadata": {},
   "source": [
    " "
   ]
  },
  {
   "cell_type": "code",
   "execution_count": 50,
   "metadata": {},
   "outputs": [
    {
     "data": {
      "text/plain": [
       "array([0., 0., 0., 0., 0., 0., 0., 0., 0., 0., 0., 0., 0., 0., 0., 0., 0.,\n",
       "       0., 0., 0., 0., 0., 0., 0., 0., 0., 0., 0., 0., 0., 0., 0., 0., 0.,\n",
       "       0., 0., 0., 0., 0., 0., 0., 0., 0., 0., 0., 0., 0., 0., 0., 0., 0.,\n",
       "       0., 0., 0., 0., 0., 0., 0., 0., 0., 0., 0., 0., 0., 0., 0., 0., 0.,\n",
       "       0., 0., 0., 0., 0., 0., 0., 0., 0., 0., 0., 0., 0., 0., 0., 0., 0.,\n",
       "       0., 0., 0., 0., 0., 0., 0., 0., 0., 0., 0., 0., 0., 0., 0., 0., 0.,\n",
       "       0., 0., 0., 0., 0., 0., 0., 0., 0., 0., 0., 0., 0., 0., 0., 0., 0.,\n",
       "       0., 0., 0., 0., 0., 0., 0., 0., 0., 0., 0., 0., 0., 0., 0., 0., 0.,\n",
       "       0., 0., 0., 0., 0., 0., 0., 0., 0., 0., 0., 0., 0., 0., 0., 0., 0.,\n",
       "       0., 0., 0., 0., 0., 0., 0., 0., 0., 0., 0., 0., 0., 0., 0., 0., 0.,\n",
       "       0., 0., 0., 0., 0., 0., 0., 0., 0., 0., 0., 0., 0., 0., 0., 0., 0.,\n",
       "       0., 0., 0., 0., 0., 0., 0., 0., 0., 0., 0., 0., 0., 0., 0., 0., 0.,\n",
       "       0., 0., 0., 0., 0., 0., 0., 0., 0., 0., 0., 0., 0., 0., 0., 0., 0.,\n",
       "       0., 0., 0., 0., 0., 0., 0., 0., 0., 0., 0., 0., 0., 0., 0., 0., 0.,\n",
       "       0., 0., 0., 0., 0., 0., 0., 0., 0., 0., 0., 0., 0., 0., 0., 0., 0.,\n",
       "       0., 0., 0., 0., 0., 0., 0., 0., 0., 0., 0., 0., 0., 0., 0., 0., 0.,\n",
       "       0., 0., 0., 0., 0., 0., 0., 0., 0., 0., 0., 0., 0., 0., 0., 0., 0.,\n",
       "       0., 0., 0., 0., 0., 0., 0., 0., 0., 0., 0., 0., 0., 0., 0., 0., 0.,\n",
       "       0., 0., 0., 0., 0., 0., 0., 0., 0., 0., 0., 0., 0., 0., 0., 0., 0.,\n",
       "       0., 0., 0., 0., 0., 0., 0., 0., 0., 0., 0., 0., 0., 0., 0., 0., 0.,\n",
       "       0., 0., 0., 0., 0., 0., 0., 0., 0., 0., 0., 0., 0., 0., 0., 0., 0.,\n",
       "       0., 0., 0., 0., 0., 0., 0., 0., 0., 0., 0., 0., 0., 0., 0., 0., 0.,\n",
       "       0., 0., 0., 0., 0., 0., 0., 0., 0., 0., 0., 0., 0., 0., 0., 0., 0.,\n",
       "       0., 0., 0., 0., 0., 0., 0., 0., 0., 0., 0., 0., 0., 0., 0., 0., 0.,\n",
       "       0., 0., 0., 0., 0., 0., 0., 0., 0., 0., 0., 0., 0., 0., 0., 0., 0.,\n",
       "       0., 0., 0., 0., 0., 0., 0., 0., 0., 0., 0., 0., 0., 0., 0., 0., 0.,\n",
       "       0., 0., 0., 0., 0., 0., 0., 0., 0., 0., 0., 0., 0., 0., 0., 0., 0.,\n",
       "       0., 0., 0., 0., 0., 0., 0., 0., 0., 0., 0., 0., 0., 0., 0., 0., 0.,\n",
       "       0., 0., 0., 0., 0., 0., 0., 0., 0., 0., 0., 0., 0., 0., 0., 0., 0.,\n",
       "       0., 0., 0., 0., 0., 0., 0., 1., 1., 1., 1., 1., 1., 1., 1., 1., 1.,\n",
       "       1., 1., 1., 1., 1., 1., 1., 1., 1., 1., 1., 1., 1., 1., 1., 1., 1.,\n",
       "       1., 1., 1., 1., 1., 1., 1., 1., 1., 1., 1., 1., 1., 1., 1., 1., 1.,\n",
       "       1., 1., 1., 1., 1., 1., 1., 1., 1., 1., 1., 1., 1., 1., 1., 1., 1.,\n",
       "       1., 1., 1., 1., 1., 1., 1., 1., 1., 1., 1., 1., 1., 1., 1., 1., 1.,\n",
       "       1., 1., 1., 1., 1., 1., 1., 1., 1., 1., 1., 1., 1., 1., 1., 1., 1.,\n",
       "       1., 1., 1., 1., 1., 1., 1., 1., 1., 1., 1., 1., 1., 1., 1., 1., 1.,\n",
       "       1., 1., 1., 1., 1., 1., 1., 1., 1., 1., 1., 1., 1., 1., 1., 1., 1.,\n",
       "       1., 1., 1., 1., 1., 1., 1., 1., 1., 1., 1., 1., 1., 1., 1., 1., 1.,\n",
       "       1., 1., 1., 1., 1., 1., 1., 1., 1., 1., 1., 1., 1., 1., 1., 1., 1.,\n",
       "       1., 1., 1., 1., 1., 1., 1., 1., 1., 1., 1., 1., 1., 1., 1., 1., 1.,\n",
       "       1., 1., 1., 1., 1., 1., 1., 1., 1., 1., 1., 1., 1., 1., 1., 1., 1.,\n",
       "       1., 1., 1., 1., 1., 1., 1., 1., 1., 1., 1., 1., 1., 1., 1., 1., 1.,\n",
       "       1., 1., 1., 1., 1., 1., 1., 1., 1., 1., 1., 1., 1., 1., 1., 1., 1.,\n",
       "       1., 1., 1., 1., 1., 1., 1., 1., 1., 1., 1., 1., 1., 1., 1., 1., 1.,\n",
       "       1., 1., 1., 1., 1., 1., 1., 1., 1., 1., 1., 1., 1., 1., 1., 1., 1.,\n",
       "       1., 1., 1., 1., 1., 1., 1., 1., 1., 1., 1., 1., 1., 1., 1., 1., 1.,\n",
       "       1., 1., 1., 1., 1., 1., 1., 1., 1., 1., 1., 1., 1., 1., 1., 1., 1.,\n",
       "       1., 1., 1., 1., 1., 1., 1., 1., 1., 1., 1., 1., 1., 1., 1., 1., 1.,\n",
       "       1., 1., 1., 1., 1., 1., 1., 1., 1., 1., 1., 1., 1., 1., 1., 1., 1.,\n",
       "       1., 1., 1., 1., 1., 1., 1., 1., 1., 1., 1., 1., 1., 1., 1., 1., 1.,\n",
       "       1., 1., 1., 1., 1., 1., 1., 1., 1., 1., 1., 1., 1., 1., 1., 1., 1.,\n",
       "       1., 1., 1., 1., 1., 1., 1., 1., 1., 1., 1., 1., 1., 1., 1., 1., 1.,\n",
       "       1., 1., 1., 1., 1., 1., 1., 1., 1., 1., 1., 1., 1., 1., 1., 1., 1.,\n",
       "       1., 1., 1., 1., 1., 1., 1., 1., 1., 1., 1., 1., 1., 1., 1., 1., 1.,\n",
       "       1., 1., 1., 1., 1., 1., 1., 1., 1., 1., 1., 1., 1., 1., 1., 1., 1.,\n",
       "       1., 1., 1., 1., 1., 1., 1., 1., 1., 1., 1., 1., 1., 1., 1., 1., 1.,\n",
       "       1., 1., 1., 1., 1., 1., 1., 1., 1., 1., 1., 1., 1., 1., 1., 1., 1.,\n",
       "       1., 1., 1., 1., 1., 1., 1., 1., 1., 1., 1., 1., 1., 1., 1., 1., 1.,\n",
       "       1., 1., 1., 1., 1., 1., 1., 1., 1., 1., 1., 1., 1., 1.])"
      ]
     },
     "execution_count": 50,
     "metadata": {},
     "output_type": "execute_result"
    }
   ],
   "source": [
    "Y = np.zeros(X.shape[0])\n",
    "Y[500:] = 1 \n",
    "Y"
   ]
  },
  {
   "cell_type": "markdown",
   "metadata": {},
   "source": [
    " "
   ]
  },
  {
   "cell_type": "markdown",
   "metadata": {},
   "source": [
    "### GRADIENT DESCENT"
   ]
  },
  {
   "cell_type": "markdown",
   "metadata": {},
   "source": [
    "* Inicializamos los Parámetros de manera aleatoria\n",
    "* Por el número de iteraciones definidas. \n",
    "    * Calculamos el valor del los gradientes\n",
    "    * Actualizamos los parámetros\n"
   ]
  },
  {
   "cell_type": "code",
   "execution_count": 51,
   "metadata": {},
   "outputs": [],
   "source": [
    "#Theta = np.random.choice(np.linspace(-1,1),401)\n",
    "Theta = np.random.choice(np.linspace(-0.001,0.001),401)"
   ]
  },
  {
   "cell_type": "code",
   "execution_count": 52,
   "metadata": {
    "scrolled": false
   },
   "outputs": [
    {
     "data": {
      "text/plain": [
       "[<matplotlib.lines.Line2D at 0x7efd411fd0b8>]"
      ]
     },
     "execution_count": 52,
     "metadata": {},
     "output_type": "execute_result"
    },
    {
     "data": {
      "image/png": "[encoded data removed]",
      "text/plain": [
       "<Figure size 432x288 with 1 Axes>"
      ]
     },
     "metadata": {},
     "output_type": "display_data"
    }
   ],
   "source": [
    "Theta_opt, J_hist, histJ_Grad = gradientDescent(X,Y,Theta,alpha=0.0001,iteraciones=10)\n",
    "plt.plot(J_hist)"
   ]
  },
  {
   "cell_type": "code",
   "execution_count": 53,
   "metadata": {},
   "outputs": [
    {
     "data": {
      "text/plain": [
       "array([-1.76638337e-04, -1.40295466e-03, -1.40295466e-03, -1.40295466e-03,\n",
       "       -1.39903391e-03, -2.50951409e-04, -1.76638337e-04, -1.76638337e-04,\n",
       "       -1.76638337e-04, -1.76638337e-04, -1.76638337e-04, -1.76638337e-04,\n",
       "       -1.76638337e-04, -1.76638337e-04, -1.76638337e-04, -1.76638337e-04,\n",
       "       -1.76638337e-04, -1.76638337e-04, -1.76638337e-04, -1.76638337e-04,\n",
       "       -1.76638337e-04, -1.04519340e-03, -1.04519340e-03, -1.03931193e-03,\n",
       "       -6.86692487e-04,  5.51681400e-03,  2.52083771e-02,  5.69835011e-03,\n",
       "       -5.71313524e-03, -2.84378332e-03, -1.75049098e-03, -1.65441113e-03,\n",
       "       -4.92238857e-03, -1.41701994e-02, -4.86037193e-03,  1.54774453e-02,\n",
       "        1.11618574e-03, -1.23751389e-04, -1.76638337e-04, -1.76638337e-04,\n",
       "       -1.76638337e-04, -9.05481968e-04, -9.05481968e-04, -8.58430163e-04,\n",
       "        1.99726071e-03,  2.29138814e-02,  6.65596546e-02,  4.17876122e-02,\n",
       "       -3.20973904e-02, -6.69316458e-02, -6.56998979e-02, -7.62196685e-02,\n",
       "       -9.10650341e-02, -8.40687739e-02,  3.76155497e-03,  3.87759617e-02,\n",
       "        1.55909924e-03,  5.89188037e-04, -1.70756861e-04, -1.76638337e-04,\n",
       "       -1.76638337e-04, -1.17676451e-03, -1.17676451e-03, -1.12971271e-03,\n",
       "        3.30344851e-03,  2.67821576e-02,  5.94482884e-02,  2.67047186e-02,\n",
       "       -3.62853540e-02, -1.06416229e-01, -1.40263493e-01, -1.36131381e-01,\n",
       "       -1.18041686e-01, -1.10723136e-01, -2.18346361e-02,  1.30359411e-02,\n",
       "       -3.14200199e-03,  1.73690905e-03, -1.29586531e-04, -1.76638337e-04,\n",
       "       -1.76638337e-04, -3.90383093e-04, -3.90383093e-04, -3.43331288e-04,\n",
       "        3.30344851e-03,  2.72446385e-02,  4.94084266e-02,  1.81686876e-02,\n",
       "        2.70363422e-02, -4.99364766e-02, -8.65118256e-02, -6.13456166e-02,\n",
       "       -3.27796509e-02, -6.10776119e-02, -2.76754121e-02,  2.05509683e-02,\n",
       "        7.21119846e-03,  2.86286781e-03, -1.29586531e-04, -1.76638337e-04,\n",
       "       -1.76638337e-04, -8.74555077e-04, -8.74555077e-04, -8.27503272e-04,\n",
       "        3.04487200e-03,  1.59841368e-02,  4.22107494e-02,  1.61906455e-02,\n",
       "        3.53741895e-02,  8.08545471e-03, -5.63535198e-03, -8.85648003e-03,\n",
       "       -3.57386771e-02, -4.90354821e-02,  6.94548570e-04,  5.40971908e-02,\n",
       "        1.94030302e-02,  3.30344851e-03, -1.29586531e-04, -1.76638337e-04,\n",
       "       -1.76638337e-04, -2.36046903e-03, -2.36046903e-03, -2.31341722e-03,\n",
       "        2.45332923e-03,  1.88239550e-02,  6.87536158e-02,  5.14657353e-02,\n",
       "        1.15306097e-02,  6.73070604e-02,  2.59410894e-02, -6.33639357e-04,\n",
       "       -2.83833417e-02, -9.03003378e-02,  6.61465180e-03,  6.65957457e-02,\n",
       "        1.12771151e-02,  3.30344851e-03, -1.29586531e-04, -1.76638337e-04,\n",
       "       -1.76638337e-04, -2.64782800e-03, -2.64782800e-03, -2.60077620e-03,\n",
       "        1.38927949e-03,  2.62352534e-02,  1.16508236e-01,  1.09082807e-01,\n",
       "        8.30620742e-02,  1.06634691e-01,  6.89163716e-02, -1.52898790e-02,\n",
       "       -8.01949959e-02, -1.23955877e-01,  2.88413204e-02,  7.90044264e-02,\n",
       "        9.14282331e-03,  3.30344851e-03, -1.29586531e-04, -1.76638337e-04,\n",
       "       -1.76638337e-04, -2.25343160e-03, -2.25343160e-03, -2.20637980e-03,\n",
       "        1.22665524e-03,  1.84368904e-02,  1.05941711e-01,  9.75409974e-02,\n",
       "        6.64696016e-02,  1.09837682e-01,  6.87352167e-02, -7.33799908e-02,\n",
       "       -1.38582538e-01, -1.42278895e-01, -3.60323747e-02,  5.08647950e-02,\n",
       "        1.11652525e-02,  3.30344851e-03, -1.29586531e-04, -1.76638337e-04,\n",
       "       -1.76638337e-04, -9.24667246e-04, -9.24667246e-04, -8.77615441e-04,\n",
       "        2.55541960e-03,  2.76979636e-02,  1.37467225e-01,  1.31509565e-01,\n",
       "        2.40771230e-02,  5.20050367e-02,  3.41930428e-02, -3.26561826e-02,\n",
       "       -8.51709345e-02, -1.02584124e-01, -4.29888795e-02,  2.80826665e-02,\n",
       "        6.97918186e-03,  3.28775778e-03, -1.29586531e-04, -1.76638337e-04,\n",
       "       -1.76638337e-04, -6.98463745e-04, -6.98463745e-04, -6.51411940e-04,\n",
       "        2.78162310e-03,  2.92389108e-02,  1.38875509e-01,  1.17815593e-01,\n",
       "        8.73706265e-03, -6.01201700e-03,  7.66592052e-02,  1.32329438e-01,\n",
       "        3.14941335e-02, -7.27885632e-02, -2.24858681e-02,  4.56759468e-02,\n",
       "        8.96620021e-03,  3.17792273e-03, -1.29586531e-04, -1.76638337e-04,\n",
       "       -1.76638337e-04, -1.23073676e-03, -1.23073676e-03, -1.18368495e-03,\n",
       "        2.24935009e-03,  2.78456664e-02,  1.40462060e-01,  1.10875829e-01,\n",
       "        3.19999846e-03, -3.99645530e-04,  1.69194336e-02,  1.14182825e-01,\n",
       "        1.32221948e-01,  1.14645841e-02,  4.19804024e-02,  7.19140424e-02,\n",
       "        2.05070574e-02,  2.92304813e-03, -1.29586531e-04, -1.76638337e-04,\n",
       "       -1.76638337e-04, -1.49770403e-03, -1.49770403e-03, -1.45065223e-03,\n",
       "        1.98238281e-03,  2.73420813e-02,  1.26127907e-01,  1.01739621e-01,\n",
       "       -1.18121412e-02, -8.55461410e-04,  1.01797149e-03,  3.88717121e-02,\n",
       "        1.34550592e-01,  8.26161141e-02,  8.15605675e-02,  7.94944024e-02,\n",
       "        1.40280140e-02,  2.80936346e-03, -1.29586531e-04, -1.76638337e-04,\n",
       "       -1.76638337e-04, -1.92611774e-03, -1.92611774e-03, -1.87906594e-03,\n",
       "        1.55396910e-03,  2.38527764e-02,  1.00501571e-01,  8.38132724e-02,\n",
       "       -3.40722783e-02, -1.03567673e-02, -3.76191486e-04,  1.01795873e-02,\n",
       "        4.87638646e-02,  6.33308251e-02,  6.55161320e-02,  4.85271817e-02,\n",
       "       -6.37655429e-03,  2.62952172e-03, -1.29586531e-04, -1.76638337e-04,\n",
       "       -1.76638337e-04, -2.48655221e-03, -2.48655221e-03, -2.43950040e-03,\n",
       "        1.44440488e-03,  3.53949960e-03,  6.14620693e-02,  5.80002442e-02,\n",
       "       -2.05034807e-02, -3.62319510e-02, -1.02464413e-02, -2.49828615e-02,\n",
       "       -3.67407260e-02,  3.59588247e-02,  3.32115195e-02,  9.28884794e-03,\n",
       "       -1.00241857e-02,  2.56713525e-03, -1.29586531e-04, -1.76638337e-04,\n",
       "       -1.76638337e-04, -2.05920558e-03, -2.05920558e-03, -2.01215377e-03,\n",
       "        1.46204758e-03, -5.46344805e-03,  3.61723683e-03, -1.71052164e-02,\n",
       "       -5.30132969e-02, -4.55695959e-02, -7.98591011e-02, -9.97871724e-02,\n",
       "       -5.40436909e-02,  2.20702588e-02,  1.61114520e-02,  8.93286684e-04,\n",
       "       -2.61001466e-03,  2.59068671e-03, -1.29586531e-04, -1.76638337e-04,\n",
       "       -1.76638337e-04, -1.70538261e-03, -1.70538261e-03, -1.65833081e-03,\n",
       "        1.71807094e-03,  3.37604376e-03,  3.80781136e-03, -4.87612639e-02,\n",
       "       -1.31786610e-01, -1.34494934e-01, -1.36061938e-01, -1.25201400e-01,\n",
       "       -8.87420043e-02, -5.30168212e-02, -9.29373435e-03,  1.99735978e-02,\n",
       "        1.98527529e-02,  2.95477691e-03, -1.29586531e-04, -1.76638337e-04,\n",
       "       -1.76638337e-04, -3.60813275e-04, -3.60813275e-04, -3.13761469e-04,\n",
       "        1.00265091e-03,  4.74165239e-03,  5.40519854e-02,  2.82978336e-02,\n",
       "       -7.94402150e-02, -8.99566939e-02, -6.29688113e-02, -5.60412357e-02,\n",
       "       -6.72105668e-02, -5.12360549e-02,  1.00224922e-02,  4.95240460e-02,\n",
       "        2.07028824e-02,  2.77487288e-03, -1.29586531e-04, -1.76638337e-04,\n",
       "       -1.76638337e-04, -1.76638337e-04, -1.76638337e-04, -1.70756861e-04,\n",
       "       -9.04230273e-05,  4.89400516e-04,  3.37996808e-02,  2.74468345e-02,\n",
       "       -4.23452729e-03, -1.30582868e-03, -4.41185670e-04, -7.75844964e-04,\n",
       "       -2.09506149e-03, -5.91064091e-03,  1.15887133e-03,  1.86860224e-02,\n",
       "        4.82428996e-03,  4.03043397e-04, -1.70756861e-04, -1.76638337e-04,\n",
       "       -1.76638337e-04, -1.76638337e-04, -1.76638337e-04, -1.76638337e-04,\n",
       "       -1.76638337e-04, -1.76638337e-04, -1.76638337e-04, -1.76638337e-04,\n",
       "       -1.76638337e-04, -1.76638337e-04, -1.76638337e-04, -1.76638337e-04,\n",
       "       -1.76638337e-04, -1.76638337e-04, -1.76638337e-04, -1.76638337e-04,\n",
       "       -1.76638337e-04, -1.76638337e-04, -1.76638337e-04, -1.76638337e-04,\n",
       "       -1.76638337e-04])"
      ]
     },
     "execution_count": 53,
     "metadata": {},
     "output_type": "execute_result"
    }
   ],
   "source": [
    "histJ_Grad[-1]"
   ]
  },
  {
   "cell_type": "code",
   "execution_count": 54,
   "metadata": {
    "scrolled": false
   },
   "outputs": [
    {
     "data": {
      "text/plain": [
       "0.421"
      ]
     },
     "execution_count": 54,
     "metadata": {},
     "output_type": "execute_result"
    }
   ],
   "source": [
    "Y_hat , count = aciertos(X,Theta_opt,Y)\n",
    "count "
   ]
  },
  {
   "cell_type": "code",
   "execution_count": 55,
   "metadata": {
    "scrolled": true
   },
   "outputs": [
    {
     "name": "stdout",
     "output_type": "stream",
     "text": [
      "Observacion #644\n",
      "Salida Esperada: 1.0\n",
      "Probabilidad: 0.499906586664067\n"
     ]
    },
    {
     "data": {
      "image/png": "[encoded data removed]",
      "text/plain": [
       "<Figure size 432x288 with 1 Axes>"
      ]
     },
     "metadata": {},
     "output_type": "display_data"
    }
   ],
   "source": [
    "Ejem_i = np.random.randint(0,1000)\n",
    "print(\"Observacion #\" + str(Ejem_i))\n",
    "print(\"Salida Esperada:\", Y[Ejem_i])\n",
    "print(\"Probabilidad:\", sigmoide(np.insert(D1[Ejem_i],0,1)@Theta_opt))\n",
    "plt.imshow(D1[Ejem_i].reshape((20,20)), cmap=\"binary\",)\n",
    "plt.show()"
   ]
  },
  {
   "cell_type": "code",
   "execution_count": 56,
   "metadata": {},
   "outputs": [
    {
     "name": "stdout",
     "output_type": "stream",
     "text": [
      "0.421\n",
      "Normalized confusion matrix\n"
     ]
    },
    {
     "data": {
      "image/png": "[encoded data removed]",
      "text/plain": [
       "<Figure size 432x288 with 1 Axes>"
      ]
     },
     "metadata": {},
     "output_type": "display_data"
    }
   ],
   "source": [
    "print(count)\n",
    "plot_confusion_matrix(confusion_matrix(Y,Y_hat), True)"
   ]
  },
  {
   "cell_type": "code",
   "execution_count": 57,
   "metadata": {
    "scrolled": false
   },
   "outputs": [
    {
     "data": {
      "text/plain": [
       "[<matplotlib.lines.Line2D at 0x7efd41131710>]"
      ]
     },
     "execution_count": 57,
     "metadata": {},
     "output_type": "execute_result"
    },
    {
     "data": {
      "image/png": "[encoded data removed]",
      "text/plain": [
       "<Figure size 432x288 with 1 Axes>"
      ]
     },
     "metadata": {},
     "output_type": "display_data"
    }
   ],
   "source": [
    "Theta_opt, J_hist, histJ_grad = gradientDescent(X,Y,Theta,alpha=0.001,iteraciones=10**2)\n",
    "plt.plot(J_hist)"
   ]
  },
  {
   "cell_type": "code",
   "execution_count": 58,
   "metadata": {},
   "outputs": [
    {
     "data": {
      "text/plain": [
       "0.61891050137955"
      ]
     },
     "execution_count": 58,
     "metadata": {},
     "output_type": "execute_result"
    }
   ],
   "source": [
    "J_hist[-1]"
   ]
  },
  {
   "cell_type": "code",
   "execution_count": 59,
   "metadata": {},
   "outputs": [
    {
     "data": {
      "text/plain": [
       "1.0"
      ]
     },
     "execution_count": 59,
     "metadata": {},
     "output_type": "execute_result"
    }
   ],
   "source": [
    "Y_hat , count = aciertos(X,Theta_opt,Y)\n",
    "count"
   ]
  },
  {
   "cell_type": "markdown",
   "metadata": {},
   "source": [
    " "
   ]
  },
  {
   "cell_type": "code",
   "execution_count": 60,
   "metadata": {
    "scrolled": true
   },
   "outputs": [
    {
     "name": "stdout",
     "output_type": "stream",
     "text": [
      "Observacion #630\n",
      "Salida Esperada: 1.0\n",
      "Probabilidad: 0.5329419069254948\n"
     ]
    },
    {
     "data": {
      "image/png": "[encoded data removed]",
      "text/plain": [
       "<Figure size 432x288 with 1 Axes>"
      ]
     },
     "metadata": {},
     "output_type": "display_data"
    }
   ],
   "source": [
    "Ejem_i = np.random.randint(0,1000)\n",
    "print(\"Observacion #\" + str(Ejem_i))\n",
    "print(\"Salida Esperada:\", Y[Ejem_i])\n",
    "print(\"Probabilidad:\", sigmoide(np.insert(D1[Ejem_i],0,1)@Theta_opt))\n",
    "plt.imshow(D1[Ejem_i].reshape((20,20)), cmap=\"binary\",)\n",
    "plt.show()"
   ]
  },
  {
   "cell_type": "code",
   "execution_count": 61,
   "metadata": {},
   "outputs": [
    {
     "name": "stdout",
     "output_type": "stream",
     "text": [
      "1.0\n",
      "Normalized confusion matrix\n"
     ]
    },
    {
     "data": {
      "image/png": "[encoded data removed]",
      "text/plain": [
       "<Figure size 432x288 with 1 Axes>"
      ]
     },
     "metadata": {},
     "output_type": "display_data"
    }
   ],
   "source": [
    "print(count)\n",
    "plot_confusion_matrix(confusion_matrix(Y,Y_hat), True)"
   ]
  },
  {
   "cell_type": "markdown",
   "metadata": {},
   "source": [
    "# ¿Qué pasa si mejoro mi entrenamiento?"
   ]
  },
  {
   "cell_type": "code",
   "execution_count": 62,
   "metadata": {
    "scrolled": false
   },
   "outputs": [
    {
     "name": "stdout",
     "output_type": "stream",
     "text": [
      "Función de costo en la iteración  500 :  0.080083\n",
      "Función de costo en la iteración  1000 :  0.042379\n"
     ]
    },
    {
     "data": {
      "text/plain": [
       "[<matplotlib.lines.Line2D at 0x7efd2f9a4c88>]"
      ]
     },
     "execution_count": 62,
     "metadata": {},
     "output_type": "execute_result"
    },
    {
     "data": {
      "image/png": "[encoded data removed]",
      "text/plain": [
       "<Figure size 432x288 with 1 Axes>"
      ]
     },
     "metadata": {},
     "output_type": "display_data"
    }
   ],
   "source": [
    "Theta_opt, J_hist, histJ_grad = gradientDescent(X,Y,Theta,alpha=0.01,iteraciones=10**3)\n",
    "\n",
    "plt.plot(J_hist)"
   ]
  },
  {
   "cell_type": "code",
   "execution_count": 63,
   "metadata": {},
   "outputs": [
    {
     "name": "stdout",
     "output_type": "stream",
     "text": [
      "1.0\n",
      "Normalized confusion matrix\n"
     ]
    },
    {
     "data": {
      "image/png": "[encoded data removed]",
      "text/plain": [
       "<Figure size 432x288 with 1 Axes>"
      ]
     },
     "metadata": {},
     "output_type": "display_data"
    }
   ],
   "source": [
    "Y_hat , count = aciertos(X,Theta_opt,Y)\n",
    "print(count)\n",
    "plot_confusion_matrix(confusion_matrix(Y,Y_hat), True)"
   ]
  },
  {
   "cell_type": "markdown",
   "metadata": {},
   "source": [
    " "
   ]
  },
  {
   "cell_type": "code",
   "execution_count": 64,
   "metadata": {
    "scrolled": false
   },
   "outputs": [
    {
     "name": "stdout",
     "output_type": "stream",
     "text": [
      "Observacion #608\n",
      "Salida Esperada: 1.0\n",
      "Probabilidad: 0.9702030686777376\n"
     ]
    },
    {
     "data": {
      "image/png": "[encoded data removed]",
      "text/plain": [
       "<Figure size 432x288 with 1 Axes>"
      ]
     },
     "metadata": {},
     "output_type": "display_data"
    }
   ],
   "source": [
    "Ejem_i = np.random.randint(0,1000)\n",
    "print(\"Observacion #\" + str(Ejem_i))\n",
    "print(\"Salida Esperada:\", Y[Ejem_i])\n",
    "print(\"Probabilidad:\", sigmoide(np.insert(D1[Ejem_i],0,1)@Theta_opt))\n",
    "plt.imshow(D1[Ejem_i].reshape((20,20)), cmap=\"binary\",)\n",
    "plt.show()"
   ]
  },
  {
   "cell_type": "markdown",
   "metadata": {},
   "source": [
    "#### La \"certeza\" respecto a mis predicciones cambia"
   ]
  },
  {
   "cell_type": "markdown",
   "metadata": {},
   "source": [
    "## ¿Qué pasa si introducimos otras letras?"
   ]
  },
  {
   "cell_type": "code",
   "execution_count": 65,
   "metadata": {
    "scrolled": true
   },
   "outputs": [
    {
     "data": {
      "text/plain": [
       "array(['3', 'N', 'D', '8', 'S', 'W', 'P', '7', 'K', 'J', '4', '2', 'Y',\n",
       "       'H', 'A', 'G', 'Q', 'C', 'E', 'B', 'T', '5', 'U', 'V', 'I', 'X',\n",
       "       '6', 'Z', 'F', 'R', 'M'], dtype='<U1')"
      ]
     },
     "execution_count": 65,
     "metadata": {},
     "output_type": "execute_result"
    }
   ],
   "source": [
    "np.fromfile(\"data/labels\", dtype=\"<U1\")"
   ]
  },
  {
   "cell_type": "code",
   "execution_count": 66,
   "metadata": {},
   "outputs": [],
   "source": [
    "All = np.fromfile(\"data/allABC\", sep=\",\")"
   ]
  },
  {
   "cell_type": "code",
   "execution_count": 67,
   "metadata": {},
   "outputs": [],
   "source": [
    "All = All.reshape((15500,400))"
   ]
  },
  {
   "cell_type": "code",
   "execution_count": 69,
   "metadata": {
    "scrolled": false
   },
   "outputs": [
    {
     "name": "stdout",
     "output_type": "stream",
     "text": [
      "Observacion #16922\n"
     ]
    },
    {
     "ename": "IndexError",
     "evalue": "index 16922 is out of bounds for axis 0 with size 15500",
     "output_type": "error",
     "traceback": [
      "\u001b[0;31m---------------------------------------------------------------------------\u001b[0m",
      "\u001b[0;31mIndexError\u001b[0m                                Traceback (most recent call last)",
      "\u001b[0;32m<ipython-input-69-0d243f86d934>\u001b[0m in \u001b[0;36m<module>\u001b[0;34m()\u001b[0m\n\u001b[1;32m      2\u001b[0m \u001b[0mprint\u001b[0m\u001b[0;34m(\u001b[0m\u001b[0;34m\"Observacion #\"\u001b[0m \u001b[0;34m+\u001b[0m \u001b[0mstr\u001b[0m\u001b[0;34m(\u001b[0m\u001b[0mEjem_i\u001b[0m\u001b[0;34m)\u001b[0m\u001b[0;34m)\u001b[0m\u001b[0;34m\u001b[0m\u001b[0m\n\u001b[1;32m      3\u001b[0m \u001b[0;31m#print(\"Salida Esperada:\", Y[Ejem_i])\u001b[0m\u001b[0;34m\u001b[0m\u001b[0;34m\u001b[0m\u001b[0m\n\u001b[0;32m----> 4\u001b[0;31m \u001b[0mprint\u001b[0m\u001b[0;34m(\u001b[0m\u001b[0;34m\"Probabilidad:\"\u001b[0m\u001b[0;34m,\u001b[0m \u001b[0msigmoide\u001b[0m\u001b[0;34m(\u001b[0m\u001b[0mnp\u001b[0m\u001b[0;34m.\u001b[0m\u001b[0minsert\u001b[0m\u001b[0;34m(\u001b[0m\u001b[0mAll\u001b[0m\u001b[0;34m[\u001b[0m\u001b[0mEjem_i\u001b[0m\u001b[0;34m]\u001b[0m\u001b[0;34m,\u001b[0m\u001b[0;36m0\u001b[0m\u001b[0;34m,\u001b[0m\u001b[0;36m1\u001b[0m\u001b[0;34m)\u001b[0m\u001b[0;34m@\u001b[0m\u001b[0mTheta_opt\u001b[0m\u001b[0;34m)\u001b[0m\u001b[0;34m)\u001b[0m\u001b[0;34m\u001b[0m\u001b[0m\n\u001b[0m\u001b[1;32m      5\u001b[0m \u001b[0mplt\u001b[0m\u001b[0;34m.\u001b[0m\u001b[0mimshow\u001b[0m\u001b[0;34m(\u001b[0m\u001b[0mAll\u001b[0m\u001b[0;34m[\u001b[0m\u001b[0mEjem_i\u001b[0m\u001b[0;34m]\u001b[0m\u001b[0;34m.\u001b[0m\u001b[0mreshape\u001b[0m\u001b[0;34m(\u001b[0m\u001b[0;34m(\u001b[0m\u001b[0;36m20\u001b[0m\u001b[0;34m,\u001b[0m\u001b[0;36m20\u001b[0m\u001b[0;34m)\u001b[0m\u001b[0;34m)\u001b[0m\u001b[0;34m,\u001b[0m \u001b[0mcmap\u001b[0m\u001b[0;34m=\u001b[0m\u001b[0;34m\"binary\"\u001b[0m\u001b[0;34m,\u001b[0m\u001b[0;34m)\u001b[0m\u001b[0;34m\u001b[0m\u001b[0m\n\u001b[1;32m      6\u001b[0m \u001b[0mplt\u001b[0m\u001b[0;34m.\u001b[0m\u001b[0mshow\u001b[0m\u001b[0;34m(\u001b[0m\u001b[0;34m)\u001b[0m\u001b[0;34m\u001b[0m\u001b[0m\n",
      "\u001b[0;31mIndexError\u001b[0m: index 16922 is out of bounds for axis 0 with size 15500"
     ]
    }
   ],
   "source": [
    "Ejem_i = np.random.randint(1000,155000)\n",
    "print(\"Observacion #\" + str(Ejem_i))\n",
    "#print(\"Salida Esperada:\", Y[Ejem_i])\n",
    "print(\"Probabilidad:\", sigmoide(np.insert(All[Ejem_i],0,1)@Theta_opt))\n",
    "plt.imshow(All[Ejem_i].reshape((20,20)), cmap=\"binary\",)\n",
    "plt.show()"
   ]
  },
  {
   "cell_type": "markdown",
   "metadata": {},
   "source": [
    "# Probabilidad de éxito y la de fracaso son complementarias, pero no debemos confundirlo con la exclusión."
   ]
  },
  {
   "cell_type": "markdown",
   "metadata": {},
   "source": [
    " "
   ]
  },
  {
   "cell_type": "markdown",
   "metadata": {},
   "source": [
    "# Caso multiclase"
   ]
  },
  {
   "cell_type": "markdown",
   "metadata": {},
   "source": [
    "$$ \\sigma(z^{(j)}) =  \\frac{e^{z^{(j)}}}{\\sum_{k=1}^{K} e^{z^{(k)}}} \\hspace{2cm}  \\forall j \\in 1, 2, ... K$$"
   ]
  },
  {
   "cell_type": "code",
   "execution_count": 70,
   "metadata": {},
   "outputs": [],
   "source": [
    "def softmax(Z_vec):\n",
    "    \"\"\"Compute the softmax of vector x.\"\"\"\n",
    "    exps = np.exp(Z_vec)\n",
    "    return exps / np.sum(exps)"
   ]
  },
  {
   "cell_type": "code",
   "execution_count": 71,
   "metadata": {},
   "outputs": [
    {
     "name": "stderr",
     "output_type": "stream",
     "text": [
      "/usr/local/lib/python3.6/dist-packages/ipykernel_launcher.py:3: RuntimeWarning: overflow encountered in exp\n",
      "  This is separate from the ipykernel package so we can avoid doing imports until\n",
      "/usr/local/lib/python3.6/dist-packages/ipykernel_launcher.py:4: RuntimeWarning: invalid value encountered in true_divide\n",
      "  after removing the cwd from sys.path.\n"
     ]
    },
    {
     "data": {
      "text/plain": [
       "array([nan, nan])"
      ]
     },
     "execution_count": 71,
     "metadata": {},
     "output_type": "execute_result"
    }
   ],
   "source": [
    "softmax([1000,10000])"
   ]
  },
  {
   "cell_type": "markdown",
   "metadata": {},
   "source": [
    "$$ \\sigma(z^{(j)}) =  \\frac{e^{z^{(j)}+S}}{\\sum_{k=1}^{K} e^{z^{(k)}+S}} \\hspace{2cm}  \\forall j \\in 1, 2, ... K$$\n",
    "Donde:\n",
    "$$ S = - max(z^{(1)}, z{(2), ... ,z^{(K)}})$$"
   ]
  },
  {
   "cell_type": "code",
   "execution_count": 72,
   "metadata": {},
   "outputs": [],
   "source": [
    "def stablesoftmax(Z_vec):\n",
    "    shiftx = Z_vec - np.max(Z_vec)\n",
    "    exps = np.exp(shiftx)\n",
    "    return exps / np.sum(exps)"
   ]
  },
  {
   "cell_type": "code",
   "execution_count": 73,
   "metadata": {
    "scrolled": true
   },
   "outputs": [
    {
     "data": {
      "text/plain": [
       "array([0., 1.])"
      ]
     },
     "execution_count": 73,
     "metadata": {},
     "output_type": "execute_result"
    }
   ],
   "source": [
    "stablesoftmax([1000,2000])"
   ]
  },
  {
   "cell_type": "code",
   "execution_count": 74,
   "metadata": {},
   "outputs": [],
   "source": [
    "Y2 = np.zeros(1500)\n",
    "Y2[500:1000] = 1\n",
    "Y2[1000:]=2"
   ]
  },
  {
   "cell_type": "code",
   "execution_count": 75,
   "metadata": {},
   "outputs": [],
   "source": [
    "X2 = All[:1500].copy()"
   ]
  },
  {
   "cell_type": "markdown",
   "metadata": {},
   "source": [
    "## Utilizando la librería caso multiclase (3)"
   ]
  },
  {
   "cell_type": "code",
   "execution_count": 76,
   "metadata": {},
   "outputs": [],
   "source": [
    "lrMulti = LogisticRegression( solver='lbfgs',\n",
    "                         multi_class='multinomial').fit(X2, Y2)"
   ]
  },
  {
   "cell_type": "code",
   "execution_count": 77,
   "metadata": {
    "scrolled": false
   },
   "outputs": [
    {
     "data": {
      "text/plain": [
       "1.0"
      ]
     },
     "execution_count": 77,
     "metadata": {},
     "output_type": "execute_result"
    }
   ],
   "source": [
    "lrMulti.score(X2,Y2)"
   ]
  },
  {
   "cell_type": "code",
   "execution_count": 78,
   "metadata": {},
   "outputs": [
    {
     "data": {
      "text/plain": [
       "array([9.99999852e-01, 2.29354327e-08, 1.25460840e-07])"
      ]
     },
     "execution_count": 78,
     "metadata": {},
     "output_type": "execute_result"
    }
   ],
   "source": [
    "lrMulti.predict_proba(X2)[0]"
   ]
  },
  {
   "cell_type": "code",
   "execution_count": 79,
   "metadata": {
    "scrolled": true
   },
   "outputs": [
    {
     "data": {
      "text/plain": [
       "1.0"
      ]
     },
     "execution_count": 79,
     "metadata": {},
     "output_type": "execute_result"
    }
   ],
   "source": [
    "np.sum(lrMulti.predict_proba(X2)[0])"
   ]
  },
  {
   "cell_type": "code",
   "execution_count": 80,
   "metadata": {
    "scrolled": true
   },
   "outputs": [
    {
     "name": "stdout",
     "output_type": "stream",
     "text": [
      "Confusion matrix, without normalization\n"
     ]
    },
    {
     "data": {
      "image/png": "[encoded data removed]",
      "text/plain": [
       "<Figure size 432x288 with 1 Axes>"
      ]
     },
     "metadata": {},
     "output_type": "display_data"
    }
   ],
   "source": [
    "plot_confusion_matrix(confusion_matrix(Y2,lrMulti.predict(X2)))"
   ]
  },
  {
   "cell_type": "code",
   "execution_count": 81,
   "metadata": {},
   "outputs": [
    {
     "data": {
      "text/plain": [
       "(3, 400)"
      ]
     },
     "execution_count": 81,
     "metadata": {},
     "output_type": "execute_result"
    }
   ],
   "source": [
    "Test = All[0:3]\n",
    "Test.shape\n",
    "#lrMulti.predict(Test)"
   ]
  },
  {
   "cell_type": "code",
   "execution_count": 82,
   "metadata": {},
   "outputs": [
    {
     "name": "stdout",
     "output_type": "stream",
     "text": [
      "Probabilidad: [9.99999973e-01 2.14498321e-09 2.50781929e-08]\n",
      "Probabilidad: [1.71446212e-12 9.99999996e-01 4.01957708e-09]\n",
      "Probabilidad: [6.54768043e-09 7.05430464e-08 9.99999923e-01]\n",
      "Probabilidad: [3.31891758e-12 9.99999982e-01 1.79370759e-08]\n",
      "Probabilidad: [5.99787574e-08 9.99999887e-01 5.30303206e-08]\n",
      "Probabilidad: [9.99999494e-01 1.29310962e-07 3.77162826e-07]\n",
      "Probabilidad: [3.09271276e-08 9.99999889e-01 7.99188719e-08]\n",
      "Probabilidad: [1.50044052e-08 2.87073459e-09 9.99999982e-01]\n",
      "Calisifación [0. 1. 2. 1. 1. 0. 1. 2.]\n"
     ]
    },
    {
     "data": {
      "image/png": "[encoded data removed]",
      "text/plain": [
       "<Figure size 432x288 with 8 Axes>"
      ]
     },
     "metadata": {},
     "output_type": "display_data"
    }
   ],
   "source": [
    "Test = All[[np.random.choice(np.arange(0,1500),8)] ]\n",
    "[ print(\"Probabilidad:\",i) for i in  lrMulti.predict_proba(Test)]\n",
    "print(\"Calisifación\",  lrMulti.predict(Test))\n",
    "fig, ax = plt.subplots(8)\n",
    "for axi , i in zip(ax,range(8)):\n",
    "    axi.imshow(Test[i].reshape((20,20)), cmap=\"binary\",)\n",
    "plt.show()"
   ]
  },
  {
   "cell_type": "markdown",
   "metadata": {},
   "source": [
    "# Multiclase All"
   ]
  },
  {
   "cell_type": "code",
   "execution_count": 83,
   "metadata": {},
   "outputs": [],
   "source": [
    "labels = np.fromfile(\"data/labels\", dtype=\"<U1\")\n",
    "Y3=np.zeros(All.shape[0])\n",
    "for i in range(len(labels)):\n",
    "    Y3[i*500:(i+1)*500] = i\n",
    "Y3 = np.asanyarray(Y3)"
   ]
  },
  {
   "cell_type": "code",
   "execution_count": 85,
   "metadata": {
    "scrolled": true
   },
   "outputs": [],
   "source": [
    "lrAll = LogisticRegression( solver='lbfgs',\n",
    "                         multi_class='multinomial').fit(All, Y3)"
   ]
  },
  {
   "cell_type": "code",
   "execution_count": 86,
   "metadata": {},
   "outputs": [
    {
     "data": {
      "text/plain": [
       "(15500, 400)"
      ]
     },
     "execution_count": 86,
     "metadata": {},
     "output_type": "execute_result"
    }
   ],
   "source": [
    "All.shape"
   ]
  },
  {
   "cell_type": "code",
   "execution_count": 87,
   "metadata": {},
   "outputs": [
    {
     "name": "stdout",
     "output_type": "stream",
     "text": [
      "N [1.70849116e-23 9.99999896e-01 4.11502070e-18 6.27397152e-18\n",
      " 1.75840135e-18 1.03994806e-23 2.06851665e-17 3.03934455e-38\n",
      " 3.34242557e-13 6.35724939e-22 1.40577649e-27 8.17611929e-27\n",
      " 8.52413380e-33 1.03589246e-07 3.22505399e-26 1.96073548e-25\n",
      " 3.11270406e-23 3.15911020e-27 7.72428741e-24 5.77153798e-16\n",
      " 8.79876118e-44 1.78153359e-29 1.85347675e-13 2.12420467e-28\n",
      " 1.34593314e-45 9.79516891e-27 1.65236402e-18 3.65373910e-32\n",
      " 1.64774445e-28 5.79142370e-14 2.50430099e-19]\n",
      "Y [9.51117389e-23 1.71224401e-27 3.83505024e-27 1.89496761e-22\n",
      " 5.33707287e-18 2.40660470e-24 1.27311293e-18 1.48857495e-13\n",
      " 3.75769272e-19 2.48138881e-23 7.40044583e-22 3.74548925e-15\n",
      " 1.00000000e+00 3.80588012e-24 3.58222338e-23 4.05668831e-18\n",
      " 2.75754957e-21 7.38518584e-18 1.58996522e-16 5.26977617e-19\n",
      " 7.54869668e-15 5.15299447e-23 6.30658294e-22 1.28303134e-13\n",
      " 3.84991992e-17 8.19310961e-20 1.78135842e-21 1.96189791e-13\n",
      " 2.30823301e-23 1.65061147e-24 1.73112186e-13]\n",
      "X [8.54555277e-21 3.47145363e-14 9.71453319e-31 4.98334557e-21\n",
      " 2.10559302e-15 7.42477883e-15 1.10945801e-24 5.59210730e-20\n",
      " 6.94792135e-08 1.67873390e-26 1.86192316e-15 2.52112721e-16\n",
      " 9.50128099e-23 3.39173839e-21 4.53585799e-20 1.70739124e-22\n",
      " 2.21811090e-23 2.74508985e-26 4.63274660e-21 4.91113024e-23\n",
      " 1.82003264e-20 4.59065101e-16 4.66599107e-28 2.08137773e-27\n",
      " 6.91279680e-22 9.99999930e-01 9.40307686e-22 2.82549024e-11\n",
      " 4.40548616e-24 1.24076949e-21 3.94065808e-27]\n",
      "D [1.10855376e-15 1.45837013e-08 9.99998412e-01 1.51856248e-18\n",
      " 1.59757086e-12 8.52851044e-23 7.28803702e-07 4.31308585e-26\n",
      " 3.31201982e-16 4.96995352e-20 7.63284326e-27 1.52189314e-16\n",
      " 4.38443412e-30 1.95228641e-12 8.41736492e-26 1.77376903e-12\n",
      " 4.00683713e-13 7.62180287e-08 9.29079299e-10 6.04406848e-07\n",
      " 7.82040131e-35 1.25668297e-24 1.80122668e-08 2.06017418e-22\n",
      " 1.67915154e-37 1.21768300e-31 6.81135794e-14 1.41795311e-25\n",
      " 3.13235258e-15 1.45452795e-07 2.88043970e-11]\n"
     ]
    },
    {
     "data": {
      "image/png": "[encoded data removed]",
      "text/plain": [
       "<Figure size 432x288 with 4 Axes>"
      ]
     },
     "metadata": {},
     "output_type": "display_data"
    }
   ],
   "source": [
    "Test = All[[np.random.choice(np.arange(0,15500),4)] ]\n",
    "Pred =   lrAll.predict(Test)\n",
    "[print(labels[int(i)], p) for i,p in zip(Pred,lrAll.predict_proba(Test))]\n",
    "fig, ax = plt.subplots(4)\n",
    "for axi , i in zip(ax,range(4)):\n",
    "    axi.imshow(Test[i].reshape((20,20)), cmap=\"binary\",)\n",
    "plt.show()"
   ]
  },
  {
   "cell_type": "code",
   "execution_count": 88,
   "metadata": {},
   "outputs": [
    {
     "data": {
      "text/plain": [
       "1.0"
      ]
     },
     "execution_count": 88,
     "metadata": {},
     "output_type": "execute_result"
    }
   ],
   "source": [
    "lrAll.score(All,Y3)"
   ]
  },
  {
   "cell_type": "code",
   "execution_count": 89,
   "metadata": {
    "scrolled": true
   },
   "outputs": [
    {
     "data": {
      "text/plain": [
       "array([[500,   0,   0,   0,   0,   0,   0,   0,   0,   0,   0,   0,   0,\n",
       "          0,   0,   0,   0,   0,   0,   0,   0,   0,   0,   0,   0,   0,\n",
       "          0,   0,   0,   0,   0],\n",
       "       [  0, 500,   0,   0,   0,   0,   0,   0,   0,   0,   0,   0,   0,\n",
       "          0,   0,   0,   0,   0,   0,   0,   0,   0,   0,   0,   0,   0,\n",
       "          0,   0,   0,   0,   0],\n",
       "       [  0,   0, 500,   0,   0,   0,   0,   0,   0,   0,   0,   0,   0,\n",
       "          0,   0,   0,   0,   0,   0,   0,   0,   0,   0,   0,   0,   0,\n",
       "          0,   0,   0,   0,   0],\n",
       "       [  0,   0,   0, 500,   0,   0,   0,   0,   0,   0,   0,   0,   0,\n",
       "          0,   0,   0,   0,   0,   0,   0,   0,   0,   0,   0,   0,   0,\n",
       "          0,   0,   0,   0,   0],\n",
       "       [  0,   0,   0,   0, 500,   0,   0,   0,   0,   0,   0,   0,   0,\n",
       "          0,   0,   0,   0,   0,   0,   0,   0,   0,   0,   0,   0,   0,\n",
       "          0,   0,   0,   0,   0],\n",
       "       [  0,   0,   0,   0,   0, 500,   0,   0,   0,   0,   0,   0,   0,\n",
       "          0,   0,   0,   0,   0,   0,   0,   0,   0,   0,   0,   0,   0,\n",
       "          0,   0,   0,   0,   0],\n",
       "       [  0,   0,   0,   0,   0,   0, 500,   0,   0,   0,   0,   0,   0,\n",
       "          0,   0,   0,   0,   0,   0,   0,   0,   0,   0,   0,   0,   0,\n",
       "          0,   0,   0,   0,   0],\n",
       "       [  0,   0,   0,   0,   0,   0,   0, 500,   0,   0,   0,   0,   0,\n",
       "          0,   0,   0,   0,   0,   0,   0,   0,   0,   0,   0,   0,   0,\n",
       "          0,   0,   0,   0,   0],\n",
       "       [  0,   0,   0,   0,   0,   0,   0,   0, 500,   0,   0,   0,   0,\n",
       "          0,   0,   0,   0,   0,   0,   0,   0,   0,   0,   0,   0,   0,\n",
       "          0,   0,   0,   0,   0],\n",
       "       [  0,   0,   0,   0,   0,   0,   0,   0,   0, 500,   0,   0,   0,\n",
       "          0,   0,   0,   0,   0,   0,   0,   0,   0,   0,   0,   0,   0,\n",
       "          0,   0,   0,   0,   0],\n",
       "       [  0,   0,   0,   0,   0,   0,   0,   0,   0,   0, 500,   0,   0,\n",
       "          0,   0,   0,   0,   0,   0,   0,   0,   0,   0,   0,   0,   0,\n",
       "          0,   0,   0,   0,   0],\n",
       "       [  0,   0,   0,   0,   0,   0,   0,   0,   0,   0,   0, 500,   0,\n",
       "          0,   0,   0,   0,   0,   0,   0,   0,   0,   0,   0,   0,   0,\n",
       "          0,   0,   0,   0,   0],\n",
       "       [  0,   0,   0,   0,   0,   0,   0,   0,   0,   0,   0,   0, 500,\n",
       "          0,   0,   0,   0,   0,   0,   0,   0,   0,   0,   0,   0,   0,\n",
       "          0,   0,   0,   0,   0],\n",
       "       [  0,   0,   0,   0,   0,   0,   0,   0,   0,   0,   0,   0,   0,\n",
       "        500,   0,   0,   0,   0,   0,   0,   0,   0,   0,   0,   0,   0,\n",
       "          0,   0,   0,   0,   0],\n",
       "       [  0,   0,   0,   0,   0,   0,   0,   0,   0,   0,   0,   0,   0,\n",
       "          0, 500,   0,   0,   0,   0,   0,   0,   0,   0,   0,   0,   0,\n",
       "          0,   0,   0,   0,   0],\n",
       "       [  0,   0,   0,   0,   0,   0,   0,   0,   0,   0,   0,   0,   0,\n",
       "          0,   0, 500,   0,   0,   0,   0,   0,   0,   0,   0,   0,   0,\n",
       "          0,   0,   0,   0,   0],\n",
       "       [  0,   0,   0,   0,   0,   0,   0,   0,   0,   0,   0,   0,   0,\n",
       "          0,   0,   0, 500,   0,   0,   0,   0,   0,   0,   0,   0,   0,\n",
       "          0,   0,   0,   0,   0],\n",
       "       [  0,   0,   0,   0,   0,   0,   0,   0,   0,   0,   0,   0,   0,\n",
       "          0,   0,   0,   0, 500,   0,   0,   0,   0,   0,   0,   0,   0,\n",
       "          0,   0,   0,   0,   0],\n",
       "       [  0,   0,   0,   0,   0,   0,   0,   0,   0,   0,   0,   0,   0,\n",
       "          0,   0,   0,   0,   0, 500,   0,   0,   0,   0,   0,   0,   0,\n",
       "          0,   0,   0,   0,   0],\n",
       "       [  0,   0,   0,   0,   0,   0,   0,   0,   0,   0,   0,   0,   0,\n",
       "          0,   0,   0,   0,   0,   0, 500,   0,   0,   0,   0,   0,   0,\n",
       "          0,   0,   0,   0,   0],\n",
       "       [  0,   0,   0,   0,   0,   0,   0,   0,   0,   0,   0,   0,   0,\n",
       "          0,   0,   0,   0,   0,   0,   0, 500,   0,   0,   0,   0,   0,\n",
       "          0,   0,   0,   0,   0],\n",
       "       [  0,   0,   0,   0,   0,   0,   0,   0,   0,   0,   0,   0,   0,\n",
       "          0,   0,   0,   0,   0,   0,   0,   0, 500,   0,   0,   0,   0,\n",
       "          0,   0,   0,   0,   0],\n",
       "       [  0,   0,   0,   0,   0,   0,   0,   0,   0,   0,   0,   0,   0,\n",
       "          0,   0,   0,   0,   0,   0,   0,   0,   0, 500,   0,   0,   0,\n",
       "          0,   0,   0,   0,   0],\n",
       "       [  0,   0,   0,   0,   0,   0,   0,   0,   0,   0,   0,   0,   0,\n",
       "          0,   0,   0,   0,   0,   0,   0,   0,   0,   0, 500,   0,   0,\n",
       "          0,   0,   0,   0,   0],\n",
       "       [  0,   0,   0,   0,   0,   0,   0,   0,   0,   0,   0,   0,   0,\n",
       "          0,   0,   0,   0,   0,   0,   0,   0,   0,   0,   0, 500,   0,\n",
       "          0,   0,   0,   0,   0],\n",
       "       [  0,   0,   0,   0,   0,   0,   0,   0,   0,   0,   0,   0,   0,\n",
       "          0,   0,   0,   0,   0,   0,   0,   0,   0,   0,   0,   0, 500,\n",
       "          0,   0,   0,   0,   0],\n",
       "       [  0,   0,   0,   0,   0,   0,   0,   0,   0,   0,   0,   0,   0,\n",
       "          0,   0,   0,   0,   0,   0,   0,   0,   0,   0,   0,   0,   0,\n",
       "        500,   0,   0,   0,   0],\n",
       "       [  0,   0,   0,   0,   0,   0,   0,   0,   0,   0,   0,   0,   0,\n",
       "          0,   0,   0,   0,   0,   0,   0,   0,   0,   0,   0,   0,   0,\n",
       "          0, 500,   0,   0,   0],\n",
       "       [  0,   0,   0,   0,   0,   0,   0,   0,   0,   0,   0,   0,   0,\n",
       "          0,   0,   0,   0,   0,   0,   0,   0,   0,   0,   0,   0,   0,\n",
       "          0,   0, 500,   0,   0],\n",
       "       [  0,   0,   0,   0,   0,   0,   0,   0,   0,   0,   0,   0,   0,\n",
       "          0,   0,   0,   0,   0,   0,   0,   0,   0,   0,   0,   0,   0,\n",
       "          0,   0,   0, 500,   0],\n",
       "       [  0,   0,   0,   0,   0,   0,   0,   0,   0,   0,   0,   0,   0,\n",
       "          0,   0,   0,   0,   0,   0,   0,   0,   0,   0,   0,   0,   0,\n",
       "          0,   0,   0,   0, 500]])"
      ]
     },
     "execution_count": 89,
     "metadata": {},
     "output_type": "execute_result"
    }
   ],
   "source": [
    "confusion_matrix(Y3, lrAll.predict(All))"
   ]
  },
  {
   "cell_type": "code",
   "execution_count": 90,
   "metadata": {},
   "outputs": [],
   "source": [
    "from sklearn.externals import joblib"
   ]
  },
  {
   "cell_type": "code",
   "execution_count": 91,
   "metadata": {},
   "outputs": [
    {
     "data": {
      "text/plain": [
       "['lrAll.hdf5']"
      ]
     },
     "execution_count": 91,
     "metadata": {},
     "output_type": "execute_result"
    }
   ],
   "source": [
    "joblib.dump(lrAll, \"lrAll.hdf5\")"
   ]
  },
  {
   "cell_type": "code",
   "execution_count": 93,
   "metadata": {},
   "outputs": [
    {
     "ename": "NameError",
     "evalue": "name 'filename' is not defined",
     "output_type": "error",
     "traceback": [
      "\u001b[0;31m---------------------------------------------------------------------------\u001b[0m",
      "\u001b[0;31mNameError\u001b[0m                                 Traceback (most recent call last)",
      "\u001b[0;32m<ipython-input-93-f674c18b70a0>\u001b[0m in \u001b[0;36m<module>\u001b[0;34m()\u001b[0m\n\u001b[0;32m----> 1\u001b[0;31m \u001b[0mloaded_model\u001b[0m \u001b[0;34m=\u001b[0m \u001b[0mjoblib\u001b[0m\u001b[0;34m.\u001b[0m\u001b[0mload\u001b[0m\u001b[0;34m(\u001b[0m\u001b[0mfilename\u001b[0m\u001b[0;34m)\u001b[0m\u001b[0;34m\u001b[0m\u001b[0m\n\u001b[0m",
      "\u001b[0;31mNameError\u001b[0m: name 'filename' is not defined"
     ]
    }
   ],
   "source": []
  },
  {
   "cell_type": "markdown",
   "metadata": {},
   "source": [
    "[![alt-text](./img/cdd-lp-gray.png)](https://www.facebook.com/ccd.bolivia.bo/)"
   ]
  }
 ],
 "metadata": {
  "kernelspec": {
   "display_name": "Python 3",
   "language": "python",
   "name": "python3"
  },
  "language_info": {
   "codemirror_mode": {
    "name": "ipython",
    "version": 3
   },
   "file_extension": ".py",
   "mimetype": "text/x-python",
   "name": "python",
   "nbconvert_exporter": "python",
   "pygments_lexer": "ipython3",
   "version": "3.6.3"
  }
 },
 "nbformat": 4,
 "nbformat_minor": 2
}

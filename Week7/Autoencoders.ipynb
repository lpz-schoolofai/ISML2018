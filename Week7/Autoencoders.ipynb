{
  "nbformat": 4,
  "nbformat_minor": 0,
  "metadata": {
    "colab": {
      "name": "Autoencoders_from_scratch.ipynb",
      "version": "0.3.2",
      "provenance": [],
      "collapsed_sections": []
    },
    "kernelspec": {
      "name": "python3",
      "display_name": "Python 3"
    },
    "accelerator": "GPU"
  },
  "cells": [
    {
      "metadata": {
        "id": "sG30hc9glBH8",
        "colab_type": "code",
        "colab": {
          "base_uri": "https://localhost:8080/",
          "height": 34
        },
        "outputId": "79dc87c1-b87c-4889-8a52-d7f4147c377a"
      },
      "cell_type": "code",
      "source": [
        "import numpy as np\n",
        "from keras.datasets import mnist\n",
        "from keras.layers import Dense, Dropout, InputLayer, Flatten, Reshape, Input\n",
        "from keras.models import Model, Sequential\n",
        "from keras.preprocessing.image import ImageDataGenerator\n",
        "import matplotlib.pyplot as plt"
      ],
      "execution_count": 1,
      "outputs": [
        {
          "output_type": "stream",
          "text": [
            "Using TensorFlow backend.\n"
          ],
          "name": "stderr"
        }
      ]
    },
    {
      "metadata": {
        "id": "RxorBK7mlBIC",
        "colab_type": "code",
        "colab": {
          "base_uri": "https://localhost:8080/",
          "height": 51
        },
        "outputId": "71702dbf-2749-42e2-f43a-459ae77fcdaf"
      },
      "cell_type": "code",
      "source": [
        "(X_mat, Y), (X_t_mat, _) = mnist.load_data()\n",
        "X_mat = X_mat/255\n",
        "X_t_mat = X_t_mat/255"
      ],
      "execution_count": 2,
      "outputs": [
        {
          "output_type": "stream",
          "text": [
            "Downloading data from https://s3.amazonaws.com/img-datasets/mnist.npz\n",
            "11493376/11490434 [==============================] - 0s 0us/step\n"
          ],
          "name": "stdout"
        }
      ]
    },
    {
      "metadata": {
        "id": "GIrBhfGjlBIF",
        "colab_type": "code",
        "colab": {}
      },
      "cell_type": "code",
      "source": [
        "n_comps = 256\n",
        "img_shape = X_mat.shape[1:]\n",
        "\n",
        "encoder = Sequential()\n",
        "encoder.add(InputLayer(img_shape))\n",
        "encoder.add(Flatten())                  #flatten image to vector\n",
        "encoder.add(Dense(n_comps))           #actual encoder\n",
        "\n",
        "decoder = Sequential()\n",
        "decoder.add(InputLayer((n_comps,)))\n",
        "decoder.add(Dense(np.prod(img_shape)))  #actual decoder, height*width*3 units\n",
        "decoder.add(Reshape(img_shape))         #un-flatten"
      ],
      "execution_count": 0,
      "outputs": []
    },
    {
      "metadata": {
        "id": "jqnI9amirD04",
        "colab_type": "code",
        "colab": {
          "base_uri": "https://localhost:8080/",
          "height": 493
        },
        "outputId": "1ebe1864-5e47-4754-ac19-c3bc2b3607b7"
      },
      "cell_type": "code",
      "source": [
        "print(encoder.summary())\n",
        "print(decoder.summary())"
      ],
      "execution_count": 4,
      "outputs": [
        {
          "output_type": "stream",
          "text": [
            "_________________________________________________________________\n",
            "Layer (type)                 Output Shape              Param #   \n",
            "=================================================================\n",
            "input_1 (InputLayer)         (None, 28, 28)            0         \n",
            "_________________________________________________________________\n",
            "flatten_1 (Flatten)          (None, 784)               0         \n",
            "_________________________________________________________________\n",
            "dense_1 (Dense)              (None, 256)               200960    \n",
            "=================================================================\n",
            "Total params: 200,960\n",
            "Trainable params: 200,960\n",
            "Non-trainable params: 0\n",
            "_________________________________________________________________\n",
            "None\n",
            "_________________________________________________________________\n",
            "Layer (type)                 Output Shape              Param #   \n",
            "=================================================================\n",
            "input_2 (InputLayer)         (None, 256)               0         \n",
            "_________________________________________________________________\n",
            "dense_2 (Dense)              (None, 784)               201488    \n",
            "_________________________________________________________________\n",
            "reshape_1 (Reshape)          (None, 28, 28)            0         \n",
            "=================================================================\n",
            "Total params: 201,488\n",
            "Trainable params: 201,488\n",
            "Non-trainable params: 0\n",
            "_________________________________________________________________\n",
            "None\n"
          ],
          "name": "stdout"
        }
      ]
    },
    {
      "metadata": {
        "id": "b8Ml7xXylBII",
        "colab_type": "code",
        "colab": {}
      },
      "cell_type": "code",
      "source": [
        "input_tensor = Input(img_shape)\n",
        "cod = encoder(input_tensor)\n",
        "aprox = decoder(cod)\n",
        "\n",
        "autoencoder = Model(inputs=input_tensor, outputs=aprox)\n",
        "# autoencoder.compile(optimizer='adamax', loss='mse', metrics=['accuracy'])\n",
        "# autoencoder.compile(optimizer='SGD', loss='mse', metrics=['accuracy'])\n",
        "autoencoder.compile(optimizer='nadam', loss='mse', metrics=['accuracy'])"
      ],
      "execution_count": 0,
      "outputs": []
    },
    {
      "metadata": {
        "id": "2vU-HQaZlBIK",
        "colab_type": "code",
        "colab": {
          "base_uri": "https://localhost:8080/",
          "height": 561
        },
        "outputId": "fefa3a92-be9b-4283-eaff-9ae370a0731f"
      },
      "cell_type": "code",
      "source": [
        "autoencoder.fit(x=X_mat, y=X_mat, epochs=15,\n",
        "                validation_data=(X_t_mat, X_t_mat))"
      ],
      "execution_count": 8,
      "outputs": [
        {
          "output_type": "stream",
          "text": [
            "Train on 60000 samples, validate on 10000 samples\n",
            "Epoch 1/15\n",
            "60000/60000 [==============================] - 13s 209us/step - loss: 0.0066 - acc: 0.3413 - val_loss: 0.0033 - val_acc: 0.3606\n",
            "Epoch 2/15\n",
            "60000/60000 [==============================] - 13s 209us/step - loss: 0.2484 - acc: 0.3464 - val_loss: 0.0041 - val_acc: 0.3503\n",
            "Epoch 3/15\n",
            "60000/60000 [==============================] - 13s 209us/step - loss: 0.0091 - acc: 0.3579 - val_loss: 0.0023 - val_acc: 0.3578\n",
            "Epoch 4/15\n",
            "60000/60000 [==============================] - 12s 206us/step - loss: 0.0048 - acc: 0.3641 - val_loss: 0.0021 - val_acc: 0.3598\n",
            "Epoch 5/15\n",
            "60000/60000 [==============================] - 13s 210us/step - loss: 0.0026 - acc: 0.3670 - val_loss: 0.0022 - val_acc: 0.3600\n",
            "Epoch 6/15\n",
            "60000/60000 [==============================] - 13s 212us/step - loss: 0.0018 - acc: 0.3694 - val_loss: 0.0017 - val_acc: 0.3623\n",
            "Epoch 7/15\n",
            "60000/60000 [==============================] - 13s 209us/step - loss: 0.0017 - acc: 0.3696 - val_loss: 0.0017 - val_acc: 0.3612\n",
            "Epoch 8/15\n",
            "60000/60000 [==============================] - 13s 210us/step - loss: 0.0019 - acc: 0.3686 - val_loss: 0.0020 - val_acc: 0.3605\n",
            "Epoch 9/15\n",
            "60000/60000 [==============================] - 13s 211us/step - loss: 0.0021 - acc: 0.3680 - val_loss: 0.0021 - val_acc: 0.3612\n",
            "Epoch 10/15\n",
            "60000/60000 [==============================] - 13s 208us/step - loss: 0.0022 - acc: 0.3665 - val_loss: 0.0020 - val_acc: 0.3599\n",
            "Epoch 11/15\n",
            "60000/60000 [==============================] - 12s 208us/step - loss: 0.0023 - acc: 0.3667 - val_loss: 0.0021 - val_acc: 0.3570\n",
            "Epoch 12/15\n",
            "60000/60000 [==============================] - 12s 207us/step - loss: 0.0023 - acc: 0.3670 - val_loss: 0.0026 - val_acc: 0.3677\n",
            "Epoch 13/15\n",
            "60000/60000 [==============================] - 12s 206us/step - loss: 0.0059 - acc: 0.3656 - val_loss: 0.0021 - val_acc: 0.3651\n",
            "Epoch 14/15\n",
            "60000/60000 [==============================] - 13s 212us/step - loss: 0.0017 - acc: 0.3733 - val_loss: 0.0016 - val_acc: 0.3663\n",
            "Epoch 15/15\n",
            "60000/60000 [==============================] - 12s 208us/step - loss: 0.0017 - acc: 0.3758 - val_loss: 0.0016 - val_acc: 0.3705\n"
          ],
          "name": "stdout"
        },
        {
          "output_type": "execute_result",
          "data": {
            "text/plain": [
              "<keras.callbacks.History at 0x7f3a508aee10>"
            ]
          },
          "metadata": {
            "tags": []
          },
          "execution_count": 8
        }
      ]
    },
    {
      "metadata": {
        "id": "oqGDDTdqlzE9",
        "colab_type": "code",
        "colab": {
          "base_uri": "https://localhost:8080/",
          "height": 694
        },
        "outputId": "03aa1d11-65d6-49e6-d860-5192e27975fb"
      },
      "cell_type": "code",
      "source": [
        "index = int(np.random.uniform(0, len(X_t_mat)))\n",
        "\n",
        "img_cod = encoder.predict(np.expand_dims(X_t_mat[index], axis=0))\n",
        "img_dec = decoder.predict(img_cod)\n",
        "\n",
        "plt.imshow(X_t_mat[index], cmap='gray')\n",
        "plt.show()\n",
        "print(img_dec.shape)\n",
        "plt.imshow(img_dec[0], cmap='gray')\n",
        "plt.show()"
      ],
      "execution_count": 13,
      "outputs": [
        {
          "output_type": "display_data",
          "data": {
            "image/png": "[encoded data removed]",
            "text/plain": [
              "<matplotlib.figure.Figure at 0x7f3a5041b278>"
            ]
          },
          "metadata": {
            "tags": []
          }
        },
        {
          "output_type": "stream",
          "text": [
            "(1, 28, 28)\n"
          ],
          "name": "stdout"
        },
        {
          "output_type": "display_data",
          "data": {
            "image/png": "[encoded data removed]",
            "text/plain": [
              "<matplotlib.figure.Figure at 0x7f3a50290320>"
            ]
          },
          "metadata": {
            "tags": []
          }
        }
      ]
    },
    {
      "metadata": {
        "id": "wYu-gigEn6vA",
        "colab_type": "text"
      },
      "cell_type": "markdown",
      "source": [
        "# Ahora usaremos un autoencoder más complejo con un codigo mas pequeño"
      ]
    },
    {
      "metadata": {
        "id": "6y-tk-sXoKHe",
        "colab_type": "code",
        "colab": {}
      },
      "cell_type": "code",
      "source": [
        "n_comps = 32\n",
        "img_shape_deep = X_mat.shape[1:]\n",
        "\n",
        "encoder_deep = Sequential()\n",
        "encoder_deep.add(InputLayer(img_shape_deep))\n",
        "encoder_deep.add(Flatten())                  #flatten image to vector\n",
        "encoder_deep.add(Dense(512, activation='relu'))\n",
        "encoder_deep.add(Dense(256, activation='relu'))\n",
        "encoder_deep.add(Dense(128, activation='relu'))\n",
        "encoder_deep.add(Dense(n_comps))\n",
        "\n",
        "decoder_deep = Sequential()\n",
        "decoder_deep.add(InputLayer((n_comps,)))\n",
        "decoder_deep.add(Dense(128, activation='relu'))\n",
        "decoder_deep.add(Dense(256, activation='relu'))\n",
        "decoder_deep.add(Dense(512, activation='relu'))\n",
        "decoder_deep.add(Dense(np.prod(img_shape_deep)))  #actual decoder, height*width*3 units\n",
        "decoder_deep.add(Reshape(img_shape_deep))         #un-flatten"
      ],
      "execution_count": 0,
      "outputs": []
    },
    {
      "metadata": {
        "id": "qh3BD1hLq4Xn",
        "colab_type": "code",
        "colab": {
          "base_uri": "https://localhost:8080/",
          "height": 697
        },
        "outputId": "ab2cc40b-98aa-4bce-dd22-3c99b7989b0f"
      },
      "cell_type": "code",
      "source": [
        "print(encoder_deep.summary())\n",
        "print(decoder_deep.summary())"
      ],
      "execution_count": 15,
      "outputs": [
        {
          "output_type": "stream",
          "text": [
            "_________________________________________________________________\n",
            "Layer (type)                 Output Shape              Param #   \n",
            "=================================================================\n",
            "input_5 (InputLayer)         (None, 28, 28)            0         \n",
            "_________________________________________________________________\n",
            "flatten_2 (Flatten)          (None, 784)               0         \n",
            "_________________________________________________________________\n",
            "dense_3 (Dense)              (None, 512)               401920    \n",
            "_________________________________________________________________\n",
            "dense_4 (Dense)              (None, 256)               131328    \n",
            "_________________________________________________________________\n",
            "dense_5 (Dense)              (None, 128)               32896     \n",
            "_________________________________________________________________\n",
            "dense_6 (Dense)              (None, 32)                4128      \n",
            "=================================================================\n",
            "Total params: 570,272\n",
            "Trainable params: 570,272\n",
            "Non-trainable params: 0\n",
            "_________________________________________________________________\n",
            "None\n",
            "_________________________________________________________________\n",
            "Layer (type)                 Output Shape              Param #   \n",
            "=================================================================\n",
            "input_6 (InputLayer)         (None, 32)                0         \n",
            "_________________________________________________________________\n",
            "dense_7 (Dense)              (None, 128)               4224      \n",
            "_________________________________________________________________\n",
            "dense_8 (Dense)              (None, 256)               33024     \n",
            "_________________________________________________________________\n",
            "dense_9 (Dense)              (None, 512)               131584    \n",
            "_________________________________________________________________\n",
            "dense_10 (Dense)             (None, 784)               402192    \n",
            "_________________________________________________________________\n",
            "reshape_2 (Reshape)          (None, 28, 28)            0         \n",
            "=================================================================\n",
            "Total params: 571,024\n",
            "Trainable params: 571,024\n",
            "Non-trainable params: 0\n",
            "_________________________________________________________________\n",
            "None\n"
          ],
          "name": "stdout"
        }
      ]
    },
    {
      "metadata": {
        "id": "XENGpnRbpLn9",
        "colab_type": "code",
        "colab": {
          "base_uri": "https://localhost:8080/",
          "height": 34
        },
        "outputId": "b93f633d-134d-4f3b-f6c0-69416d8fe3f5"
      },
      "cell_type": "code",
      "source": [
        "input_tensor_deep = Input(img_shape_deep)\n",
        "cod_deep = encoder_deep(input_tensor_deep)\n",
        "aprox_deep = decoder_deep(cod_deep)\n",
        "print(aprox_deep.shape)\n",
        "\n",
        "autoencoder_deep = Model(inputs=input_tensor_deep, outputs=aprox_deep)\n",
        "# autoencoder_deep.compile(optimizer='adamax', loss='mse', metrics=['accuracy'])\n",
        "# autoencoder_deep.compile(optimizer='SGD', loss='mse', metrics=['accuracy'])\n",
        "autoencoder_deep.compile(optimizer='nadam', loss='mse')"
      ],
      "execution_count": 20,
      "outputs": [
        {
          "output_type": "stream",
          "text": [
            "(?, 28, 28)\n"
          ],
          "name": "stdout"
        }
      ]
    },
    {
      "metadata": {
        "id": "CXRKy2WsqbCl",
        "colab_type": "code",
        "colab": {
          "base_uri": "https://localhost:8080/",
          "height": 272
        },
        "outputId": "12cda864-7146-4de7-a5d9-08f1ca39cc4f"
      },
      "cell_type": "code",
      "source": [
        "print(img_shape_deep)\n",
        "print(autoencoder_deep.summary())"
      ],
      "execution_count": 21,
      "outputs": [
        {
          "output_type": "stream",
          "text": [
            "(28, 28)\n",
            "_________________________________________________________________\n",
            "Layer (type)                 Output Shape              Param #   \n",
            "=================================================================\n",
            "input_9 (InputLayer)         (None, 28, 28)            0         \n",
            "_________________________________________________________________\n",
            "sequential_3 (Sequential)    (None, 32)                570272    \n",
            "_________________________________________________________________\n",
            "sequential_4 (Sequential)    (None, 28, 28)            571024    \n",
            "=================================================================\n",
            "Total params: 1,141,296\n",
            "Trainable params: 1,141,296\n",
            "Non-trainable params: 0\n",
            "_________________________________________________________________\n",
            "None\n"
          ],
          "name": "stdout"
        }
      ]
    },
    {
      "metadata": {
        "id": "lcoHVfa4qKPX",
        "colab_type": "code",
        "colab": {
          "base_uri": "https://localhost:8080/",
          "height": 1071
        },
        "outputId": "8e9099b2-3f1c-4f86-9319-409c5d25db4c"
      },
      "cell_type": "code",
      "source": [
        "autoencoder_deep.fit(x=X_mat, y=X_mat, epochs=30,\n",
        "                validation_data=(X_t_mat, X_t_mat))"
      ],
      "execution_count": 22,
      "outputs": [
        {
          "output_type": "stream",
          "text": [
            "Train on 60000 samples, validate on 10000 samples\n",
            "Epoch 1/30\n",
            "60000/60000 [==============================] - 25s 425us/step - loss: 0.0275 - val_loss: 0.0219\n",
            "Epoch 2/30\n",
            "60000/60000 [==============================] - 25s 422us/step - loss: 0.0181 - val_loss: 0.0166\n",
            "Epoch 3/30\n",
            "60000/60000 [==============================] - 27s 444us/step - loss: 0.0155 - val_loss: 0.0149\n",
            "Epoch 4/30\n",
            "60000/60000 [==============================] - 26s 433us/step - loss: 0.0139 - val_loss: 0.0137\n",
            "Epoch 5/30\n",
            "60000/60000 [==============================] - 26s 434us/step - loss: 0.0127 - val_loss: 0.0120\n",
            "Epoch 6/30\n",
            "60000/60000 [==============================] - 29s 477us/step - loss: 0.0119 - val_loss: 0.0115\n",
            "Epoch 7/30\n",
            "60000/60000 [==============================] - 29s 476us/step - loss: 0.0112 - val_loss: 0.0112\n",
            "Epoch 8/30\n",
            "60000/60000 [==============================] - 29s 479us/step - loss: 0.0106 - val_loss: 0.0105\n",
            "Epoch 9/30\n",
            "60000/60000 [==============================] - 28s 473us/step - loss: 0.0101 - val_loss: 0.0100\n",
            "Epoch 10/30\n",
            "60000/60000 [==============================] - 29s 476us/step - loss: 0.0098 - val_loss: 0.0098\n",
            "Epoch 11/30\n",
            "60000/60000 [==============================] - 29s 480us/step - loss: 0.0095 - val_loss: 0.0095\n",
            "Epoch 12/30\n",
            "60000/60000 [==============================] - 29s 488us/step - loss: 0.0092 - val_loss: 0.0089\n",
            "Epoch 13/30\n",
            "60000/60000 [==============================] - 28s 471us/step - loss: 0.0090 - val_loss: 0.0089\n",
            "Epoch 14/30\n",
            "60000/60000 [==============================] - 27s 457us/step - loss: 0.0088 - val_loss: 0.0087\n",
            "Epoch 15/30\n",
            "60000/60000 [==============================] - 25s 415us/step - loss: 0.0086 - val_loss: 0.0085\n",
            "Epoch 16/30\n",
            "60000/60000 [==============================] - 25s 417us/step - loss: 0.0085 - val_loss: 0.0085\n",
            "Epoch 17/30\n",
            "60000/60000 [==============================] - 25s 411us/step - loss: 0.0084 - val_loss: 0.0083\n",
            "Epoch 18/30\n",
            "60000/60000 [==============================] - 26s 428us/step - loss: 0.0083 - val_loss: 0.0083\n",
            "Epoch 19/30\n",
            "60000/60000 [==============================] - 26s 426us/step - loss: 0.0082 - val_loss: 0.0081\n",
            "Epoch 20/30\n",
            "60000/60000 [==============================] - 25s 415us/step - loss: 0.0081 - val_loss: 0.0081\n",
            "Epoch 21/30\n",
            "60000/60000 [==============================] - 25s 416us/step - loss: 0.0081 - val_loss: 0.0081\n",
            "Epoch 22/30\n",
            "60000/60000 [==============================] - 25s 409us/step - loss: 0.0080 - val_loss: 0.0081\n",
            "Epoch 23/30\n",
            "60000/60000 [==============================] - 24s 407us/step - loss: 0.0080 - val_loss: 0.0083\n",
            "Epoch 24/30\n",
            "60000/60000 [==============================] - 25s 421us/step - loss: 0.0079 - val_loss: 0.0081\n",
            "Epoch 25/30\n",
            "60000/60000 [==============================] - 25s 410us/step - loss: 0.0079 - val_loss: 0.0082\n",
            "Epoch 26/30\n",
            "60000/60000 [==============================] - 25s 412us/step - loss: 0.0078 - val_loss: 0.0082\n",
            "Epoch 27/30\n",
            "60000/60000 [==============================] - 25s 410us/step - loss: 0.0078 - val_loss: 0.0083\n",
            "Epoch 28/30\n",
            "60000/60000 [==============================] - 25s 410us/step - loss: 0.0077 - val_loss: 0.0079\n",
            "Epoch 29/30\n",
            "60000/60000 [==============================] - 25s 409us/step - loss: 0.0077 - val_loss: 0.0083\n",
            "Epoch 30/30\n",
            "60000/60000 [==============================] - 25s 409us/step - loss: 0.0077 - val_loss: 0.0083\n"
          ],
          "name": "stdout"
        },
        {
          "output_type": "execute_result",
          "data": {
            "text/plain": [
              "<keras.callbacks.History at 0x7f3a500d8b38>"
            ]
          },
          "metadata": {
            "tags": []
          },
          "execution_count": 22
        }
      ]
    },
    {
      "metadata": {
        "id": "axiBNMhhsnGk",
        "colab_type": "code",
        "colab": {
          "base_uri": "https://localhost:8080/",
          "height": 711
        },
        "outputId": "83ccbdb9-85d6-4e59-b516-8592313c0cc7"
      },
      "cell_type": "code",
      "source": [
        "index = int(np.random.uniform(0, len(X_t_mat)))\n",
        "\n",
        "img_cod = encoder_deep.predict(np.expand_dims(X_t_mat[index], axis=0))\n",
        "img_dec = decoder_deep.predict(img_cod)\n",
        "\n",
        "print(img_dec[0].shape)\n",
        "plt.imshow(X_t_mat[index], cmap='gray')\n",
        "plt.show()\n",
        "print('----------------')\n",
        "plt.imshow(img_dec[0], cmap='gray')\n",
        "plt.show()"
      ],
      "execution_count": 23,
      "outputs": [
        {
          "output_type": "stream",
          "text": [
            "(28, 28)\n"
          ],
          "name": "stdout"
        },
        {
          "output_type": "display_data",
          "data": {
            "image/png": "[encoded data removed]",
            "text/plain": [
              "<matplotlib.figure.Figure at 0x7f3a3db7b630>"
            ]
          },
          "metadata": {
            "tags": []
          }
        },
        {
          "output_type": "stream",
          "text": [
            "----------------\n"
          ],
          "name": "stdout"
        },
        {
          "output_type": "display_data",
          "data": {
            "image/png": "[encoded data removed]",
            "text/plain": [
              "<matplotlib.figure.Figure at 0x7f3a3db25a90>"
            ]
          },
          "metadata": {
            "tags": []
          }
        }
      ]
    }
  ]
}
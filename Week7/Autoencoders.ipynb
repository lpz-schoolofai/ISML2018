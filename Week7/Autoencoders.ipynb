{
  "nbformat": 4,
  "nbformat_minor": 0,
  "metadata": {
    "colab": {
      "name": "Autoencoders_from_scratch.ipynb",
      "version": "0.3.2",
      "provenance": [],
      "collapsed_sections": []
    },
    "kernelspec": {
      "name": "python3",
      "display_name": "Python 3"
    },
    "accelerator": "GPU"
  },
  "cells": [
    {
      "metadata": {
        "id": "sG30hc9glBH8",
        "colab_type": "code",
        "colab": {
          "base_uri": "https://localhost:8080/",
          "height": 34
        },
        "outputId": "716aa590-a2c0-4956-a868-9e8ba2af041e"
      },
      "cell_type": "code",
      "source": [
        "import numpy as np\n",
        "from keras.datasets import mnist\n",
        "from keras.layers import Dense, Dropout, InputLayer, Flatten, Reshape, Input\n",
        "from keras.models import Model, Sequential\n",
        "from keras.preprocessing.image import ImageDataGenerator\n",
        "import matplotlib.pyplot as plt"
      ],
      "execution_count": 1,
      "outputs": [
        {
          "output_type": "stream",
          "text": [
            "Using TensorFlow backend.\n"
          ],
          "name": "stderr"
        }
      ]
    },
    {
      "metadata": {
        "id": "RxorBK7mlBIC",
        "colab_type": "code",
        "colab": {}
      },
      "cell_type": "code",
      "source": [
        "(X_mat, Y), (X_t_mat, _) = mnist.load_data()\n",
        "X_mat = X_mat/255\n",
        "X_t_mat = X_t_mat/255"
      ],
      "execution_count": 0,
      "outputs": []
    },
    {
      "metadata": {
        "id": "GIrBhfGjlBIF",
        "colab_type": "code",
        "colab": {}
      },
      "cell_type": "code",
      "source": [
        "n_comps = 256\n",
        "img_shape = X_mat.shape[1:]\n",
        "\n",
        "encoder = Sequential()\n",
        "encoder.add(InputLayer(img_shape))\n",
        "encoder.add(Flatten())                  #flatten image to vector\n",
        "encoder.add(Dense(n_comps))           #actual encoder\n",
        "\n",
        "decoder = Sequential()\n",
        "decoder.add(InputLayer((n_comps,)))\n",
        "decoder.add(Dense(np.prod(img_shape)))  #actual decoder, height*width*3 units\n",
        "decoder.add(Reshape(img_shape))         #un-flatten"
      ],
      "execution_count": 0,
      "outputs": []
    },
    {
      "metadata": {
        "id": "jqnI9amirD04",
        "colab_type": "code",
        "colab": {
          "base_uri": "https://localhost:8080/",
          "height": 510
        },
        "outputId": "d3ea3898-395d-4311-ec9a-b909ba5bcbc9"
      },
      "cell_type": "code",
      "source": [
        "print(encoder.summary())\n",
        "print(decoder.summary())"
      ],
      "execution_count": 4,
      "outputs": [
        {
          "output_type": "stream",
          "text": [
            "_________________________________________________________________\n",
            "Layer (type)                 Output Shape              Param #   \n",
            "=================================================================\n",
            "input_1 (InputLayer)         (None, 28, 28)            0         \n",
            "_________________________________________________________________\n",
            "flatten_1 (Flatten)          (None, 784)               0         \n",
            "_________________________________________________________________\n",
            "dense_1 (Dense)              (None, 256)               200960    \n",
            "=================================================================\n",
            "Total params: 200,960\n",
            "Trainable params: 200,960\n",
            "Non-trainable params: 0\n",
            "_________________________________________________________________\n",
            "None\n",
            "_________________________________________________________________\n",
            "Layer (type)                 Output Shape              Param #   \n",
            "=================================================================\n",
            "input_2 (InputLayer)         (None, 256)               0         \n",
            "_________________________________________________________________\n",
            "dense_2 (Dense)              (None, 784)               201488    \n",
            "_________________________________________________________________\n",
            "reshape_1 (Reshape)          (None, 28, 28)            0         \n",
            "=================================================================\n",
            "Total params: 201,488\n",
            "Trainable params: 201,488\n",
            "Non-trainable params: 0\n",
            "_________________________________________________________________\n",
            "None\n"
          ],
          "name": "stdout"
        }
      ]
    },
    {
      "metadata": {
        "id": "b8Ml7xXylBII",
        "colab_type": "code",
        "colab": {}
      },
      "cell_type": "code",
      "source": [
        "input_tensor = Input(img_shape)\n",
        "cod = encoder(input_tensor)\n",
        "aprox = decoder(cod)\n",
        "\n",
        "autoencoder = Model(inputs=input_tensor, outputs=aprox)\n",
        "autoencoder.compile(optimizer='adamax', loss='mse', metrics=['accuracy'])\n",
        "# autoencoder.compile(optimizer='SGD', loss='mse', metrics=['accuracy'])"
      ],
      "execution_count": 0,
      "outputs": []
    },
    {
      "metadata": {
        "id": "2vU-HQaZlBIK",
        "colab_type": "code",
        "colab": {
          "base_uri": "https://localhost:8080/",
          "height": 580
        },
        "outputId": "8f46b863-2cc2-459f-ea38-fc1b578bd137"
      },
      "cell_type": "code",
      "source": [
        "autoencoder.fit(x=X_mat, y=X_mat, epochs=15,\n",
        "                validation_data=(X_t_mat, X_t_mat))"
      ],
      "execution_count": 6,
      "outputs": [
        {
          "output_type": "stream",
          "text": [
            "Train on 60000 samples, validate on 10000 samples\n",
            "Epoch 1/15\n",
            "60000/60000 [==============================] - 10s 171us/step - loss: 0.0097 - acc: 0.3206 - val_loss: 0.0031 - val_acc: 0.3489\n",
            "Epoch 2/15\n",
            "60000/60000 [==============================] - 9s 158us/step - loss: 0.0023 - acc: 0.3630 - val_loss: 0.0019 - val_acc: 0.3588\n",
            "Epoch 3/15\n",
            "60000/60000 [==============================] - 9s 157us/step - loss: 0.0018 - acc: 0.3697 - val_loss: 0.0017 - val_acc: 0.3739\n",
            "Epoch 4/15\n",
            "60000/60000 [==============================] - 9s 157us/step - loss: 0.0017 - acc: 0.3736 - val_loss: 0.0016 - val_acc: 0.3719\n",
            "Epoch 5/15\n",
            "60000/60000 [==============================] - 9s 158us/step - loss: 0.0016 - acc: 0.3739 - val_loss: 0.0016 - val_acc: 0.3676\n",
            "Epoch 6/15\n",
            "60000/60000 [==============================] - 9s 157us/step - loss: 0.0016 - acc: 0.3747 - val_loss: 0.0015 - val_acc: 0.3656\n",
            "Epoch 7/15\n",
            "60000/60000 [==============================] - 9s 157us/step - loss: 0.0016 - acc: 0.3746 - val_loss: 0.0015 - val_acc: 0.3651\n",
            "Epoch 8/15\n",
            "60000/60000 [==============================] - 10s 159us/step - loss: 0.0016 - acc: 0.3750 - val_loss: 0.0015 - val_acc: 0.3689\n",
            "Epoch 9/15\n",
            "60000/60000 [==============================] - 9s 158us/step - loss: 0.0016 - acc: 0.3755 - val_loss: 0.0016 - val_acc: 0.3690\n",
            "Epoch 10/15\n",
            "60000/60000 [==============================] - 9s 157us/step - loss: 0.0016 - acc: 0.3749 - val_loss: 0.0016 - val_acc: 0.3666\n",
            "Epoch 11/15\n",
            "60000/60000 [==============================] - 9s 157us/step - loss: 0.0016 - acc: 0.3747 - val_loss: 0.0016 - val_acc: 0.3700\n",
            "Epoch 12/15\n",
            "60000/60000 [==============================] - 9s 158us/step - loss: 0.0016 - acc: 0.3750 - val_loss: 0.0015 - val_acc: 0.3687\n",
            "Epoch 13/15\n",
            "60000/60000 [==============================] - 9s 157us/step - loss: 0.0016 - acc: 0.3748 - val_loss: 0.0015 - val_acc: 0.3682\n",
            "Epoch 14/15\n",
            "60000/60000 [==============================] - 9s 157us/step - loss: 0.0016 - acc: 0.3750 - val_loss: 0.0015 - val_acc: 0.3681\n",
            "Epoch 15/15\n",
            "60000/60000 [==============================] - 9s 158us/step - loss: 0.0016 - acc: 0.3753 - val_loss: 0.0015 - val_acc: 0.3703\n"
          ],
          "name": "stdout"
        },
        {
          "output_type": "execute_result",
          "data": {
            "text/plain": [
              "<keras.callbacks.History at 0x7f778da9d780>"
            ]
          },
          "metadata": {
            "tags": []
          },
          "execution_count": 6
        }
      ]
    },
    {
      "metadata": {
        "id": "oqGDDTdqlzE9",
        "colab_type": "code",
        "colab": {}
      },
      "cell_type": "code",
      "source": [
        "index = int(np.random.uniform(0, len(X_t_mat)))\n",
        "\n",
        "img_cod = encoder.predict(np.expand_dims(X_t_mat[index], axis=0))\n",
        "img_dec = decoder.predict(img_cod)"
      ],
      "execution_count": 0,
      "outputs": []
    },
    {
      "metadata": {
        "id": "zaJqLfEpmUMz",
        "colab_type": "code",
        "colab": {
          "base_uri": "https://localhost:8080/",
          "height": 695
        },
        "outputId": "c1acd929-5c2f-4d88-cd86-7097dd532340"
      },
      "cell_type": "code",
      "source": [
        "plt.imshow(X_t_mat[index], cmap='gray')\n",
        "plt.show()\n",
        "print(img_dec.shape)\n",
        "plt.imshow(img_dec[0], cmap='gray')\n",
        "plt.show()"
      ],
      "execution_count": 23,
      "outputs": [
        {
          "output_type": "display_data",
          "data": {
            "image/png": "[encoded data removed]",
            "text/plain": [
              "<matplotlib.figure.Figure at 0x7f7784964f98>"
            ]
          },
          "metadata": {
            "tags": []
          }
        },
        {
          "output_type": "stream",
          "text": [
            "(1, 28, 28)\n"
          ],
          "name": "stdout"
        },
        {
          "output_type": "display_data",
          "data": {
            "image/png": "[encoded data removed]",
            "text/plain": [
              "<matplotlib.figure.Figure at 0x7f7784851eb8>"
            ]
          },
          "metadata": {
            "tags": []
          }
        }
      ]
    },
    {
      "metadata": {
        "id": "wYu-gigEn6vA",
        "colab_type": "text"
      },
      "cell_type": "markdown",
      "source": [
        "# Ahora usaremos un autoencoder más complejo con un codigo mas pequeño"
      ]
    },
    {
      "metadata": {
        "id": "6y-tk-sXoKHe",
        "colab_type": "code",
        "colab": {}
      },
      "cell_type": "code",
      "source": [
        "n_comps = 32\n",
        "img_shape_deep = X_mat.shape[1:]\n",
        "\n",
        "encoder_deep = Sequential()\n",
        "encoder_deep.add(InputLayer(img_shape_deep))\n",
        "encoder_deep.add(Flatten())                  #flatten image to vector\n",
        "encoder_deep.add(Dense(512, activation='relu'))\n",
        "encoder_deep.add(Dense(256, activation='relu'))\n",
        "encoder_deep.add(Dense(128, activation='relu'))\n",
        "encoder_deep.add(Dense(n_comps))\n",
        "\n",
        "decoder_deep = Sequential()\n",
        "decoder_deep.add(InputLayer((n_comps,)))\n",
        "decoder_deep.add(Dense(128, activation='relu'))\n",
        "decoder_deep.add(Dense(256, activation='relu'))\n",
        "decoder_deep.add(Dense(512, activation='relu'))\n",
        "decoder_deep.add(Dense(np.prod(img_shape_deep)))  #actual decoder, height*width*3 units\n",
        "decoder_deep.add(Reshape(img_shape_deep))         #un-flatten"
      ],
      "execution_count": 0,
      "outputs": []
    },
    {
      "metadata": {
        "id": "qh3BD1hLq4Xn",
        "colab_type": "code",
        "colab": {
          "base_uri": "https://localhost:8080/",
          "height": 721
        },
        "outputId": "be4fdfda-db1c-4158-989f-d246f7185d17"
      },
      "cell_type": "code",
      "source": [
        "print(encoder_deep.summary())\n",
        "print(decoder_deep.summary())"
      ],
      "execution_count": 18,
      "outputs": [
        {
          "output_type": "stream",
          "text": [
            "_________________________________________________________________\n",
            "Layer (type)                 Output Shape              Param #   \n",
            "=================================================================\n",
            "input_7 (InputLayer)         (None, 28, 28)            0         \n",
            "_________________________________________________________________\n",
            "flatten_3 (Flatten)          (None, 784)               0         \n",
            "_________________________________________________________________\n",
            "dense_11 (Dense)             (None, 512)               401920    \n",
            "_________________________________________________________________\n",
            "dense_12 (Dense)             (None, 256)               131328    \n",
            "_________________________________________________________________\n",
            "dense_13 (Dense)             (None, 128)               32896     \n",
            "_________________________________________________________________\n",
            "dense_14 (Dense)             (None, 32)                4128      \n",
            "=================================================================\n",
            "Total params: 570,272\n",
            "Trainable params: 570,272\n",
            "Non-trainable params: 0\n",
            "_________________________________________________________________\n",
            "None\n",
            "_________________________________________________________________\n",
            "Layer (type)                 Output Shape              Param #   \n",
            "=================================================================\n",
            "input_8 (InputLayer)         (None, 32)                0         \n",
            "_________________________________________________________________\n",
            "dense_15 (Dense)             (None, 128)               4224      \n",
            "_________________________________________________________________\n",
            "dense_16 (Dense)             (None, 256)               33024     \n",
            "_________________________________________________________________\n",
            "dense_17 (Dense)             (None, 512)               131584    \n",
            "_________________________________________________________________\n",
            "dense_18 (Dense)             (None, 784)               402192    \n",
            "_________________________________________________________________\n",
            "reshape_3 (Reshape)          (None, 28, 28)            0         \n",
            "=================================================================\n",
            "Total params: 571,024\n",
            "Trainable params: 571,024\n",
            "Non-trainable params: 0\n",
            "_________________________________________________________________\n",
            "None\n"
          ],
          "name": "stdout"
        }
      ]
    },
    {
      "metadata": {
        "id": "XENGpnRbpLn9",
        "colab_type": "code",
        "colab": {
          "base_uri": "https://localhost:8080/",
          "height": 34
        },
        "outputId": "02a36597-8dcd-42ea-f56e-482f402fe3ed"
      },
      "cell_type": "code",
      "source": [
        "input_tensor_deep = Input(img_shape_deep)\n",
        "cod_deep = encoder_deep(input_tensor_deep)\n",
        "aprox_deep = decoder_deep(cod_deep)\n",
        "print(aprox_deep.shape)\n",
        "\n",
        "autoencoder_deep = Model(inputs=input_tensor_deep, outputs=aprox_deep)\n",
        "autoencoder_deep.compile(optimizer='adamax', loss='mse', metrics=['accuracy'])\n",
        "# autoencoder.compile(optimizer='SGD', loss='mse', metrics=['accuracy'])"
      ],
      "execution_count": 19,
      "outputs": [
        {
          "output_type": "stream",
          "text": [
            "(?, 28, 28)\n"
          ],
          "name": "stdout"
        }
      ]
    },
    {
      "metadata": {
        "id": "CXRKy2WsqbCl",
        "colab_type": "code",
        "colab": {
          "base_uri": "https://localhost:8080/",
          "height": 281
        },
        "outputId": "7d59fe46-a69c-48d7-c8bc-2b63f0bf472b"
      },
      "cell_type": "code",
      "source": [
        "print(img_shape_deep)\n",
        "print(autoencoder_deep.summary())"
      ],
      "execution_count": 20,
      "outputs": [
        {
          "output_type": "stream",
          "text": [
            "(28, 28)\n",
            "_________________________________________________________________\n",
            "Layer (type)                 Output Shape              Param #   \n",
            "=================================================================\n",
            "input_9 (InputLayer)         (None, 28, 28)            0         \n",
            "_________________________________________________________________\n",
            "sequential_5 (Sequential)    (None, 32)                570272    \n",
            "_________________________________________________________________\n",
            "sequential_6 (Sequential)    (None, 28, 28)            571024    \n",
            "=================================================================\n",
            "Total params: 1,141,296\n",
            "Trainable params: 1,141,296\n",
            "Non-trainable params: 0\n",
            "_________________________________________________________________\n",
            "None\n"
          ],
          "name": "stdout"
        }
      ]
    },
    {
      "metadata": {
        "id": "lcoHVfa4qKPX",
        "colab_type": "code",
        "colab": {
          "base_uri": "https://localhost:8080/",
          "height": 932
        },
        "outputId": "e9c61084-d231-4c3b-9c1b-2b5f62c7397b"
      },
      "cell_type": "code",
      "source": [
        "autoencoder_deep.fit(x=X_mat, y=X_mat, epochs=25,\n",
        "                validation_data=(X_t_mat, X_t_mat))"
      ],
      "execution_count": 21,
      "outputs": [
        {
          "output_type": "stream",
          "text": [
            "Train on 60000 samples, validate on 10000 samples\n",
            "Epoch 1/25\n",
            "60000/60000 [==============================] - 17s 288us/step - loss: 0.0220 - acc: 0.2461 - val_loss: 0.0146 - val_acc: 0.2746\n",
            "Epoch 2/25\n",
            "60000/60000 [==============================] - 17s 282us/step - loss: 0.0135 - acc: 0.2848 - val_loss: 0.0121 - val_acc: 0.2840\n",
            "Epoch 3/25\n",
            "60000/60000 [==============================] - 17s 282us/step - loss: 0.0116 - acc: 0.2949 - val_loss: 0.0108 - val_acc: 0.2901\n",
            "Epoch 4/25\n",
            "60000/60000 [==============================] - 17s 282us/step - loss: 0.0106 - acc: 0.3015 - val_loss: 0.0102 - val_acc: 0.2919\n",
            "Epoch 5/25\n",
            "60000/60000 [==============================] - 17s 281us/step - loss: 0.0099 - acc: 0.3057 - val_loss: 0.0098 - val_acc: 0.2959\n",
            "Epoch 6/25\n",
            "60000/60000 [==============================] - 17s 282us/step - loss: 0.0094 - acc: 0.3096 - val_loss: 0.0091 - val_acc: 0.3029\n",
            "Epoch 7/25\n",
            "60000/60000 [==============================] - 17s 281us/step - loss: 0.0090 - acc: 0.3118 - val_loss: 0.0087 - val_acc: 0.3092\n",
            "Epoch 8/25\n",
            "60000/60000 [==============================] - 17s 281us/step - loss: 0.0086 - acc: 0.3141 - val_loss: 0.0086 - val_acc: 0.3082\n",
            "Epoch 9/25\n",
            "60000/60000 [==============================] - 17s 281us/step - loss: 0.0084 - acc: 0.3154 - val_loss: 0.0084 - val_acc: 0.3114\n",
            "Epoch 10/25\n",
            "60000/60000 [==============================] - 17s 282us/step - loss: 0.0081 - acc: 0.3179 - val_loss: 0.0081 - val_acc: 0.3055\n",
            "Epoch 11/25\n",
            "60000/60000 [==============================] - 17s 280us/step - loss: 0.0079 - acc: 0.3189 - val_loss: 0.0078 - val_acc: 0.3117\n",
            "Epoch 12/25\n",
            "60000/60000 [==============================] - 17s 280us/step - loss: 0.0078 - acc: 0.3200 - val_loss: 0.0076 - val_acc: 0.3149\n",
            "Epoch 13/25\n",
            "60000/60000 [==============================] - 17s 279us/step - loss: 0.0076 - acc: 0.3204 - val_loss: 0.0078 - val_acc: 0.3120\n",
            "Epoch 14/25\n",
            "60000/60000 [==============================] - 17s 281us/step - loss: 0.0074 - acc: 0.3219 - val_loss: 0.0075 - val_acc: 0.3131\n",
            "Epoch 15/25\n",
            "60000/60000 [==============================] - 17s 280us/step - loss: 0.0073 - acc: 0.3223 - val_loss: 0.0073 - val_acc: 0.3084\n",
            "Epoch 16/25\n",
            "60000/60000 [==============================] - 17s 279us/step - loss: 0.0072 - acc: 0.3232 - val_loss: 0.0072 - val_acc: 0.3141\n",
            "Epoch 17/25\n",
            "60000/60000 [==============================] - 17s 280us/step - loss: 0.0071 - acc: 0.3245 - val_loss: 0.0071 - val_acc: 0.3251\n",
            "Epoch 18/25\n",
            "60000/60000 [==============================] - 17s 279us/step - loss: 0.0070 - acc: 0.3253 - val_loss: 0.0071 - val_acc: 0.3144\n",
            "Epoch 19/25\n",
            "60000/60000 [==============================] - 17s 280us/step - loss: 0.0069 - acc: 0.3249 - val_loss: 0.0069 - val_acc: 0.3243\n",
            "Epoch 20/25\n",
            "60000/60000 [==============================] - 17s 280us/step - loss: 0.0068 - acc: 0.3266 - val_loss: 0.0068 - val_acc: 0.3209\n",
            "Epoch 21/25\n",
            "60000/60000 [==============================] - 17s 279us/step - loss: 0.0067 - acc: 0.3259 - val_loss: 0.0068 - val_acc: 0.3149\n",
            "Epoch 22/25\n",
            "60000/60000 [==============================] - 17s 281us/step - loss: 0.0067 - acc: 0.3263 - val_loss: 0.0067 - val_acc: 0.3243\n",
            "Epoch 23/25\n",
            "60000/60000 [==============================] - 17s 279us/step - loss: 0.0066 - acc: 0.3270 - val_loss: 0.0067 - val_acc: 0.3136\n",
            "Epoch 24/25\n",
            "60000/60000 [==============================] - 17s 282us/step - loss: 0.0065 - acc: 0.3276 - val_loss: 0.0066 - val_acc: 0.3161\n",
            "Epoch 25/25\n",
            "60000/60000 [==============================] - 17s 281us/step - loss: 0.0064 - acc: 0.3274 - val_loss: 0.0066 - val_acc: 0.3178\n"
          ],
          "name": "stdout"
        },
        {
          "output_type": "execute_result",
          "data": {
            "text/plain": [
              "<keras.callbacks.History at 0x7f7784c367b8>"
            ]
          },
          "metadata": {
            "tags": []
          },
          "execution_count": 21
        }
      ]
    },
    {
      "metadata": {
        "id": "axiBNMhhsnGk",
        "colab_type": "code",
        "colab": {
          "base_uri": "https://localhost:8080/",
          "height": 713
        },
        "outputId": "f93a0810-6b38-459c-ec16-e30bf245b395"
      },
      "cell_type": "code",
      "source": [
        "index = int(np.random.uniform(0, len(X_t_mat)))\n",
        "\n",
        "img_cod = encoder_deep.predict(np.expand_dims(X_t_mat[index], axis=0))\n",
        "img_dec = decoder_deep.predict(img_cod)\n",
        "\n",
        "print(img_dec[0].shape)\n",
        "plt.imshow(X_t_mat[index], cmap='gray')\n",
        "plt.show()\n",
        "print('----------------')\n",
        "plt.imshow(img_dec[0], cmap='gray')\n",
        "plt.show()"
      ],
      "execution_count": 26,
      "outputs": [
        {
          "output_type": "stream",
          "text": [
            "(28, 28)\n"
          ],
          "name": "stdout"
        },
        {
          "output_type": "display_data",
          "data": {
            "image/png": "[encoded data removed]",
            "text/plain": [
              "<matplotlib.figure.Figure at 0x7f7785ee0978>"
            ]
          },
          "metadata": {
            "tags": []
          }
        },
        {
          "output_type": "stream",
          "text": [
            "----------------\n"
          ],
          "name": "stdout"
        },
        {
          "output_type": "display_data",
          "data": {
            "image/png": "[encoded data removed]",
            "text/plain": [
              "<matplotlib.figure.Figure at 0x7f7784f8d0b8>"
            ]
          },
          "metadata": {
            "tags": []
          }
        }
      ]
    }
  ]
}
{
 "cells": [
  {
   "cell_type": "code",
   "execution_count": 1,
   "metadata": {
    "slideshow": {
     "slide_type": "notes"
    }
   },
   "outputs": [],
   "source": [
    "import pandas as pd\n",
    "import numpy as np\n",
    "import matplotlib.pyplot as plt\n",
    "import IPython\n",
    "plt.style.use('ggplot')"
   ]
  },
  {
   "cell_type": "markdown",
   "metadata": {
    "slideshow": {
     "slide_type": "slide"
    }
   },
   "source": [
    "# Clustering\n",
    "_Marco Antonio Vino_\n",
    "\n",
    "_CCD-La Paz_"
   ]
  },
  {
   "cell_type": "markdown",
   "metadata": {
    "slideshow": {
     "slide_type": "slide"
    }
   },
   "source": [
    "# Intuición K-means"
   ]
  },
  {
   "cell_type": "code",
   "execution_count": 2,
   "metadata": {
    "scrolled": true,
    "slideshow": {
     "slide_type": "subslide"
    }
   },
   "outputs": [
    {
     "data": {
      "text/html": [
       "<iframe src=https://www.naftaliharris.com/blog/visualizing-k-means-clustering/ width=700 height=350></iframe>"
      ],
      "text/plain": [
       "<IPython.core.display.HTML object>"
      ]
     },
     "execution_count": 2,
     "metadata": {},
     "output_type": "execute_result"
    }
   ],
   "source": [
    "url = 'https://www.naftaliharris.com/blog/visualizing-k-means-clustering/'\n",
    "IPython.display.HTML('<iframe src=' + url + ' width=700 height=350></iframe>')"
   ]
  },
  {
   "cell_type": "markdown",
   "metadata": {
    "slideshow": {
     "slide_type": "slide"
    }
   },
   "source": [
    "## Algunos Ejemplos"
   ]
  },
  {
   "cell_type": "code",
   "execution_count": 3,
   "metadata": {
    "slideshow": {
     "slide_type": "subslide"
    }
   },
   "outputs": [
    {
     "name": "stdout",
     "output_type": "stream",
     "text": [
      "(788, 3)\n"
     ]
    },
    {
     "data": {
      "text/html": [
       "<div>\n",
       "<style scoped>\n",
       "    .dataframe tbody tr th:only-of-type {\n",
       "        vertical-align: middle;\n",
       "    }\n",
       "\n",
       "    .dataframe tbody tr th {\n",
       "        vertical-align: top;\n",
       "    }\n",
       "\n",
       "    .dataframe thead th {\n",
       "        text-align: right;\n",
       "    }\n",
       "</style>\n",
       "<table border=\"1\" class=\"dataframe\">\n",
       "  <thead>\n",
       "    <tr style=\"text-align: right;\">\n",
       "      <th></th>\n",
       "      <th>x</th>\n",
       "      <th>y</th>\n",
       "      <th>Ci</th>\n",
       "    </tr>\n",
       "  </thead>\n",
       "  <tbody>\n",
       "    <tr>\n",
       "      <th>count</th>\n",
       "      <td>788.000000</td>\n",
       "      <td>788.000000</td>\n",
       "      <td>788.000000</td>\n",
       "    </tr>\n",
       "    <tr>\n",
       "      <th>mean</th>\n",
       "      <td>19.566815</td>\n",
       "      <td>14.171764</td>\n",
       "      <td>3.770305</td>\n",
       "    </tr>\n",
       "    <tr>\n",
       "      <th>std</th>\n",
       "      <td>9.922042</td>\n",
       "      <td>8.089683</td>\n",
       "      <td>1.596305</td>\n",
       "    </tr>\n",
       "    <tr>\n",
       "      <th>min</th>\n",
       "      <td>3.350000</td>\n",
       "      <td>1.950000</td>\n",
       "      <td>1.000000</td>\n",
       "    </tr>\n",
       "    <tr>\n",
       "      <th>25%</th>\n",
       "      <td>11.150000</td>\n",
       "      <td>7.037500</td>\n",
       "      <td>2.000000</td>\n",
       "    </tr>\n",
       "    <tr>\n",
       "      <th>50%</th>\n",
       "      <td>18.225000</td>\n",
       "      <td>11.725000</td>\n",
       "      <td>4.000000</td>\n",
       "    </tr>\n",
       "    <tr>\n",
       "      <th>75%</th>\n",
       "      <td>30.700000</td>\n",
       "      <td>21.962500</td>\n",
       "      <td>5.000000</td>\n",
       "    </tr>\n",
       "    <tr>\n",
       "      <th>max</th>\n",
       "      <td>36.550000</td>\n",
       "      <td>29.150000</td>\n",
       "      <td>7.000000</td>\n",
       "    </tr>\n",
       "  </tbody>\n",
       "</table>\n",
       "</div>"
      ],
      "text/plain": [
       "                x           y          Ci\n",
       "count  788.000000  788.000000  788.000000\n",
       "mean    19.566815   14.171764    3.770305\n",
       "std      9.922042    8.089683    1.596305\n",
       "min      3.350000    1.950000    1.000000\n",
       "25%     11.150000    7.037500    2.000000\n",
       "50%     18.225000   11.725000    4.000000\n",
       "75%     30.700000   21.962500    5.000000\n",
       "max     36.550000   29.150000    7.000000"
      ]
     },
     "execution_count": 3,
     "metadata": {},
     "output_type": "execute_result"
    }
   ],
   "source": [
    "Aggregation = pd.read_csv(\"data/Aggregation.txt\", sep= \"\\t\", names = [\"x\",\"y\", \"Ci\"])\n",
    "print(Aggregation.shape)\n",
    "Aggregation.describe()"
   ]
  },
  {
   "cell_type": "code",
   "execution_count": 4,
   "metadata": {
    "slideshow": {
     "slide_type": "subslide"
    }
   },
   "outputs": [
    {
     "data": {
      "text/plain": [
       "<matplotlib.collections.PathCollection at 0x7f548a3a8048>"
      ]
     },
     "execution_count": 4,
     "metadata": {},
     "output_type": "execute_result"
    },
    {
     "data": {
      "image/png": "[encoded data removed]",
      "text/plain": [
       "<Figure size 432x288 with 1 Axes>"
      ]
     },
     "metadata": {},
     "output_type": "display_data"
    }
   ],
   "source": [
    "plt.scatter(Aggregation.x, Aggregation.y, c=Aggregation.Ci)"
   ]
  },
  {
   "cell_type": "code",
   "execution_count": 5,
   "metadata": {
    "slideshow": {
     "slide_type": "subslide"
    }
   },
   "outputs": [
    {
     "name": "stdout",
     "output_type": "stream",
     "text": [
      "(373, 3)\n"
     ]
    },
    {
     "data": {
      "text/html": [
       "<div>\n",
       "<style scoped>\n",
       "    .dataframe tbody tr th:only-of-type {\n",
       "        vertical-align: middle;\n",
       "    }\n",
       "\n",
       "    .dataframe tbody tr th {\n",
       "        vertical-align: top;\n",
       "    }\n",
       "\n",
       "    .dataframe thead th {\n",
       "        text-align: right;\n",
       "    }\n",
       "</style>\n",
       "<table border=\"1\" class=\"dataframe\">\n",
       "  <thead>\n",
       "    <tr style=\"text-align: right;\">\n",
       "      <th></th>\n",
       "      <th>x</th>\n",
       "      <th>y</th>\n",
       "      <th>Ci</th>\n",
       "    </tr>\n",
       "  </thead>\n",
       "  <tbody>\n",
       "    <tr>\n",
       "      <th>count</th>\n",
       "      <td>373.000000</td>\n",
       "      <td>373.000000</td>\n",
       "      <td>373.000000</td>\n",
       "    </tr>\n",
       "    <tr>\n",
       "      <th>mean</th>\n",
       "      <td>24.330697</td>\n",
       "      <td>12.145979</td>\n",
       "      <td>1.260054</td>\n",
       "    </tr>\n",
       "    <tr>\n",
       "      <th>std</th>\n",
       "      <td>9.853372</td>\n",
       "      <td>6.605375</td>\n",
       "      <td>0.439253</td>\n",
       "    </tr>\n",
       "    <tr>\n",
       "      <th>min</th>\n",
       "      <td>0.750000</td>\n",
       "      <td>2.950000</td>\n",
       "      <td>1.000000</td>\n",
       "    </tr>\n",
       "    <tr>\n",
       "      <th>25%</th>\n",
       "      <td>17.350000</td>\n",
       "      <td>6.300000</td>\n",
       "      <td>1.000000</td>\n",
       "    </tr>\n",
       "    <tr>\n",
       "      <th>50%</th>\n",
       "      <td>23.150000</td>\n",
       "      <td>11.250000</td>\n",
       "      <td>1.000000</td>\n",
       "    </tr>\n",
       "    <tr>\n",
       "      <th>75%</th>\n",
       "      <td>33.350000</td>\n",
       "      <td>16.500000</td>\n",
       "      <td>2.000000</td>\n",
       "    </tr>\n",
       "    <tr>\n",
       "      <th>max</th>\n",
       "      <td>41.300000</td>\n",
       "      <td>27.850000</td>\n",
       "      <td>2.000000</td>\n",
       "    </tr>\n",
       "  </tbody>\n",
       "</table>\n",
       "</div>"
      ],
      "text/plain": [
       "                x           y          Ci\n",
       "count  373.000000  373.000000  373.000000\n",
       "mean    24.330697   12.145979    1.260054\n",
       "std      9.853372    6.605375    0.439253\n",
       "min      0.750000    2.950000    1.000000\n",
       "25%     17.350000    6.300000    1.000000\n",
       "50%     23.150000   11.250000    1.000000\n",
       "75%     33.350000   16.500000    2.000000\n",
       "max     41.300000   27.850000    2.000000"
      ]
     },
     "execution_count": 5,
     "metadata": {},
     "output_type": "execute_result"
    }
   ],
   "source": [
    "Jain = pd.read_csv(\"data/jain.txt\", sep= \"\\t\", names = [\"x\",\"y\", \"Ci\"])\n",
    "print(Jain.shape)\n",
    "Jain.describe()"
   ]
  },
  {
   "cell_type": "code",
   "execution_count": 6,
   "metadata": {
    "slideshow": {
     "slide_type": "subslide"
    }
   },
   "outputs": [
    {
     "data": {
      "image/png": "[encoded data removed]",
      "text/plain": [
       "<Figure size 432x288 with 1 Axes>"
      ]
     },
     "metadata": {},
     "output_type": "display_data"
    }
   ],
   "source": [
    "plt.scatter(Jain.x, Jain.y, c=Jain.Ci)\n",
    "plt.show()"
   ]
  },
  {
   "cell_type": "markdown",
   "metadata": {
    "slideshow": {
     "slide_type": "slide"
    }
   },
   "source": [
    "# Desarrollando K-Means\n",
    "**Solamente para datos numéricos.** Definimos el dominio de cada una de los atributos que tenemos y estadarizamos los atributos para que se mantenga su valor.\n"
   ]
  },
  {
   "cell_type": "code",
   "execution_count": 7,
   "metadata": {
    "slideshow": {
     "slide_type": "subslide"
    }
   },
   "outputs": [
    {
     "data": {
      "text/plain": [
       "Text(0.5,1,'Valores Normalizados')"
      ]
     },
     "execution_count": 7,
     "metadata": {},
     "output_type": "execute_result"
    },
    {
     "data": {
      "image/png": "[encoded data removed]",
      "text/plain": [
       "<Figure size 432x288 with 2 Axes>"
      ]
     },
     "metadata": {},
     "output_type": "display_data"
    }
   ],
   "source": [
    "Jain_Norm = (Jain - Jain.mean())/Jain.std() ## Normalización de los valores\n",
    "f, (ax1, ax2) = plt.subplots(1, 2, sharey=True)\n",
    "ax1.hist(Jain.x)\n",
    "ax1.set_title('Valores originales')\n",
    "ax2.hist(Jain_Norm.x, color=\"g\")\n",
    "ax2.set_title('Valores Normalizados')"
   ]
  },
  {
   "cell_type": "code",
   "execution_count": 8,
   "metadata": {
    "scrolled": true,
    "slideshow": {
     "slide_type": "notes"
    }
   },
   "outputs": [
    {
     "data": {
      "text/plain": [
       "x     5.113574e-16\n",
       "y     4.232539e-16\n",
       "Ci   -1.407275e-15\n",
       "dtype: float64"
      ]
     },
     "execution_count": 8,
     "metadata": {},
     "output_type": "execute_result"
    }
   ],
   "source": [
    "Jain_Norm.mean()"
   ]
  },
  {
   "cell_type": "code",
   "execution_count": 9,
   "metadata": {
    "scrolled": true,
    "slideshow": {
     "slide_type": "notes"
    }
   },
   "outputs": [],
   "source": [
    "def normDF(df):\n",
    "    \"\"\"\n",
    "    Normaliza los valores del dataframe que introducimos\n",
    "    \"\"\"\n",
    "    return (df - df.mean())/df.std()"
   ]
  },
  {
   "cell_type": "code",
   "execution_count": 10,
   "metadata": {
    "slideshow": {
     "slide_type": "notes"
    }
   },
   "outputs": [],
   "source": [
    "Jain_Norm = normDF(Jain.iloc[:,:-1])"
   ]
  },
  {
   "cell_type": "code",
   "execution_count": 11,
   "metadata": {
    "slideshow": {
     "slide_type": "notes"
    }
   },
   "outputs": [
    {
     "data": {
      "text/html": [
       "<div>\n",
       "<style scoped>\n",
       "    .dataframe tbody tr th:only-of-type {\n",
       "        vertical-align: middle;\n",
       "    }\n",
       "\n",
       "    .dataframe tbody tr th {\n",
       "        vertical-align: top;\n",
       "    }\n",
       "\n",
       "    .dataframe thead th {\n",
       "        text-align: right;\n",
       "    }\n",
       "</style>\n",
       "<table border=\"1\" class=\"dataframe\">\n",
       "  <thead>\n",
       "    <tr style=\"text-align: right;\">\n",
       "      <th></th>\n",
       "      <th>0</th>\n",
       "      <th>1</th>\n",
       "      <th>2</th>\n",
       "    </tr>\n",
       "  </thead>\n",
       "  <tbody>\n",
       "    <tr>\n",
       "      <th>0</th>\n",
       "      <td>1</td>\n",
       "      <td>2</td>\n",
       "      <td>3</td>\n",
       "    </tr>\n",
       "    <tr>\n",
       "      <th>1</th>\n",
       "      <td>4</td>\n",
       "      <td>2</td>\n",
       "      <td>2</td>\n",
       "    </tr>\n",
       "    <tr>\n",
       "      <th>2</th>\n",
       "      <td>45</td>\n",
       "      <td>3</td>\n",
       "      <td>5</td>\n",
       "    </tr>\n",
       "    <tr>\n",
       "      <th>3</th>\n",
       "      <td>45</td>\n",
       "      <td>34</td>\n",
       "      <td>4</td>\n",
       "    </tr>\n",
       "  </tbody>\n",
       "</table>\n",
       "</div>"
      ],
      "text/plain": [
       "    0   1  2\n",
       "0   1   2  3\n",
       "1   4   2  2\n",
       "2  45   3  5\n",
       "3  45  34  4"
      ]
     },
     "execution_count": 11,
     "metadata": {},
     "output_type": "execute_result"
    }
   ],
   "source": [
    "Q = [[1,2,3], [4,2,2],[45,3,5], [45,34,4]]\n",
    "Q = pd.DataFrame(Q)\n",
    "Q"
   ]
  },
  {
   "cell_type": "markdown",
   "metadata": {
    "slideshow": {
     "slide_type": "subslide"
    }
   },
   "source": [
    "## Función objetivo\n",
    "\n",
    "$$ P(W,Q) = \\sum_{l=1}^k \\sum_{i=1}^n w_{i,l} \\ d(X_i,Q_l)$$\n",
    "\n",
    "Para calcular nuestra función objetivo necesitamos definir la funcion $d(X_i,Q_l)$ que lo haremos a traves de la distancia euclidiana.  \n"
   ]
  },
  {
   "cell_type": "markdown",
   "metadata": {
    "slideshow": {
     "slide_type": "subslide"
    }
   },
   "source": [
    "\n",
    "Para simplificar los cálculos, de la función objetivo la expresaremos de manera matricial. \n",
    "\n",
    "$$ P(W,Q) = tr( W' D(X,Q))$$\n",
    "\n",
    "La funcion $D(X,Q)$, nos devolverá una matriz de $nxk$ dimensiones siendo cada elemento $d_{i,j}$ las distancias de la observación $i$ respecto a cluster $j$"
   ]
  },
  {
   "cell_type": "code",
   "execution_count": 12,
   "metadata": {
    "slideshow": {
     "slide_type": "notes"
    }
   },
   "outputs": [],
   "source": [
    "def d(Xi, Qi):\n",
    "    return np.sqrt(np.sum((Xi - Qi)**2))\n",
    "\n",
    "def D(X,Q, d):\n",
    "    D = []\n",
    "    for q in range(Q.shape[0]): \n",
    "        qi = np.array(Q.iloc[q,:]) # Extrayendo cada centroide como un np.array\n",
    "        D.append(X.apply(d,Qi = qi , axis =1))\n",
    "    return pd.DataFrame(D).T    "
   ]
  },
  {
   "cell_type": "code",
   "execution_count": 13,
   "metadata": {
    "slideshow": {
     "slide_type": "notes"
    }
   },
   "outputs": [
    {
     "data": {
      "text/html": [
       "<div>\n",
       "<style scoped>\n",
       "    .dataframe tbody tr th:only-of-type {\n",
       "        vertical-align: middle;\n",
       "    }\n",
       "\n",
       "    .dataframe tbody tr th {\n",
       "        vertical-align: top;\n",
       "    }\n",
       "\n",
       "    .dataframe thead th {\n",
       "        text-align: right;\n",
       "    }\n",
       "</style>\n",
       "<table border=\"1\" class=\"dataframe\">\n",
       "  <thead>\n",
       "    <tr style=\"text-align: right;\">\n",
       "      <th></th>\n",
       "      <th>0</th>\n",
       "      <th>1</th>\n",
       "      <th>2</th>\n",
       "      <th>3</th>\n",
       "    </tr>\n",
       "  </thead>\n",
       "  <tbody>\n",
       "    <tr>\n",
       "      <th>0</th>\n",
       "      <td>15.483055</td>\n",
       "      <td>15.767847</td>\n",
       "      <td>46.551316</td>\n",
       "      <td>47.192425</td>\n",
       "    </tr>\n",
       "    <tr>\n",
       "      <th>1</th>\n",
       "      <td>13.639007</td>\n",
       "      <td>13.982936</td>\n",
       "      <td>46.106643</td>\n",
       "      <td>47.964805</td>\n",
       "    </tr>\n",
       "    <tr>\n",
       "      <th>2</th>\n",
       "      <td>13.681831</td>\n",
       "      <td>13.468203</td>\n",
       "      <td>43.622156</td>\n",
       "      <td>45.683613</td>\n",
       "    </tr>\n",
       "    <tr>\n",
       "      <th>3</th>\n",
       "      <td>12.957720</td>\n",
       "      <td>12.263870</td>\n",
       "      <td>41.406551</td>\n",
       "      <td>44.453374</td>\n",
       "    </tr>\n",
       "    <tr>\n",
       "      <th>4</th>\n",
       "      <td>14.231391</td>\n",
       "      <td>13.679638</td>\n",
       "      <td>42.154863</td>\n",
       "      <td>44.144450</td>\n",
       "    </tr>\n",
       "    <tr>\n",
       "      <th>5</th>\n",
       "      <td>14.551460</td>\n",
       "      <td>13.915639</td>\n",
       "      <td>41.788096</td>\n",
       "      <td>43.652549</td>\n",
       "    </tr>\n",
       "    <tr>\n",
       "      <th>6</th>\n",
       "      <td>16.450532</td>\n",
       "      <td>15.938005</td>\n",
       "      <td>42.696838</td>\n",
       "      <td>43.072265</td>\n",
       "    </tr>\n",
       "    <tr>\n",
       "      <th>7</th>\n",
       "      <td>16.674007</td>\n",
       "      <td>16.261073</td>\n",
       "      <td>43.286516</td>\n",
       "      <td>43.407632</td>\n",
       "    </tr>\n",
       "    <tr>\n",
       "      <th>8</th>\n",
       "      <td>17.054765</td>\n",
       "      <td>16.750075</td>\n",
       "      <td>43.976869</td>\n",
       "      <td>43.743171</td>\n",
       "    </tr>\n",
       "    <tr>\n",
       "      <th>9</th>\n",
       "      <td>17.889941</td>\n",
       "      <td>17.710167</td>\n",
       "      <td>44.927163</td>\n",
       "      <td>44.034645</td>\n",
       "    </tr>\n",
       "    <tr>\n",
       "      <th>10</th>\n",
       "      <td>19.269990</td>\n",
       "      <td>19.181567</td>\n",
       "      <td>45.943797</td>\n",
       "      <td>44.062824</td>\n",
       "    </tr>\n",
       "    <tr>\n",
       "      <th>11</th>\n",
       "      <td>19.985807</td>\n",
       "      <td>19.870393</td>\n",
       "      <td>46.042725</td>\n",
       "      <td>43.671873</td>\n",
       "    </tr>\n",
       "    <tr>\n",
       "      <th>12</th>\n",
       "      <td>20.085629</td>\n",
       "      <td>19.850252</td>\n",
       "      <td>45.315919</td>\n",
       "      <td>42.904924</td>\n",
       "    </tr>\n",
       "    <tr>\n",
       "      <th>13</th>\n",
       "      <td>18.394632</td>\n",
       "      <td>18.054432</td>\n",
       "      <td>44.136861</td>\n",
       "      <td>42.976302</td>\n",
       "    </tr>\n",
       "    <tr>\n",
       "      <th>14</th>\n",
       "      <td>13.988924</td>\n",
       "      <td>12.903100</td>\n",
       "      <td>39.624361</td>\n",
       "      <td>42.580395</td>\n",
       "    </tr>\n",
       "    <tr>\n",
       "      <th>15</th>\n",
       "      <td>15.983507</td>\n",
       "      <td>14.952341</td>\n",
       "      <td>39.828037</td>\n",
       "      <td>41.294945</td>\n",
       "    </tr>\n",
       "    <tr>\n",
       "      <th>16</th>\n",
       "      <td>17.760419</td>\n",
       "      <td>16.936130</td>\n",
       "      <td>41.113653</td>\n",
       "      <td>40.939376</td>\n",
       "    </tr>\n",
       "    <tr>\n",
       "      <th>17</th>\n",
       "      <td>18.921218</td>\n",
       "      <td>18.157987</td>\n",
       "      <td>41.651080</td>\n",
       "      <td>40.534091</td>\n",
       "    </tr>\n",
       "    <tr>\n",
       "      <th>18</th>\n",
       "      <td>19.199609</td>\n",
       "      <td>18.642022</td>\n",
       "      <td>43.008429</td>\n",
       "      <td>41.444240</td>\n",
       "    </tr>\n",
       "    <tr>\n",
       "      <th>19</th>\n",
       "      <td>20.329535</td>\n",
       "      <td>19.856737</td>\n",
       "      <td>43.848489</td>\n",
       "      <td>41.389491</td>\n",
       "    </tr>\n",
       "    <tr>\n",
       "      <th>20</th>\n",
       "      <td>20.587435</td>\n",
       "      <td>19.963529</td>\n",
       "      <td>42.905040</td>\n",
       "      <td>40.388643</td>\n",
       "    </tr>\n",
       "    <tr>\n",
       "      <th>21</th>\n",
       "      <td>20.942600</td>\n",
       "      <td>20.403247</td>\n",
       "      <td>43.572841</td>\n",
       "      <td>40.718454</td>\n",
       "    </tr>\n",
       "    <tr>\n",
       "      <th>22</th>\n",
       "      <td>21.831170</td>\n",
       "      <td>21.433618</td>\n",
       "      <td>44.824101</td>\n",
       "      <td>41.235907</td>\n",
       "    </tr>\n",
       "    <tr>\n",
       "      <th>23</th>\n",
       "      <td>22.208388</td>\n",
       "      <td>21.906905</td>\n",
       "      <td>45.629075</td>\n",
       "      <td>41.739819</td>\n",
       "    </tr>\n",
       "    <tr>\n",
       "      <th>24</th>\n",
       "      <td>22.794078</td>\n",
       "      <td>22.426993</td>\n",
       "      <td>45.375875</td>\n",
       "      <td>41.087346</td>\n",
       "    </tr>\n",
       "    <tr>\n",
       "      <th>25</th>\n",
       "      <td>25.383705</td>\n",
       "      <td>24.692762</td>\n",
       "      <td>43.770224</td>\n",
       "      <td>37.737680</td>\n",
       "    </tr>\n",
       "    <tr>\n",
       "      <th>26</th>\n",
       "      <td>27.298581</td>\n",
       "      <td>26.425603</td>\n",
       "      <td>42.820702</td>\n",
       "      <td>35.471291</td>\n",
       "    </tr>\n",
       "    <tr>\n",
       "      <th>27</th>\n",
       "      <td>25.096065</td>\n",
       "      <td>24.193233</td>\n",
       "      <td>41.926275</td>\n",
       "      <td>36.315458</td>\n",
       "    </tr>\n",
       "    <tr>\n",
       "      <th>28</th>\n",
       "      <td>20.809853</td>\n",
       "      <td>19.795201</td>\n",
       "      <td>40.227478</td>\n",
       "      <td>38.105774</td>\n",
       "    </tr>\n",
       "    <tr>\n",
       "      <th>29</th>\n",
       "      <td>23.187928</td>\n",
       "      <td>22.010906</td>\n",
       "      <td>39.287148</td>\n",
       "      <td>35.663427</td>\n",
       "    </tr>\n",
       "    <tr>\n",
       "      <th>...</th>\n",
       "      <td>...</td>\n",
       "      <td>...</td>\n",
       "      <td>...</td>\n",
       "      <td>...</td>\n",
       "    </tr>\n",
       "    <tr>\n",
       "      <th>343</th>\n",
       "      <td>39.666611</td>\n",
       "      <td>36.761937</td>\n",
       "      <td>12.491597</td>\n",
       "      <td>21.854977</td>\n",
       "    </tr>\n",
       "    <tr>\n",
       "      <th>344</th>\n",
       "      <td>39.534953</td>\n",
       "      <td>36.623933</td>\n",
       "      <td>12.272428</td>\n",
       "      <td>22.154289</td>\n",
       "    </tr>\n",
       "    <tr>\n",
       "      <th>345</th>\n",
       "      <td>39.627800</td>\n",
       "      <td>36.703712</td>\n",
       "      <td>11.707369</td>\n",
       "      <td>22.613326</td>\n",
       "    </tr>\n",
       "    <tr>\n",
       "      <th>346</th>\n",
       "      <td>39.778009</td>\n",
       "      <td>36.841417</td>\n",
       "      <td>11.121601</td>\n",
       "      <td>23.067076</td>\n",
       "    </tr>\n",
       "    <tr>\n",
       "      <th>347</th>\n",
       "      <td>39.952378</td>\n",
       "      <td>37.025565</td>\n",
       "      <td>11.497500</td>\n",
       "      <td>22.574156</td>\n",
       "    </tr>\n",
       "    <tr>\n",
       "      <th>348</th>\n",
       "      <td>40.263197</td>\n",
       "      <td>37.344678</td>\n",
       "      <td>11.773912</td>\n",
       "      <td>22.093551</td>\n",
       "    </tr>\n",
       "    <tr>\n",
       "      <th>349</th>\n",
       "      <td>40.709704</td>\n",
       "      <td>37.789946</td>\n",
       "      <td>11.622392</td>\n",
       "      <td>21.942653</td>\n",
       "    </tr>\n",
       "    <tr>\n",
       "      <th>350</th>\n",
       "      <td>40.710717</td>\n",
       "      <td>37.775157</td>\n",
       "      <td>10.911576</td>\n",
       "      <td>22.626588</td>\n",
       "    </tr>\n",
       "    <tr>\n",
       "      <th>351</th>\n",
       "      <td>40.872393</td>\n",
       "      <td>37.945388</td>\n",
       "      <td>11.267320</td>\n",
       "      <td>22.180002</td>\n",
       "    </tr>\n",
       "    <tr>\n",
       "      <th>352</th>\n",
       "      <td>41.140309</td>\n",
       "      <td>38.225973</td>\n",
       "      <td>11.782402</td>\n",
       "      <td>21.529631</td>\n",
       "    </tr>\n",
       "    <tr>\n",
       "      <th>353</th>\n",
       "      <td>41.431299</td>\n",
       "      <td>38.546757</td>\n",
       "      <td>12.998173</td>\n",
       "      <td>20.247284</td>\n",
       "    </tr>\n",
       "    <tr>\n",
       "      <th>354</th>\n",
       "      <td>41.285348</td>\n",
       "      <td>38.409374</td>\n",
       "      <td>13.352153</td>\n",
       "      <td>20.016993</td>\n",
       "    </tr>\n",
       "    <tr>\n",
       "      <th>355</th>\n",
       "      <td>41.743652</td>\n",
       "      <td>38.866856</td>\n",
       "      <td>13.286553</td>\n",
       "      <td>19.817480</td>\n",
       "    </tr>\n",
       "    <tr>\n",
       "      <th>356</th>\n",
       "      <td>41.805771</td>\n",
       "      <td>38.937418</td>\n",
       "      <td>13.616993</td>\n",
       "      <td>19.491601</td>\n",
       "    </tr>\n",
       "    <tr>\n",
       "      <th>357</th>\n",
       "      <td>42.485056</td>\n",
       "      <td>39.612877</td>\n",
       "      <td>13.452881</td>\n",
       "      <td>19.297150</td>\n",
       "    </tr>\n",
       "    <tr>\n",
       "      <th>358</th>\n",
       "      <td>42.281113</td>\n",
       "      <td>39.420712</td>\n",
       "      <td>13.917345</td>\n",
       "      <td>18.981372</td>\n",
       "    </tr>\n",
       "    <tr>\n",
       "      <th>359</th>\n",
       "      <td>42.931370</td>\n",
       "      <td>40.094919</td>\n",
       "      <td>14.849327</td>\n",
       "      <td>17.857841</td>\n",
       "    </tr>\n",
       "    <tr>\n",
       "      <th>360</th>\n",
       "      <td>42.737630</td>\n",
       "      <td>39.909961</td>\n",
       "      <td>15.159321</td>\n",
       "      <td>17.683467</td>\n",
       "    </tr>\n",
       "    <tr>\n",
       "      <th>361</th>\n",
       "      <td>42.295301</td>\n",
       "      <td>39.454943</td>\n",
       "      <td>14.676256</td>\n",
       "      <td>18.316454</td>\n",
       "    </tr>\n",
       "    <tr>\n",
       "      <th>362</th>\n",
       "      <td>42.009433</td>\n",
       "      <td>39.167493</td>\n",
       "      <td>14.614804</td>\n",
       "      <td>18.520057</td>\n",
       "    </tr>\n",
       "    <tr>\n",
       "      <th>363</th>\n",
       "      <td>41.459016</td>\n",
       "      <td>38.619296</td>\n",
       "      <td>14.705441</td>\n",
       "      <td>18.757665</td>\n",
       "    </tr>\n",
       "    <tr>\n",
       "      <th>364</th>\n",
       "      <td>41.224538</td>\n",
       "      <td>38.387010</td>\n",
       "      <td>14.794002</td>\n",
       "      <td>18.827175</td>\n",
       "    </tr>\n",
       "    <tr>\n",
       "      <th>365</th>\n",
       "      <td>40.611729</td>\n",
       "      <td>37.759932</td>\n",
       "      <td>14.328730</td>\n",
       "      <td>19.603890</td>\n",
       "    </tr>\n",
       "    <tr>\n",
       "      <th>366</th>\n",
       "      <td>40.235215</td>\n",
       "      <td>37.386796</td>\n",
       "      <td>14.493878</td>\n",
       "      <td>19.724921</td>\n",
       "    </tr>\n",
       "    <tr>\n",
       "      <th>367</th>\n",
       "      <td>40.069190</td>\n",
       "      <td>37.252382</td>\n",
       "      <td>15.592947</td>\n",
       "      <td>18.977355</td>\n",
       "    </tr>\n",
       "    <tr>\n",
       "      <th>368</th>\n",
       "      <td>40.615083</td>\n",
       "      <td>37.803241</td>\n",
       "      <td>15.712575</td>\n",
       "      <td>18.498243</td>\n",
       "    </tr>\n",
       "    <tr>\n",
       "      <th>369</th>\n",
       "      <td>40.757331</td>\n",
       "      <td>37.936262</td>\n",
       "      <td>15.393505</td>\n",
       "      <td>18.648324</td>\n",
       "    </tr>\n",
       "    <tr>\n",
       "      <th>370</th>\n",
       "      <td>40.338381</td>\n",
       "      <td>37.545772</td>\n",
       "      <td>16.354969</td>\n",
       "      <td>18.214966</td>\n",
       "    </tr>\n",
       "    <tr>\n",
       "      <th>371</th>\n",
       "      <td>41.349154</td>\n",
       "      <td>38.532486</td>\n",
       "      <td>15.519423</td>\n",
       "      <td>18.164595</td>\n",
       "    </tr>\n",
       "    <tr>\n",
       "      <th>372</th>\n",
       "      <td>41.757784</td>\n",
       "      <td>38.939857</td>\n",
       "      <td>15.472960</td>\n",
       "      <td>17.953064</td>\n",
       "    </tr>\n",
       "  </tbody>\n",
       "</table>\n",
       "<p>373 rows × 4 columns</p>\n",
       "</div>"
      ],
      "text/plain": [
       "             0          1          2          3\n",
       "0    15.483055  15.767847  46.551316  47.192425\n",
       "1    13.639007  13.982936  46.106643  47.964805\n",
       "2    13.681831  13.468203  43.622156  45.683613\n",
       "3    12.957720  12.263870  41.406551  44.453374\n",
       "4    14.231391  13.679638  42.154863  44.144450\n",
       "5    14.551460  13.915639  41.788096  43.652549\n",
       "6    16.450532  15.938005  42.696838  43.072265\n",
       "7    16.674007  16.261073  43.286516  43.407632\n",
       "8    17.054765  16.750075  43.976869  43.743171\n",
       "9    17.889941  17.710167  44.927163  44.034645\n",
       "10   19.269990  19.181567  45.943797  44.062824\n",
       "11   19.985807  19.870393  46.042725  43.671873\n",
       "12   20.085629  19.850252  45.315919  42.904924\n",
       "13   18.394632  18.054432  44.136861  42.976302\n",
       "14   13.988924  12.903100  39.624361  42.580395\n",
       "15   15.983507  14.952341  39.828037  41.294945\n",
       "16   17.760419  16.936130  41.113653  40.939376\n",
       "17   18.921218  18.157987  41.651080  40.534091\n",
       "18   19.199609  18.642022  43.008429  41.444240\n",
       "19   20.329535  19.856737  43.848489  41.389491\n",
       "20   20.587435  19.963529  42.905040  40.388643\n",
       "21   20.942600  20.403247  43.572841  40.718454\n",
       "22   21.831170  21.433618  44.824101  41.235907\n",
       "23   22.208388  21.906905  45.629075  41.739819\n",
       "24   22.794078  22.426993  45.375875  41.087346\n",
       "25   25.383705  24.692762  43.770224  37.737680\n",
       "26   27.298581  26.425603  42.820702  35.471291\n",
       "27   25.096065  24.193233  41.926275  36.315458\n",
       "28   20.809853  19.795201  40.227478  38.105774\n",
       "29   23.187928  22.010906  39.287148  35.663427\n",
       "..         ...        ...        ...        ...\n",
       "343  39.666611  36.761937  12.491597  21.854977\n",
       "344  39.534953  36.623933  12.272428  22.154289\n",
       "345  39.627800  36.703712  11.707369  22.613326\n",
       "346  39.778009  36.841417  11.121601  23.067076\n",
       "347  39.952378  37.025565  11.497500  22.574156\n",
       "348  40.263197  37.344678  11.773912  22.093551\n",
       "349  40.709704  37.789946  11.622392  21.942653\n",
       "350  40.710717  37.775157  10.911576  22.626588\n",
       "351  40.872393  37.945388  11.267320  22.180002\n",
       "352  41.140309  38.225973  11.782402  21.529631\n",
       "353  41.431299  38.546757  12.998173  20.247284\n",
       "354  41.285348  38.409374  13.352153  20.016993\n",
       "355  41.743652  38.866856  13.286553  19.817480\n",
       "356  41.805771  38.937418  13.616993  19.491601\n",
       "357  42.485056  39.612877  13.452881  19.297150\n",
       "358  42.281113  39.420712  13.917345  18.981372\n",
       "359  42.931370  40.094919  14.849327  17.857841\n",
       "360  42.737630  39.909961  15.159321  17.683467\n",
       "361  42.295301  39.454943  14.676256  18.316454\n",
       "362  42.009433  39.167493  14.614804  18.520057\n",
       "363  41.459016  38.619296  14.705441  18.757665\n",
       "364  41.224538  38.387010  14.794002  18.827175\n",
       "365  40.611729  37.759932  14.328730  19.603890\n",
       "366  40.235215  37.386796  14.493878  19.724921\n",
       "367  40.069190  37.252382  15.592947  18.977355\n",
       "368  40.615083  37.803241  15.712575  18.498243\n",
       "369  40.757331  37.936262  15.393505  18.648324\n",
       "370  40.338381  37.545772  16.354969  18.214966\n",
       "371  41.349154  38.532486  15.519423  18.164595\n",
       "372  41.757784  38.939857  15.472960  17.953064\n",
       "\n",
       "[373 rows x 4 columns]"
      ]
     },
     "execution_count": 13,
     "metadata": {},
     "output_type": "execute_result"
    }
   ],
   "source": [
    "D1 = D(Jain,Q, d)\n",
    "D1"
   ]
  },
  {
   "cell_type": "markdown",
   "metadata": {
    "slideshow": {
     "slide_type": "notes"
    }
   },
   "source": [
    "#### Definiendo el calculo de la función de costo\n",
    "$$ P(W,Q) = tr( W' D(X,Q))$$"
   ]
  },
  {
   "cell_type": "code",
   "execution_count": 14,
   "metadata": {
    "slideshow": {
     "slide_type": "notes"
    }
   },
   "outputs": [],
   "source": [
    "def P(W,Di):\n",
    "    return np.trace(W.T.values @ Di.values )   "
   ]
  },
  {
   "cell_type": "markdown",
   "metadata": {
    "slideshow": {
     "slide_type": "subslide"
    }
   },
   "source": [
    "El algoritmo consta de 2 problemas: \n",
    "### Problema 1:  \n",
    "#### Asignar a un grupo cada una de las observaciones\n",
    "$$ w_{i,l}  <- min(d(X_i, Q_l))$$"
   ]
  },
  {
   "cell_type": "markdown",
   "metadata": {
    "slideshow": {
     "slide_type": "subslide"
    }
   },
   "source": [
    "### Problema 2: \n",
    "### Reasignar los valores de los centroides\n",
    "$$q_{l,j} = \\frac{\\sum_{i=1}^n w_{i,l} x_{i,j}}{ \\sum_{i=1}^n w_{i,l}}$$"
   ]
  },
  {
   "cell_type": "markdown",
   "metadata": {
    "slideshow": {
     "slide_type": "subslide"
    }
   },
   "source": [
    "# Algoritmo\n",
    "Sigue 3 pasos secuenciales\n",
    "\n",
    "1.  Iniciamos los centroides aleatoriamente y asignamos cluster a cada observación"
   ]
  },
  {
   "cell_type": "markdown",
   "metadata": {
    "slideshow": {
     "slide_type": "subslide"
    }
   },
   "source": [
    "2.  Actualizamos los valores de los centroides\n",
    "\n",
    "    If : $P(\\hat{W}, Q^t) == P(\\hat{W}, Q^{t+1})$, _break_\n",
    "    \n",
    "    \n",
    "3.  Obtenemos nuevos valores de a que cluster corresponden las observaciones\n",
    "\n",
    "    If : $P(W^t, \\hat{Q}^t) == P(W^{t+1}, \\hat{Q})$, _break_\n",
    "    \n",
    "    else : **volver al paso 2**\n",
    "   "
   ]
  },
  {
   "cell_type": "code",
   "execution_count": 15,
   "metadata": {
    "slideshow": {
     "slide_type": "notes"
    }
   },
   "outputs": [
    {
     "data": {
      "text/html": [
       "<div>\n",
       "<style scoped>\n",
       "    .dataframe tbody tr th:only-of-type {\n",
       "        vertical-align: middle;\n",
       "    }\n",
       "\n",
       "    .dataframe tbody tr th {\n",
       "        vertical-align: top;\n",
       "    }\n",
       "\n",
       "    .dataframe thead th {\n",
       "        text-align: right;\n",
       "    }\n",
       "</style>\n",
       "<table border=\"1\" class=\"dataframe\">\n",
       "  <thead>\n",
       "    <tr style=\"text-align: right;\">\n",
       "      <th></th>\n",
       "      <th>0</th>\n",
       "      <th>1</th>\n",
       "      <th>2</th>\n",
       "      <th>3</th>\n",
       "    </tr>\n",
       "  </thead>\n",
       "  <tbody>\n",
       "    <tr>\n",
       "      <th>0</th>\n",
       "      <td>15.483055</td>\n",
       "      <td>15.767847</td>\n",
       "      <td>46.551316</td>\n",
       "      <td>47.192425</td>\n",
       "    </tr>\n",
       "    <tr>\n",
       "      <th>1</th>\n",
       "      <td>13.639007</td>\n",
       "      <td>13.982936</td>\n",
       "      <td>46.106643</td>\n",
       "      <td>47.964805</td>\n",
       "    </tr>\n",
       "    <tr>\n",
       "      <th>2</th>\n",
       "      <td>13.681831</td>\n",
       "      <td>13.468203</td>\n",
       "      <td>43.622156</td>\n",
       "      <td>45.683613</td>\n",
       "    </tr>\n",
       "    <tr>\n",
       "      <th>3</th>\n",
       "      <td>12.957720</td>\n",
       "      <td>12.263870</td>\n",
       "      <td>41.406551</td>\n",
       "      <td>44.453374</td>\n",
       "    </tr>\n",
       "    <tr>\n",
       "      <th>4</th>\n",
       "      <td>14.231391</td>\n",
       "      <td>13.679638</td>\n",
       "      <td>42.154863</td>\n",
       "      <td>44.144450</td>\n",
       "    </tr>\n",
       "  </tbody>\n",
       "</table>\n",
       "</div>"
      ],
      "text/plain": [
       "           0          1          2          3\n",
       "0  15.483055  15.767847  46.551316  47.192425\n",
       "1  13.639007  13.982936  46.106643  47.964805\n",
       "2  13.681831  13.468203  43.622156  45.683613\n",
       "3  12.957720  12.263870  41.406551  44.453374\n",
       "4  14.231391  13.679638  42.154863  44.144450"
      ]
     },
     "execution_count": 15,
     "metadata": {},
     "output_type": "execute_result"
    }
   ],
   "source": [
    "D1.head()"
   ]
  },
  {
   "cell_type": "code",
   "execution_count": 16,
   "metadata": {
    "scrolled": true,
    "slideshow": {
     "slide_type": "notes"
    }
   },
   "outputs": [
    {
     "data": {
      "text/plain": [
       "0      0\n",
       "1      0\n",
       "2      1\n",
       "3      1\n",
       "4      1\n",
       "5      1\n",
       "6      1\n",
       "7      1\n",
       "8      1\n",
       "9      1\n",
       "10     1\n",
       "11     1\n",
       "12     1\n",
       "13     1\n",
       "14     1\n",
       "15     1\n",
       "16     1\n",
       "17     1\n",
       "18     1\n",
       "19     1\n",
       "20     1\n",
       "21     1\n",
       "22     1\n",
       "23     1\n",
       "24     1\n",
       "25     1\n",
       "26     1\n",
       "27     1\n",
       "28     1\n",
       "29     1\n",
       "      ..\n",
       "343    2\n",
       "344    2\n",
       "345    2\n",
       "346    2\n",
       "347    2\n",
       "348    2\n",
       "349    2\n",
       "350    2\n",
       "351    2\n",
       "352    2\n",
       "353    2\n",
       "354    2\n",
       "355    2\n",
       "356    2\n",
       "357    2\n",
       "358    2\n",
       "359    2\n",
       "360    2\n",
       "361    2\n",
       "362    2\n",
       "363    2\n",
       "364    2\n",
       "365    2\n",
       "366    2\n",
       "367    2\n",
       "368    2\n",
       "369    2\n",
       "370    2\n",
       "371    2\n",
       "372    2\n",
       "Length: 373, dtype: int64"
      ]
     },
     "execution_count": 16,
     "metadata": {},
     "output_type": "execute_result"
    }
   ],
   "source": [
    "# Asignamos mediante la mínima distancia\n",
    "D1.idxmin(axis=1)"
   ]
  },
  {
   "cell_type": "code",
   "execution_count": 17,
   "metadata": {
    "slideshow": {
     "slide_type": "slide"
    }
   },
   "outputs": [],
   "source": [
    "# Resolviendo el Problema 1\n",
    "def solveP1(D,k):\n",
    "    \"\"\"\n",
    "    Asignamos grupos a cada observación\n",
    "    en base a la mínima distancia\n",
    "    retorna W i ClId\n",
    "    \"\"\"\n",
    "    ClId = D.idxmin(axis=1)\n",
    "    W =  pd.get_dummies(ClId) \n",
    "    for cl in range(k):\n",
    "        if cl not in W.columns:\n",
    "            W[cl] = 0\n",
    "    return W, ClId"
   ]
  },
  {
   "cell_type": "code",
   "execution_count": 18,
   "metadata": {
    "slideshow": {
     "slide_type": "notes"
    }
   },
   "outputs": [],
   "source": [
    "W , ClId = solveP1(D1, 4)"
   ]
  },
  {
   "cell_type": "code",
   "execution_count": 19,
   "metadata": {
    "slideshow": {
     "slide_type": "notes"
    }
   },
   "outputs": [
    {
     "data": {
      "text/html": [
       "<div>\n",
       "<style scoped>\n",
       "    .dataframe tbody tr th:only-of-type {\n",
       "        vertical-align: middle;\n",
       "    }\n",
       "\n",
       "    .dataframe tbody tr th {\n",
       "        vertical-align: top;\n",
       "    }\n",
       "\n",
       "    .dataframe thead th {\n",
       "        text-align: right;\n",
       "    }\n",
       "</style>\n",
       "<table border=\"1\" class=\"dataframe\">\n",
       "  <thead>\n",
       "    <tr style=\"text-align: right;\">\n",
       "      <th></th>\n",
       "      <th>0</th>\n",
       "      <th>1</th>\n",
       "      <th>2</th>\n",
       "      <th>3</th>\n",
       "    </tr>\n",
       "  </thead>\n",
       "  <tbody>\n",
       "    <tr>\n",
       "      <th>0</th>\n",
       "      <td>1</td>\n",
       "      <td>0</td>\n",
       "      <td>0</td>\n",
       "      <td>0</td>\n",
       "    </tr>\n",
       "    <tr>\n",
       "      <th>1</th>\n",
       "      <td>1</td>\n",
       "      <td>0</td>\n",
       "      <td>0</td>\n",
       "      <td>0</td>\n",
       "    </tr>\n",
       "    <tr>\n",
       "      <th>2</th>\n",
       "      <td>0</td>\n",
       "      <td>1</td>\n",
       "      <td>0</td>\n",
       "      <td>0</td>\n",
       "    </tr>\n",
       "    <tr>\n",
       "      <th>3</th>\n",
       "      <td>0</td>\n",
       "      <td>1</td>\n",
       "      <td>0</td>\n",
       "      <td>0</td>\n",
       "    </tr>\n",
       "    <tr>\n",
       "      <th>4</th>\n",
       "      <td>0</td>\n",
       "      <td>1</td>\n",
       "      <td>0</td>\n",
       "      <td>0</td>\n",
       "    </tr>\n",
       "    <tr>\n",
       "      <th>5</th>\n",
       "      <td>0</td>\n",
       "      <td>1</td>\n",
       "      <td>0</td>\n",
       "      <td>0</td>\n",
       "    </tr>\n",
       "    <tr>\n",
       "      <th>6</th>\n",
       "      <td>0</td>\n",
       "      <td>1</td>\n",
       "      <td>0</td>\n",
       "      <td>0</td>\n",
       "    </tr>\n",
       "    <tr>\n",
       "      <th>7</th>\n",
       "      <td>0</td>\n",
       "      <td>1</td>\n",
       "      <td>0</td>\n",
       "      <td>0</td>\n",
       "    </tr>\n",
       "    <tr>\n",
       "      <th>8</th>\n",
       "      <td>0</td>\n",
       "      <td>1</td>\n",
       "      <td>0</td>\n",
       "      <td>0</td>\n",
       "    </tr>\n",
       "    <tr>\n",
       "      <th>9</th>\n",
       "      <td>0</td>\n",
       "      <td>1</td>\n",
       "      <td>0</td>\n",
       "      <td>0</td>\n",
       "    </tr>\n",
       "    <tr>\n",
       "      <th>10</th>\n",
       "      <td>0</td>\n",
       "      <td>1</td>\n",
       "      <td>0</td>\n",
       "      <td>0</td>\n",
       "    </tr>\n",
       "    <tr>\n",
       "      <th>11</th>\n",
       "      <td>0</td>\n",
       "      <td>1</td>\n",
       "      <td>0</td>\n",
       "      <td>0</td>\n",
       "    </tr>\n",
       "    <tr>\n",
       "      <th>12</th>\n",
       "      <td>0</td>\n",
       "      <td>1</td>\n",
       "      <td>0</td>\n",
       "      <td>0</td>\n",
       "    </tr>\n",
       "    <tr>\n",
       "      <th>13</th>\n",
       "      <td>0</td>\n",
       "      <td>1</td>\n",
       "      <td>0</td>\n",
       "      <td>0</td>\n",
       "    </tr>\n",
       "    <tr>\n",
       "      <th>14</th>\n",
       "      <td>0</td>\n",
       "      <td>1</td>\n",
       "      <td>0</td>\n",
       "      <td>0</td>\n",
       "    </tr>\n",
       "    <tr>\n",
       "      <th>15</th>\n",
       "      <td>0</td>\n",
       "      <td>1</td>\n",
       "      <td>0</td>\n",
       "      <td>0</td>\n",
       "    </tr>\n",
       "    <tr>\n",
       "      <th>16</th>\n",
       "      <td>0</td>\n",
       "      <td>1</td>\n",
       "      <td>0</td>\n",
       "      <td>0</td>\n",
       "    </tr>\n",
       "    <tr>\n",
       "      <th>17</th>\n",
       "      <td>0</td>\n",
       "      <td>1</td>\n",
       "      <td>0</td>\n",
       "      <td>0</td>\n",
       "    </tr>\n",
       "    <tr>\n",
       "      <th>18</th>\n",
       "      <td>0</td>\n",
       "      <td>1</td>\n",
       "      <td>0</td>\n",
       "      <td>0</td>\n",
       "    </tr>\n",
       "    <tr>\n",
       "      <th>19</th>\n",
       "      <td>0</td>\n",
       "      <td>1</td>\n",
       "      <td>0</td>\n",
       "      <td>0</td>\n",
       "    </tr>\n",
       "    <tr>\n",
       "      <th>20</th>\n",
       "      <td>0</td>\n",
       "      <td>1</td>\n",
       "      <td>0</td>\n",
       "      <td>0</td>\n",
       "    </tr>\n",
       "    <tr>\n",
       "      <th>21</th>\n",
       "      <td>0</td>\n",
       "      <td>1</td>\n",
       "      <td>0</td>\n",
       "      <td>0</td>\n",
       "    </tr>\n",
       "    <tr>\n",
       "      <th>22</th>\n",
       "      <td>0</td>\n",
       "      <td>1</td>\n",
       "      <td>0</td>\n",
       "      <td>0</td>\n",
       "    </tr>\n",
       "    <tr>\n",
       "      <th>23</th>\n",
       "      <td>0</td>\n",
       "      <td>1</td>\n",
       "      <td>0</td>\n",
       "      <td>0</td>\n",
       "    </tr>\n",
       "    <tr>\n",
       "      <th>24</th>\n",
       "      <td>0</td>\n",
       "      <td>1</td>\n",
       "      <td>0</td>\n",
       "      <td>0</td>\n",
       "    </tr>\n",
       "    <tr>\n",
       "      <th>25</th>\n",
       "      <td>0</td>\n",
       "      <td>1</td>\n",
       "      <td>0</td>\n",
       "      <td>0</td>\n",
       "    </tr>\n",
       "    <tr>\n",
       "      <th>26</th>\n",
       "      <td>0</td>\n",
       "      <td>1</td>\n",
       "      <td>0</td>\n",
       "      <td>0</td>\n",
       "    </tr>\n",
       "    <tr>\n",
       "      <th>27</th>\n",
       "      <td>0</td>\n",
       "      <td>1</td>\n",
       "      <td>0</td>\n",
       "      <td>0</td>\n",
       "    </tr>\n",
       "    <tr>\n",
       "      <th>28</th>\n",
       "      <td>0</td>\n",
       "      <td>1</td>\n",
       "      <td>0</td>\n",
       "      <td>0</td>\n",
       "    </tr>\n",
       "    <tr>\n",
       "      <th>29</th>\n",
       "      <td>0</td>\n",
       "      <td>1</td>\n",
       "      <td>0</td>\n",
       "      <td>0</td>\n",
       "    </tr>\n",
       "    <tr>\n",
       "      <th>...</th>\n",
       "      <td>...</td>\n",
       "      <td>...</td>\n",
       "      <td>...</td>\n",
       "      <td>...</td>\n",
       "    </tr>\n",
       "    <tr>\n",
       "      <th>343</th>\n",
       "      <td>0</td>\n",
       "      <td>0</td>\n",
       "      <td>1</td>\n",
       "      <td>0</td>\n",
       "    </tr>\n",
       "    <tr>\n",
       "      <th>344</th>\n",
       "      <td>0</td>\n",
       "      <td>0</td>\n",
       "      <td>1</td>\n",
       "      <td>0</td>\n",
       "    </tr>\n",
       "    <tr>\n",
       "      <th>345</th>\n",
       "      <td>0</td>\n",
       "      <td>0</td>\n",
       "      <td>1</td>\n",
       "      <td>0</td>\n",
       "    </tr>\n",
       "    <tr>\n",
       "      <th>346</th>\n",
       "      <td>0</td>\n",
       "      <td>0</td>\n",
       "      <td>1</td>\n",
       "      <td>0</td>\n",
       "    </tr>\n",
       "    <tr>\n",
       "      <th>347</th>\n",
       "      <td>0</td>\n",
       "      <td>0</td>\n",
       "      <td>1</td>\n",
       "      <td>0</td>\n",
       "    </tr>\n",
       "    <tr>\n",
       "      <th>348</th>\n",
       "      <td>0</td>\n",
       "      <td>0</td>\n",
       "      <td>1</td>\n",
       "      <td>0</td>\n",
       "    </tr>\n",
       "    <tr>\n",
       "      <th>349</th>\n",
       "      <td>0</td>\n",
       "      <td>0</td>\n",
       "      <td>1</td>\n",
       "      <td>0</td>\n",
       "    </tr>\n",
       "    <tr>\n",
       "      <th>350</th>\n",
       "      <td>0</td>\n",
       "      <td>0</td>\n",
       "      <td>1</td>\n",
       "      <td>0</td>\n",
       "    </tr>\n",
       "    <tr>\n",
       "      <th>351</th>\n",
       "      <td>0</td>\n",
       "      <td>0</td>\n",
       "      <td>1</td>\n",
       "      <td>0</td>\n",
       "    </tr>\n",
       "    <tr>\n",
       "      <th>352</th>\n",
       "      <td>0</td>\n",
       "      <td>0</td>\n",
       "      <td>1</td>\n",
       "      <td>0</td>\n",
       "    </tr>\n",
       "    <tr>\n",
       "      <th>353</th>\n",
       "      <td>0</td>\n",
       "      <td>0</td>\n",
       "      <td>1</td>\n",
       "      <td>0</td>\n",
       "    </tr>\n",
       "    <tr>\n",
       "      <th>354</th>\n",
       "      <td>0</td>\n",
       "      <td>0</td>\n",
       "      <td>1</td>\n",
       "      <td>0</td>\n",
       "    </tr>\n",
       "    <tr>\n",
       "      <th>355</th>\n",
       "      <td>0</td>\n",
       "      <td>0</td>\n",
       "      <td>1</td>\n",
       "      <td>0</td>\n",
       "    </tr>\n",
       "    <tr>\n",
       "      <th>356</th>\n",
       "      <td>0</td>\n",
       "      <td>0</td>\n",
       "      <td>1</td>\n",
       "      <td>0</td>\n",
       "    </tr>\n",
       "    <tr>\n",
       "      <th>357</th>\n",
       "      <td>0</td>\n",
       "      <td>0</td>\n",
       "      <td>1</td>\n",
       "      <td>0</td>\n",
       "    </tr>\n",
       "    <tr>\n",
       "      <th>358</th>\n",
       "      <td>0</td>\n",
       "      <td>0</td>\n",
       "      <td>1</td>\n",
       "      <td>0</td>\n",
       "    </tr>\n",
       "    <tr>\n",
       "      <th>359</th>\n",
       "      <td>0</td>\n",
       "      <td>0</td>\n",
       "      <td>1</td>\n",
       "      <td>0</td>\n",
       "    </tr>\n",
       "    <tr>\n",
       "      <th>360</th>\n",
       "      <td>0</td>\n",
       "      <td>0</td>\n",
       "      <td>1</td>\n",
       "      <td>0</td>\n",
       "    </tr>\n",
       "    <tr>\n",
       "      <th>361</th>\n",
       "      <td>0</td>\n",
       "      <td>0</td>\n",
       "      <td>1</td>\n",
       "      <td>0</td>\n",
       "    </tr>\n",
       "    <tr>\n",
       "      <th>362</th>\n",
       "      <td>0</td>\n",
       "      <td>0</td>\n",
       "      <td>1</td>\n",
       "      <td>0</td>\n",
       "    </tr>\n",
       "    <tr>\n",
       "      <th>363</th>\n",
       "      <td>0</td>\n",
       "      <td>0</td>\n",
       "      <td>1</td>\n",
       "      <td>0</td>\n",
       "    </tr>\n",
       "    <tr>\n",
       "      <th>364</th>\n",
       "      <td>0</td>\n",
       "      <td>0</td>\n",
       "      <td>1</td>\n",
       "      <td>0</td>\n",
       "    </tr>\n",
       "    <tr>\n",
       "      <th>365</th>\n",
       "      <td>0</td>\n",
       "      <td>0</td>\n",
       "      <td>1</td>\n",
       "      <td>0</td>\n",
       "    </tr>\n",
       "    <tr>\n",
       "      <th>366</th>\n",
       "      <td>0</td>\n",
       "      <td>0</td>\n",
       "      <td>1</td>\n",
       "      <td>0</td>\n",
       "    </tr>\n",
       "    <tr>\n",
       "      <th>367</th>\n",
       "      <td>0</td>\n",
       "      <td>0</td>\n",
       "      <td>1</td>\n",
       "      <td>0</td>\n",
       "    </tr>\n",
       "    <tr>\n",
       "      <th>368</th>\n",
       "      <td>0</td>\n",
       "      <td>0</td>\n",
       "      <td>1</td>\n",
       "      <td>0</td>\n",
       "    </tr>\n",
       "    <tr>\n",
       "      <th>369</th>\n",
       "      <td>0</td>\n",
       "      <td>0</td>\n",
       "      <td>1</td>\n",
       "      <td>0</td>\n",
       "    </tr>\n",
       "    <tr>\n",
       "      <th>370</th>\n",
       "      <td>0</td>\n",
       "      <td>0</td>\n",
       "      <td>1</td>\n",
       "      <td>0</td>\n",
       "    </tr>\n",
       "    <tr>\n",
       "      <th>371</th>\n",
       "      <td>0</td>\n",
       "      <td>0</td>\n",
       "      <td>1</td>\n",
       "      <td>0</td>\n",
       "    </tr>\n",
       "    <tr>\n",
       "      <th>372</th>\n",
       "      <td>0</td>\n",
       "      <td>0</td>\n",
       "      <td>1</td>\n",
       "      <td>0</td>\n",
       "    </tr>\n",
       "  </tbody>\n",
       "</table>\n",
       "<p>373 rows × 4 columns</p>\n",
       "</div>"
      ],
      "text/plain": [
       "     0  1  2  3\n",
       "0    1  0  0  0\n",
       "1    1  0  0  0\n",
       "2    0  1  0  0\n",
       "3    0  1  0  0\n",
       "4    0  1  0  0\n",
       "5    0  1  0  0\n",
       "6    0  1  0  0\n",
       "7    0  1  0  0\n",
       "8    0  1  0  0\n",
       "9    0  1  0  0\n",
       "10   0  1  0  0\n",
       "11   0  1  0  0\n",
       "12   0  1  0  0\n",
       "13   0  1  0  0\n",
       "14   0  1  0  0\n",
       "15   0  1  0  0\n",
       "16   0  1  0  0\n",
       "17   0  1  0  0\n",
       "18   0  1  0  0\n",
       "19   0  1  0  0\n",
       "20   0  1  0  0\n",
       "21   0  1  0  0\n",
       "22   0  1  0  0\n",
       "23   0  1  0  0\n",
       "24   0  1  0  0\n",
       "25   0  1  0  0\n",
       "26   0  1  0  0\n",
       "27   0  1  0  0\n",
       "28   0  1  0  0\n",
       "29   0  1  0  0\n",
       "..  .. .. .. ..\n",
       "343  0  0  1  0\n",
       "344  0  0  1  0\n",
       "345  0  0  1  0\n",
       "346  0  0  1  0\n",
       "347  0  0  1  0\n",
       "348  0  0  1  0\n",
       "349  0  0  1  0\n",
       "350  0  0  1  0\n",
       "351  0  0  1  0\n",
       "352  0  0  1  0\n",
       "353  0  0  1  0\n",
       "354  0  0  1  0\n",
       "355  0  0  1  0\n",
       "356  0  0  1  0\n",
       "357  0  0  1  0\n",
       "358  0  0  1  0\n",
       "359  0  0  1  0\n",
       "360  0  0  1  0\n",
       "361  0  0  1  0\n",
       "362  0  0  1  0\n",
       "363  0  0  1  0\n",
       "364  0  0  1  0\n",
       "365  0  0  1  0\n",
       "366  0  0  1  0\n",
       "367  0  0  1  0\n",
       "368  0  0  1  0\n",
       "369  0  0  1  0\n",
       "370  0  0  1  0\n",
       "371  0  0  1  0\n",
       "372  0  0  1  0\n",
       "\n",
       "[373 rows x 4 columns]"
      ]
     },
     "execution_count": 19,
     "metadata": {},
     "output_type": "execute_result"
    }
   ],
   "source": [
    "W"
   ]
  },
  {
   "cell_type": "markdown",
   "metadata": {
    "slideshow": {
     "slide_type": "notes"
    }
   },
   "source": [
    "### Problema 2:\n",
    "#### Recalcular los centroides por grupo los centroides"
   ]
  },
  {
   "cell_type": "code",
   "execution_count": 20,
   "metadata": {
    "slideshow": {
     "slide_type": "notes"
    }
   },
   "outputs": [
    {
     "name": "stdout",
     "output_type": "stream",
     "text": [
      "x      0.800\n",
      "y     16.525\n",
      "Ci     2.000\n",
      "dtype: float64\n",
      "x     16.961558\n",
      "y     14.374874\n",
      "Ci     1.412060\n",
      "dtype: float64\n",
      "x     33.755247\n",
      "y      8.725000\n",
      "Ci     1.018519\n",
      "dtype: float64\n",
      "x     23.005\n",
      "y     22.335\n",
      "Ci     2.000\n",
      "dtype: float64\n"
     ]
    }
   ],
   "source": [
    "for q in range(Q.shape[0]):\n",
    "    print(Jain[np.where(ClId == q , True, False)].mean())"
   ]
  },
  {
   "cell_type": "code",
   "execution_count": 21,
   "metadata": {
    "slideshow": {
     "slide_type": "subslide"
    }
   },
   "outputs": [],
   "source": [
    "#Resolviendo el problema 2\n",
    "def solveP2(X,Q,ClId):\n",
    "    Q_a = []\n",
    "    for q in range(Q.shape[0]):\n",
    "        Q_a.append(X[np.where(ClId == q , True, False)].mean())\n",
    "    return pd.DataFrame(Q_a)\n"
   ]
  },
  {
   "cell_type": "code",
   "execution_count": 22,
   "metadata": {
    "slideshow": {
     "slide_type": "notes"
    }
   },
   "outputs": [
    {
     "data": {
      "text/html": [
       "<div>\n",
       "<style scoped>\n",
       "    .dataframe tbody tr th:only-of-type {\n",
       "        vertical-align: middle;\n",
       "    }\n",
       "\n",
       "    .dataframe tbody tr th {\n",
       "        vertical-align: top;\n",
       "    }\n",
       "\n",
       "    .dataframe thead th {\n",
       "        text-align: right;\n",
       "    }\n",
       "</style>\n",
       "<table border=\"1\" class=\"dataframe\">\n",
       "  <thead>\n",
       "    <tr style=\"text-align: right;\">\n",
       "      <th></th>\n",
       "      <th>0</th>\n",
       "      <th>1</th>\n",
       "      <th>2</th>\n",
       "    </tr>\n",
       "  </thead>\n",
       "  <tbody>\n",
       "    <tr>\n",
       "      <th>0</th>\n",
       "      <td>1</td>\n",
       "      <td>2</td>\n",
       "      <td>3</td>\n",
       "    </tr>\n",
       "    <tr>\n",
       "      <th>1</th>\n",
       "      <td>4</td>\n",
       "      <td>2</td>\n",
       "      <td>2</td>\n",
       "    </tr>\n",
       "    <tr>\n",
       "      <th>2</th>\n",
       "      <td>45</td>\n",
       "      <td>3</td>\n",
       "      <td>5</td>\n",
       "    </tr>\n",
       "    <tr>\n",
       "      <th>3</th>\n",
       "      <td>45</td>\n",
       "      <td>34</td>\n",
       "      <td>4</td>\n",
       "    </tr>\n",
       "  </tbody>\n",
       "</table>\n",
       "</div>"
      ],
      "text/plain": [
       "    0   1  2\n",
       "0   1   2  3\n",
       "1   4   2  2\n",
       "2  45   3  5\n",
       "3  45  34  4"
      ]
     },
     "execution_count": 22,
     "metadata": {},
     "output_type": "execute_result"
    }
   ],
   "source": [
    "Q"
   ]
  },
  {
   "cell_type": "code",
   "execution_count": 23,
   "metadata": {
    "slideshow": {
     "slide_type": "notes"
    }
   },
   "outputs": [
    {
     "data": {
      "text/html": [
       "<div>\n",
       "<style scoped>\n",
       "    .dataframe tbody tr th:only-of-type {\n",
       "        vertical-align: middle;\n",
       "    }\n",
       "\n",
       "    .dataframe tbody tr th {\n",
       "        vertical-align: top;\n",
       "    }\n",
       "\n",
       "    .dataframe thead th {\n",
       "        text-align: right;\n",
       "    }\n",
       "</style>\n",
       "<table border=\"1\" class=\"dataframe\">\n",
       "  <thead>\n",
       "    <tr style=\"text-align: right;\">\n",
       "      <th></th>\n",
       "      <th>x</th>\n",
       "      <th>y</th>\n",
       "      <th>Ci</th>\n",
       "    </tr>\n",
       "  </thead>\n",
       "  <tbody>\n",
       "    <tr>\n",
       "      <th>0</th>\n",
       "      <td>0.800000</td>\n",
       "      <td>16.525000</td>\n",
       "      <td>2.000000</td>\n",
       "    </tr>\n",
       "    <tr>\n",
       "      <th>1</th>\n",
       "      <td>16.961558</td>\n",
       "      <td>14.374874</td>\n",
       "      <td>1.412060</td>\n",
       "    </tr>\n",
       "    <tr>\n",
       "      <th>2</th>\n",
       "      <td>33.755247</td>\n",
       "      <td>8.725000</td>\n",
       "      <td>1.018519</td>\n",
       "    </tr>\n",
       "    <tr>\n",
       "      <th>3</th>\n",
       "      <td>23.005000</td>\n",
       "      <td>22.335000</td>\n",
       "      <td>2.000000</td>\n",
       "    </tr>\n",
       "  </tbody>\n",
       "</table>\n",
       "</div>"
      ],
      "text/plain": [
       "           x          y        Ci\n",
       "0   0.800000  16.525000  2.000000\n",
       "1  16.961558  14.374874  1.412060\n",
       "2  33.755247   8.725000  1.018519\n",
       "3  23.005000  22.335000  2.000000"
      ]
     },
     "execution_count": 23,
     "metadata": {},
     "output_type": "execute_result"
    }
   ],
   "source": [
    "solveP2(Jain,Q,ClId)"
   ]
  },
  {
   "cell_type": "markdown",
   "metadata": {
    "slideshow": {
     "slide_type": "slide"
    }
   },
   "source": [
    "# El Algoritmo \n",
    "En código"
   ]
  },
  {
   "cell_type": "markdown",
   "metadata": {
    "slideshow": {
     "slide_type": "notes"
    }
   },
   "source": [
    "* P1. Inicializar los centroides de manera aleatoria, y calulamos $W^0$"
   ]
  },
  {
   "cell_type": "code",
   "execution_count": 24,
   "metadata": {
    "slideshow": {
     "slide_type": "subslide"
    }
   },
   "outputs": [],
   "source": [
    "# Paso 1 \n",
    "def Qini(X,k):\n",
    "    return  pd.DataFrame(np.random.randn(k,X.shape[1]))   \n",
    "\n",
    "P_hist = []\n",
    "k =3 \n",
    "Qt = Qini(Jain_Norm,k)\n",
    "Dt = D(Jain_Norm,Qt,d)\n",
    "Wt, ClIdt = solveP1(Dt,k) # k =6 \n",
    "Pt = P(Wt,Dt)\n",
    "P_hist.append(Pt)"
   ]
  },
  {
   "cell_type": "code",
   "execution_count": 25,
   "metadata": {
    "slideshow": {
     "slide_type": "notes"
    }
   },
   "outputs": [
    {
     "data": {
      "text/plain": [
       "[327.9664934132247]"
      ]
     },
     "execution_count": 25,
     "metadata": {},
     "output_type": "execute_result"
    }
   ],
   "source": [
    "P_hist"
   ]
  },
  {
   "cell_type": "code",
   "execution_count": 26,
   "metadata": {
    "scrolled": false,
    "slideshow": {
     "slide_type": "subslide"
    }
   },
   "outputs": [],
   "source": [
    "#Paso 2\n",
    "Q_t1 = solveP2(Jain_Norm,Qt,ClIdt) #  centroid\n",
    "D_t1 = D(Jain_Norm,Q_t1,d)\n",
    "P_t1 = P(Wt, D_t1)\n",
    "P_hist.append(P_t1)\n",
    "if Pt == P_t1:\n",
    "    print(\"Aqui muere\")"
   ]
  },
  {
   "cell_type": "code",
   "execution_count": 27,
   "metadata": {
    "slideshow": {
     "slide_type": "subslide"
    }
   },
   "outputs": [],
   "source": [
    "#Paso 3\n",
    "W_t1, ClIdt = solveP1(D_t1,k) # Nueva Clasificación\n",
    "Pt = P(W_t1, D_t1)\n",
    "P_hist.append(Pt)\n",
    "if Pt == P_t1:\n",
    "    print(\"Aqui muere\")\n",
    "Qt = Q_t1.copy()\n",
    "Wt = W_t1.copy()\n"
   ]
  },
  {
   "cell_type": "code",
   "execution_count": 28,
   "metadata": {
    "scrolled": true,
    "slideshow": {
     "slide_type": "notes"
    }
   },
   "outputs": [
    {
     "data": {
      "text/plain": [
       "<matplotlib.collections.PathCollection at 0x7f5484c98fd0>"
      ]
     },
     "execution_count": 28,
     "metadata": {},
     "output_type": "execute_result"
    },
    {
     "data": {
      "image/png": "[encoded data removed]",
      "text/plain": [
       "<Figure size 432x288 with 1 Axes>"
      ]
     },
     "metadata": {},
     "output_type": "display_data"
    }
   ],
   "source": [
    "plt.scatter(Jain_Norm.x, Jain_Norm.y , c=ClIdt)"
   ]
  },
  {
   "cell_type": "code",
   "execution_count": 29,
   "metadata": {
    "slideshow": {
     "slide_type": "notes"
    }
   },
   "outputs": [
    {
     "name": "stdout",
     "output_type": "stream",
     "text": [
      "Aqui muere\n"
     ]
    }
   ],
   "source": [
    "P_hist = []\n",
    "k = 3\n",
    "Qt = Qini(Jain_Norm,k)\n",
    "Dt = D(Jain_Norm,Qt,d)\n",
    "Wt, ClIdt = solveP1(Dt,k) # k =6 \n",
    "Pt = P(Wt,Dt)\n",
    "P_hist.append(Pt)\n",
    "while True:\n",
    "    #Paso 2\n",
    "    Q_t1 = solveP2(Jain_Norm,Qt,ClIdt) #  centroida\n",
    "    D_t1 = D(Jain_Norm,Q_t1,d)\n",
    "    P_t1 = P(Wt, D_t1)\n",
    "    P_hist.append(P_t1)\n",
    "    if Pt == P_t1:\n",
    "        print(\"Aqui muere\")\n",
    "        break\n",
    "\n",
    "    #Paso 3\n",
    "    W_t1, ClIdt = solveP1(D_t1,k) # Nueva Clasificación\n",
    "    Pt = P(W_t1, D_t1)\n",
    "    P_hist.append(Pt)\n",
    "    if Pt == P_t1:\n",
    "        print(\"Aqui muere\")\n",
    "        break\n",
    "    Qt = Q_t1.copy()\n",
    "    Wt = W_t1.copy()\n"
   ]
  },
  {
   "cell_type": "code",
   "execution_count": 30,
   "metadata": {
    "slideshow": {
     "slide_type": "notes"
    }
   },
   "outputs": [
    {
     "data": {
      "text/plain": [
       "[443.4794896423435,\n",
       " 329.5509423178606,\n",
       " 306.2841391753267,\n",
       " 288.67511767118987,\n",
       " 274.87343461371097,\n",
       " 264.12874348174444,\n",
       " 258.87273916411243,\n",
       " 254.64691433960434,\n",
       " 251.6763834209901,\n",
       " 248.8091952903257,\n",
       " 247.22518488860229,\n",
       " 245.8352870533257,\n",
       " 244.53509005643195,\n",
       " 242.86018595613191,\n",
       " 242.0220962380894,\n",
       " 241.25998067030753,\n",
       " 240.96626611830138,\n",
       " 240.3448076655115,\n",
       " 240.2817555495178,\n",
       " 240.01523356039286,\n",
       " 239.97234400237969,\n",
       " 239.61991907171375,\n",
       " 239.5708784916055,\n",
       " 239.45929039160026,\n",
       " 239.41235359657776,\n",
       " 239.1108276359687,\n",
       " 239.09160694904205,\n",
       " 238.87300016621904,\n",
       " 238.86689502386054,\n",
       " 238.84444147696945,\n",
       " 238.84444147696945]"
      ]
     },
     "execution_count": 30,
     "metadata": {},
     "output_type": "execute_result"
    }
   ],
   "source": [
    "P_hist"
   ]
  },
  {
   "cell_type": "code",
   "execution_count": 31,
   "metadata": {
    "slideshow": {
     "slide_type": "subslide"
    }
   },
   "outputs": [
    {
     "data": {
      "text/plain": [
       "[<matplotlib.lines.Line2D at 0x7f5484c09400>]"
      ]
     },
     "execution_count": 31,
     "metadata": {},
     "output_type": "execute_result"
    },
    {
     "data": {
      "image/png": "[encoded data removed]",
      "text/plain": [
       "<Figure size 432x288 with 1 Axes>"
      ]
     },
     "metadata": {},
     "output_type": "display_data"
    }
   ],
   "source": [
    "plt.plot(P_hist)"
   ]
  },
  {
   "cell_type": "code",
   "execution_count": 32,
   "metadata": {
    "slideshow": {
     "slide_type": "notes"
    }
   },
   "outputs": [
    {
     "data": {
      "text/plain": [
       "<matplotlib.collections.PathCollection at 0x7f5484b68240>"
      ]
     },
     "execution_count": 32,
     "metadata": {},
     "output_type": "execute_result"
    },
    {
     "data": {
      "image/png": "[encoded data removed]",
      "text/plain": [
       "<Figure size 432x288 with 1 Axes>"
      ]
     },
     "metadata": {},
     "output_type": "display_data"
    }
   ],
   "source": [
    "plt.scatter(Jain_Norm.x, Jain_Norm.y , c=ClIdt)"
   ]
  },
  {
   "cell_type": "code",
   "execution_count": 33,
   "metadata": {
    "slideshow": {
     "slide_type": "subslide"
    }
   },
   "outputs": [],
   "source": [
    "def kmeans(X,k,d):\n",
    "    P_hist = []\n",
    "    Qt = Qini(X,k)\n",
    "    Dt = D(X,Qt,d)\n",
    "    Wt, ClIdt = solveP1(Dt,k) # k =6 \n",
    "    Pt = P(Wt,Dt)\n",
    "    P_hist.append(Pt)\n",
    "    while True:\n",
    "        #Paso 2\n",
    "        Q_t1 = solveP2(X,Qt,ClIdt) #  centroida\n",
    "        D_t1 = D(X,Q_t1,d)\n",
    "        P_t1 = P(Wt, D_t1)\n",
    "        P_hist.append(P_t1)\n",
    "        if Pt == P_t1:\n",
    "            print(\"Aqui muere\")\n",
    "            break\n",
    "        #Paso 3\n",
    "        W_t1, ClIdt = solveP1(D_t1,k) # Nueva Clasificación\n",
    "        Pt = P(W_t1, D_t1)\n",
    "        P_hist.append(Pt)\n",
    "        if Pt == P_t1:\n",
    "            print(\"Aqui muere\")\n",
    "            break\n",
    "        Qt = Q_t1.copy()\n",
    "        Wt = W_t1.copy()\n",
    "    return ClIdt, Wt"
   ]
  },
  {
   "cell_type": "code",
   "execution_count": 34,
   "metadata": {
    "scrolled": false,
    "slideshow": {
     "slide_type": "subslide"
    }
   },
   "outputs": [
    {
     "name": "stdout",
     "output_type": "stream",
     "text": [
      "Aqui muere\n"
     ]
    },
    {
     "data": {
      "text/plain": [
       "<matplotlib.collections.PathCollection at 0x7f5488343240>"
      ]
     },
     "execution_count": 34,
     "metadata": {},
     "output_type": "execute_result"
    },
    {
     "data": {
      "image/png": "[encoded data removed]",
      "text/plain": [
       "<Figure size 432x288 with 1 Axes>"
      ]
     },
     "metadata": {},
     "output_type": "display_data"
    }
   ],
   "source": [
    "# Ejemplo 1 \n",
    "Clusters , Wq = kmeans(Jain_Norm,3,d)\n",
    "plt.scatter(Jain_Norm.x, Jain_Norm.y , c=Clusters)"
   ]
  },
  {
   "cell_type": "code",
   "execution_count": 35,
   "metadata": {
    "slideshow": {
     "slide_type": "notes"
    }
   },
   "outputs": [
    {
     "name": "stdout",
     "output_type": "stream",
     "text": [
      "Aqui muere\n"
     ]
    },
    {
     "data": {
      "text/plain": [
       "<matplotlib.collections.PathCollection at 0x7f5484b430b8>"
      ]
     },
     "execution_count": 35,
     "metadata": {},
     "output_type": "execute_result"
    },
    {
     "data": {
      "image/png": "[encoded data removed]",
      "text/plain": [
       "<Figure size 432x288 with 1 Axes>"
      ]
     },
     "metadata": {},
     "output_type": "display_data"
    }
   ],
   "source": [
    "Clusters12, Wq = kmeans(Jain_Norm,2,d)\n",
    "plt.scatter(Jain_Norm.x, Jain_Norm.y , c=Clusters)"
   ]
  },
  {
   "cell_type": "code",
   "execution_count": 36,
   "metadata": {
    "slideshow": {
     "slide_type": "notes"
    }
   },
   "outputs": [],
   "source": [
    "Agg_Norm = normDF(Aggregation.iloc[:,:-1])"
   ]
  },
  {
   "cell_type": "code",
   "execution_count": 37,
   "metadata": {
    "slideshow": {
     "slide_type": "subslide"
    }
   },
   "outputs": [
    {
     "name": "stdout",
     "output_type": "stream",
     "text": [
      "Aqui muere\n"
     ]
    },
    {
     "data": {
      "text/plain": [
       "<matplotlib.collections.PathCollection at 0x7f5484aa8d30>"
      ]
     },
     "execution_count": 37,
     "metadata": {},
     "output_type": "execute_result"
    },
    {
     "data": {
      "image/png": "[encoded data removed]",
      "text/plain": [
       "<Figure size 432x288 with 1 Axes>"
      ]
     },
     "metadata": {},
     "output_type": "display_data"
    }
   ],
   "source": [
    "# Ejemplo 2\n",
    "Clusters12, Wq = kmeans(Agg_Norm,5,d)\n",
    "plt.scatter(Agg_Norm.x, Agg_Norm.y , c=Clusters12)"
   ]
  },
  {
   "cell_type": "markdown",
   "metadata": {
    "slideshow": {
     "slide_type": "slide"
    }
   },
   "source": [
    "# K-modes\n",
    "Enfocado en datos categóricos"
   ]
  },
  {
   "cell_type": "markdown",
   "metadata": {
    "slideshow": {
     "slide_type": "subslide"
    }
   },
   "source": [
    "Definiendo la nueva medida de disimilaridad de conteo\n",
    "\n",
    "$$d_1(x,y) = \\sum_{j=1}^m \\delta(x_j, y_j)$$\n",
    "\n",
    "$$\\delta(x_j, y_j) = 0\\ si\\ (x_j== y_j)\\ ,\\ 1\\ en\\ otro\\ caso$$"
   ]
  },
  {
   "cell_type": "markdown",
   "metadata": {
    "slideshow": {
     "slide_type": "subslide"
    }
   },
   "source": [
    "### El algoritmo de resolución se mantiene de la misma manera que en K-means"
   ]
  },
  {
   "cell_type": "markdown",
   "metadata": {
    "slideshow": {
     "slide_type": "subslide"
    }
   },
   "source": [
    "# Algoritmo\n",
    "Sigue 3 pasos secuenciales\n",
    "\n",
    "1.  Iniciamos los centroides aleatoriamente y asignamos cluster a cada observación"
   ]
  },
  {
   "cell_type": "markdown",
   "metadata": {
    "slideshow": {
     "slide_type": "subslide"
    }
   },
   "source": [
    "2.  Actualizamos los valores de los centroides\n",
    "\n",
    "    If : $P(\\hat{W}, Q^t) == P(\\hat{W}, Q^{t+1})$, _break_\n",
    "    \n",
    "    \n",
    "3.  Obtenemos nuevos valores de a que cluster corresponden las observaciones\n",
    "\n",
    "    If : $P(W^t, \\hat{Q}^t) == P(W^{t+1}, \\hat{Q})$, _break_\n",
    "    \n",
    "    else : **volver al paso 2**\n",
    "   "
   ]
  },
  {
   "cell_type": "code",
   "execution_count": 38,
   "metadata": {
    "slideshow": {
     "slide_type": "notes"
    }
   },
   "outputs": [],
   "source": [
    "def d1(Xi, Qi):\n",
    "    return np.sum(Xi == Qi)"
   ]
  },
  {
   "cell_type": "code",
   "execution_count": 39,
   "metadata": {
    "slideshow": {
     "slide_type": "notes"
    }
   },
   "outputs": [],
   "source": [
    "def Dm(X,Q, d1):\n",
    "    D = []\n",
    "    for q in range(Q.shape[0]): \n",
    "        qi = np.array(Q.iloc[q,:]) # Extrayendo cada centroide como un np.array\n",
    "        D.append(X.apply(d1,Qi = qi , axis =1))\n",
    "    return pd.DataFrame(D).T    "
   ]
  },
  {
   "cell_type": "code",
   "execution_count": 40,
   "metadata": {
    "slideshow": {
     "slide_type": "notes"
    }
   },
   "outputs": [],
   "source": [
    "def solveP2m(X,Q,ClId):\n",
    "    Q_a = []\n",
    "    for q in range(Q.shape[0]):\n",
    "        Q_a.append(X[np.where(ClId == q , True, False)].mode().iloc[0,:])\n",
    "    return pd.DataFrame(Q_a) "
   ]
  },
  {
   "cell_type": "code",
   "execution_count": 41,
   "metadata": {
    "slideshow": {
     "slide_type": "notes"
    }
   },
   "outputs": [],
   "source": [
    "TestKM = pd.DataFrame([[\"a\",\"f\",\"e\",\"d\"],[\"s\",\"d\",\"r\",\"w\"],['s','f','t','r'], ['a','r','f','w']])"
   ]
  },
  {
   "cell_type": "code",
   "execution_count": 42,
   "metadata": {
    "slideshow": {
     "slide_type": "notes"
    }
   },
   "outputs": [
    {
     "data": {
      "text/plain": [
       "0    a\n",
       "1    f\n",
       "2    e\n",
       "3    w\n",
       "Name: 0, dtype: object"
      ]
     },
     "execution_count": 42,
     "metadata": {},
     "output_type": "execute_result"
    }
   ],
   "source": [
    "TestKM.mode().iloc[0,:]"
   ]
  },
  {
   "cell_type": "code",
   "execution_count": 43,
   "metadata": {
    "slideshow": {
     "slide_type": "notes"
    }
   },
   "outputs": [],
   "source": [
    "def QiniM(X,k):\n",
    "    \"\"\"\n",
    "    Inicializa de manera aleatoria los k centroides\n",
    "    con m dimensiones. \n",
    "    Considera el rango de las variables de X\n",
    "    \"\"\"\n",
    "    Q = []\n",
    "    for i in range(X.shape[1]):\n",
    "        Q.append(np.random.choice(X.iloc[:,i],k))   \n",
    "    return  pd.DataFrame(Q).T"
   ]
  },
  {
   "cell_type": "code",
   "execution_count": 44,
   "metadata": {
    "slideshow": {
     "slide_type": "notes"
    }
   },
   "outputs": [
    {
     "data": {
      "text/html": [
       "<div>\n",
       "<style scoped>\n",
       "    .dataframe tbody tr th:only-of-type {\n",
       "        vertical-align: middle;\n",
       "    }\n",
       "\n",
       "    .dataframe tbody tr th {\n",
       "        vertical-align: top;\n",
       "    }\n",
       "\n",
       "    .dataframe thead th {\n",
       "        text-align: right;\n",
       "    }\n",
       "</style>\n",
       "<table border=\"1\" class=\"dataframe\">\n",
       "  <thead>\n",
       "    <tr style=\"text-align: right;\">\n",
       "      <th></th>\n",
       "      <th>0</th>\n",
       "      <th>1</th>\n",
       "      <th>2</th>\n",
       "      <th>3</th>\n",
       "    </tr>\n",
       "  </thead>\n",
       "  <tbody>\n",
       "    <tr>\n",
       "      <th>0</th>\n",
       "      <td>a</td>\n",
       "      <td>f</td>\n",
       "      <td>e</td>\n",
       "      <td>d</td>\n",
       "    </tr>\n",
       "    <tr>\n",
       "      <th>1</th>\n",
       "      <td>s</td>\n",
       "      <td>d</td>\n",
       "      <td>r</td>\n",
       "      <td>w</td>\n",
       "    </tr>\n",
       "    <tr>\n",
       "      <th>2</th>\n",
       "      <td>s</td>\n",
       "      <td>f</td>\n",
       "      <td>t</td>\n",
       "      <td>r</td>\n",
       "    </tr>\n",
       "    <tr>\n",
       "      <th>3</th>\n",
       "      <td>a</td>\n",
       "      <td>r</td>\n",
       "      <td>f</td>\n",
       "      <td>w</td>\n",
       "    </tr>\n",
       "  </tbody>\n",
       "</table>\n",
       "</div>"
      ],
      "text/plain": [
       "   0  1  2  3\n",
       "0  a  f  e  d\n",
       "1  s  d  r  w\n",
       "2  s  f  t  r\n",
       "3  a  r  f  w"
      ]
     },
     "execution_count": 44,
     "metadata": {},
     "output_type": "execute_result"
    }
   ],
   "source": [
    "TestKM"
   ]
  },
  {
   "cell_type": "code",
   "execution_count": 45,
   "metadata": {
    "slideshow": {
     "slide_type": "notes"
    }
   },
   "outputs": [
    {
     "data": {
      "text/html": [
       "<div>\n",
       "<style scoped>\n",
       "    .dataframe tbody tr th:only-of-type {\n",
       "        vertical-align: middle;\n",
       "    }\n",
       "\n",
       "    .dataframe tbody tr th {\n",
       "        vertical-align: top;\n",
       "    }\n",
       "\n",
       "    .dataframe thead th {\n",
       "        text-align: right;\n",
       "    }\n",
       "</style>\n",
       "<table border=\"1\" class=\"dataframe\">\n",
       "  <thead>\n",
       "    <tr style=\"text-align: right;\">\n",
       "      <th></th>\n",
       "      <th>0</th>\n",
       "      <th>1</th>\n",
       "      <th>2</th>\n",
       "      <th>3</th>\n",
       "    </tr>\n",
       "  </thead>\n",
       "  <tbody>\n",
       "    <tr>\n",
       "      <th>0</th>\n",
       "      <td>s</td>\n",
       "      <td>f</td>\n",
       "      <td>e</td>\n",
       "      <td>w</td>\n",
       "    </tr>\n",
       "    <tr>\n",
       "      <th>1</th>\n",
       "      <td>s</td>\n",
       "      <td>d</td>\n",
       "      <td>r</td>\n",
       "      <td>d</td>\n",
       "    </tr>\n",
       "  </tbody>\n",
       "</table>\n",
       "</div>"
      ],
      "text/plain": [
       "   0  1  2  3\n",
       "0  s  f  e  w\n",
       "1  s  d  r  d"
      ]
     },
     "execution_count": 45,
     "metadata": {},
     "output_type": "execute_result"
    }
   ],
   "source": [
    "Qm = QiniM(TestKM,2)\n",
    "Qm"
   ]
  },
  {
   "cell_type": "code",
   "execution_count": 46,
   "metadata": {
    "slideshow": {
     "slide_type": "notes"
    }
   },
   "outputs": [
    {
     "name": "stdout",
     "output_type": "stream",
     "text": [
      "['s' 'f' 'e' 'w']\n",
      "['s' 'd' 'r' 'd']\n"
     ]
    },
    {
     "data": {
      "text/plain": [
       "0    s\n",
       "1    d\n",
       "2    r\n",
       "3    w\n",
       "Name: 1, dtype: object"
      ]
     },
     "execution_count": 46,
     "metadata": {},
     "output_type": "execute_result"
    }
   ],
   "source": [
    "D = []\n",
    "for q in range(Qm.shape[0]): \n",
    "    qi = np.array(Qm.iloc[q,:]) # Extrayendo cada centroide como un np.array\n",
    "    print(qi)\n",
    "    D.append(TestKM.apply(d1,Qi = qi , axis =1))\n",
    "TestKM.iloc[1,:]"
   ]
  },
  {
   "cell_type": "code",
   "execution_count": 47,
   "metadata": {
    "slideshow": {
     "slide_type": "notes"
    }
   },
   "outputs": [],
   "source": [
    "def kmodes(X,k,d1, iterations = 1000):\n",
    "    \"\"\"\n",
    "    Introducir los datos normalizados\n",
    "    \"\"\"\n",
    "    s=1\n",
    "    P_hist = []\n",
    "    Qt = QiniM(X,k)\n",
    "    Dt = Dm(X,Qt,d1)\n",
    "    Wt, ClIdt = solveP1(Dt,k) # k =6 \n",
    "    Pt = P(Wt,Dt)\n",
    "    P_hist.append(Pt)\n",
    "    while True:\n",
    "        #Paso 2\n",
    "        Q_t1 = solveP2m(X,Qt,ClIdt) #  centroide\n",
    "        D_t1 = Dm(X,Q_t1,d1)\n",
    "        P_t1 = P(Wt, D_t1)\n",
    "        P_hist.append(P_t1)\n",
    "        if Pt == P_t1:\n",
    "            print(\"Aqui muere\")\n",
    "            break\n",
    "\n",
    "        #Paso 3\n",
    "        W_t1, ClIdt = solveP1(D_t1,k) # Nueva Clasificación\n",
    "        Pt = P(W_t1, D_t1)\n",
    "        P_hist.append(Pt)\n",
    "        if Pt == P_t1:\n",
    "            print(\"Aqui muere\")\n",
    "            break\n",
    "        Qt = Q_t1.copy()\n",
    "        Wt = W_t1.copy()\n",
    "        if s%500 ==0:\n",
    "            print(\"Iteracion: \", s)\n",
    "        s+=1\n",
    "        if s> iterations:\n",
    "            break\n",
    "    return ClIdt, Wt, P_hist"
   ]
  },
  {
   "cell_type": "code",
   "execution_count": 48,
   "metadata": {
    "scrolled": true,
    "slideshow": {
     "slide_type": "notes"
    }
   },
   "outputs": [
    {
     "name": "stdout",
     "output_type": "stream",
     "text": [
      "Iteracion:  500\n",
      "Iteracion:  1000\n"
     ]
    }
   ],
   "source": [
    " ClIdt, Wt, P_hist = kmodes(TestKM,2,d1)"
   ]
  },
  {
   "cell_type": "code",
   "execution_count": 49,
   "metadata": {
    "slideshow": {
     "slide_type": "notes"
    }
   },
   "outputs": [
    {
     "name": "stdout",
     "output_type": "stream",
     "text": [
      "0    1\n",
      "1    0\n",
      "2    0\n",
      "3    1\n",
      "dtype: int64\n"
     ]
    },
    {
     "data": {
      "text/html": [
       "<div>\n",
       "<style scoped>\n",
       "    .dataframe tbody tr th:only-of-type {\n",
       "        vertical-align: middle;\n",
       "    }\n",
       "\n",
       "    .dataframe tbody tr th {\n",
       "        vertical-align: top;\n",
       "    }\n",
       "\n",
       "    .dataframe thead th {\n",
       "        text-align: right;\n",
       "    }\n",
       "</style>\n",
       "<table border=\"1\" class=\"dataframe\">\n",
       "  <thead>\n",
       "    <tr style=\"text-align: right;\">\n",
       "      <th></th>\n",
       "      <th>0</th>\n",
       "      <th>1</th>\n",
       "      <th>2</th>\n",
       "      <th>3</th>\n",
       "    </tr>\n",
       "  </thead>\n",
       "  <tbody>\n",
       "    <tr>\n",
       "      <th>0</th>\n",
       "      <td>a</td>\n",
       "      <td>f</td>\n",
       "      <td>e</td>\n",
       "      <td>d</td>\n",
       "    </tr>\n",
       "    <tr>\n",
       "      <th>1</th>\n",
       "      <td>s</td>\n",
       "      <td>d</td>\n",
       "      <td>r</td>\n",
       "      <td>w</td>\n",
       "    </tr>\n",
       "    <tr>\n",
       "      <th>2</th>\n",
       "      <td>s</td>\n",
       "      <td>f</td>\n",
       "      <td>t</td>\n",
       "      <td>r</td>\n",
       "    </tr>\n",
       "    <tr>\n",
       "      <th>3</th>\n",
       "      <td>a</td>\n",
       "      <td>r</td>\n",
       "      <td>f</td>\n",
       "      <td>w</td>\n",
       "    </tr>\n",
       "  </tbody>\n",
       "</table>\n",
       "</div>"
      ],
      "text/plain": [
       "   0  1  2  3\n",
       "0  a  f  e  d\n",
       "1  s  d  r  w\n",
       "2  s  f  t  r\n",
       "3  a  r  f  w"
      ]
     },
     "execution_count": 49,
     "metadata": {},
     "output_type": "execute_result"
    }
   ],
   "source": [
    "print(ClIdt)\n",
    "TestKM"
   ]
  },
  {
   "cell_type": "markdown",
   "metadata": {
    "slideshow": {
     "slide_type": "slide"
    }
   },
   "source": [
    "# DBSCAN\n",
    "Density-based spatial clustering of applications with noise"
   ]
  },
  {
   "cell_type": "markdown",
   "metadata": {
    "slideshow": {
     "slide_type": "slide"
    }
   },
   "source": [
    "# Intuición DBSCAN"
   ]
  },
  {
   "cell_type": "code",
   "execution_count": 50,
   "metadata": {
    "scrolled": false,
    "slideshow": {
     "slide_type": "subslide"
    }
   },
   "outputs": [
    {
     "data": {
      "text/html": [
       "<iframe src=https://www.naftaliharris.com/blog/visualizing-dbscan-clustering/ width=700 height=350></iframe>"
      ],
      "text/plain": [
       "<IPython.core.display.HTML object>"
      ]
     },
     "execution_count": 50,
     "metadata": {},
     "output_type": "execute_result"
    }
   ],
   "source": [
    "url = 'https://www.naftaliharris.com/blog/visualizing-dbscan-clustering/'\n",
    "\n",
    "IPython.display.HTML('<iframe src=' + url + ' width=700 height=350></iframe>')"
   ]
  },
  {
   "cell_type": "markdown",
   "metadata": {
    "slideshow": {
     "slide_type": "subslide"
    }
   },
   "source": [
    "## Elementos que pertenecen al cluster \n",
    "$$ N_{\\epsilon}(p) = \\{q \\in D \\ |\\  dist(p,q) < \\epsilon\\} $$\n",
    "\n",
    "Se consideran 2 hiper parámetros: $\\epsilon$ y el número mínimo de elementos"
   ]
  },
  {
   "cell_type": "code",
   "execution_count": 51,
   "metadata": {
    "slideshow": {
     "slide_type": "subslide"
    }
   },
   "outputs": [],
   "source": [
    "def dist(p,q):\n",
    "    \"\"\"\n",
    "    distancia euclidiana\n",
    "    \"\"\"\n",
    "    return np.sqrt(np.sum((p - q)**2))"
   ]
  },
  {
   "cell_type": "code",
   "execution_count": 52,
   "metadata": {
    "slideshow": {
     "slide_type": "subslide"
    }
   },
   "outputs": [],
   "source": [
    "def NepsP(X,p, eps):\n",
    "    \"\"\"\n",
    "    El subconjunto de puntos que complen con la condición\n",
    "    menor que epsilon\n",
    "    \"\"\"\n",
    "    D = X.apply(dist,q = X.iloc[p,:]  , axis =1)\n",
    "    return list(D[D<=eps].index)"
   ]
  },
  {
   "cell_type": "markdown",
   "metadata": {
    "slideshow": {
     "slide_type": "subslide"
    }
   },
   "source": [
    "## El algoritmo "
   ]
  },
  {
   "cell_type": "markdown",
   "metadata": {
    "slideshow": {
     "slide_type": "subslide"
    }
   },
   "source": [
    "**Para cada observación:**\n",
    "\n",
    "    If : el punto no ha sido clasificado\n",
    "\n",
    "            Expandir Cluster \n",
    "\n",
    "            next Cluster ID"
   ]
  },
  {
   "cell_type": "code",
   "execution_count": 53,
   "metadata": {
    "slideshow": {
     "slide_type": "notes"
    }
   },
   "outputs": [
    {
     "data": {
      "text/plain": [
       "pandas.core.indexes.numeric.Int64Index"
      ]
     },
     "execution_count": 53,
     "metadata": {},
     "output_type": "execute_result"
    }
   ],
   "source": [
    "D = Jain.apply(dist,q = Jain.iloc[3,:]  , axis =1)\n",
    "type(D[D<=2].index)"
   ]
  },
  {
   "cell_type": "code",
   "execution_count": 54,
   "metadata": {
    "scrolled": true,
    "slideshow": {
     "slide_type": "notes"
    }
   },
   "outputs": [
    {
     "data": {
      "text/plain": [
       "[4, 5, 6, 7, 8, 9, 13, 15, 16, 17, 18]"
      ]
     },
     "execution_count": 54,
     "metadata": {},
     "output_type": "execute_result"
    }
   ],
   "source": [
    "NepsP(Jain,6,3)"
   ]
  },
  {
   "cell_type": "code",
   "execution_count": 55,
   "metadata": {
    "scrolled": true,
    "slideshow": {
     "slide_type": "subslide"
    }
   },
   "outputs": [],
   "source": [
    "def ExpendCluster(D,point,ClID,eps, MinPts):\n",
    "    seeds = NepsP(D,point,eps)\n",
    "    if len(seeds) < MinPts:\n",
    "        Clusters[point] = -1\n",
    "        return False\n",
    "    else: \n",
    "        print(\"\\nCon la semilla\" , ClID)\n",
    "        Clusters[seeds] = ClID\n",
    "        seeds.remove(point)\n",
    "        print(\"ingresando al punto: \", end=\" \")\n",
    "        while seeds:\n",
    "            currentP = seeds[0]\n",
    "            result = NepsP(D,currentP,eps)\n",
    "            if len(result) >= MinPts:\n",
    "                print(currentP, end=\" \")\n",
    "                for i in result:\n",
    "                    if Clusters[i] <= 0:\n",
    "                        if Clusters[i] == 0:\n",
    "                            seeds.append(i)\n",
    "                        Clusters[i] = ClID\n",
    "            seeds.remove(currentP)           \n",
    "        return True\n",
    "        "
   ]
  },
  {
   "cell_type": "code",
   "execution_count": 56,
   "metadata": {
    "slideshow": {
     "slide_type": "notes"
    }
   },
   "outputs": [],
   "source": [
    "D = Aggregation"
   ]
  },
  {
   "cell_type": "code",
   "execution_count": null,
   "metadata": {
    "scrolled": false,
    "slideshow": {
     "slide_type": "notes"
    }
   },
   "outputs": [
    {
     "name": "stdout",
     "output_type": "stream",
     "text": [
      "\n",
      "Con la semilla 1\n",
      "ingresando al punto:  1 2 3 4 5 7 6 8 9 15 10 11 12 14 16 17 18 19 13 25 26 27 20 24 28 29 30 21 23 31 32 22 33 34 35 131 48 52 51 53 130 54 129 132 37 38 45 46 47 133 134 144 50 55 56 39 40 49 36 41 43 44 59 125 128 135 145 57 58 72 124 81 123 127 136 126 137 122 138 143 146 42 60 61 65 70 71 142 147 148 139 155 164 82 83 96 121 62 63 64 66 67 73 80 120 140 141 153 163 84 79 85 97 98 86 93 94 95 99 110 149 111 113 150 152 154 162 68 69 74 75 77 151 156 157 112 114 159 160 161 165 87 92 100 101 102 76 78 107 109 115 116 118 158 167 88 89 91 90 103 104 106 108 119 117 169 166 168 105 \n",
      "Con la semilla 2\n",
      "ingresando al punto:  171 172 173 174 175 176 177 178 185 186 187 188 189 190 191 199 200 202 198 201 203 180 184 192 179 181 182 183 193 194 195 197 196 \n",
      "Con la semilla 3\n",
      "ingresando al punto:  205 206 207 208 209 210 211 212 227 229 230 231 228 232 234 235 236 237 213 214 226 215 238 233 239 240 243 242 244 246 245 247 216 217 224 225 248 249 250 260 257 261 264 267 241 269 251 255 256 258 270 272 268 274 263 265 266 262 220 223 382 219 222 252 254 259 381 383 271 273 280 275 279 276 293 277 278 292 294 351 311 350 221 253 417 380 352 378 379 384 418 373 310 312 286 291 282 281 385 422 386 349 377 283 284 285 290 301 309 313 308 218 421 423 424 425 387 419 416 420 372 376 414 415 287 289 300 288 307 314 297 298 299 306 315 347 348 375 317 318 346 426 388 389 371 374 390 413 429 428 427 433 434 345 370 316 319 295 302 305 431 432 412 430 368 391 393 296 304 322 320 321 435 436 437 442 443 446 447 343 369 392 411 445 448 303 324 323 341 342 325 326 329 331 340 394 330 332 344 364 365 438 409 410 366 367 449 450 444 441 439 440 339 361 363 328 458 460 462 451 452 362 395 408 327 333 334 338 463 461 464 457 459 353 407 453 454 455 456 466 470 335 354 336 337 360 396 402 355 359 397 406 401 467 471 465 356 357 358 405 468 472 473 474 404 399 400 469 403 475 476 398 \n",
      "Con la semilla 4\n",
      "ingresando al punto:  478 479 480 494 495 496 497 498 499 500 501 502 503 505 507 481 490 492 493 508 482 483 489 491 509 510 511 506 525 527 528 504 529 530 531 526 533 484 485 487 488 512 513 514 524 486 515 516 523 537 540 532 534 535 536 538 539 541 567 568 569 517 518 519 520 521 522 542 543 544 545 565 546 553 547 554 566 570 571 572 573 564 552 555 563 548 549 550 551 556 557 562 575 558 559 561 574 576 560 577 578 \n",
      "Con la semilla 5\n",
      "ingresando al punto:  580 581 582 583 584 607 585 586 606 587 605 608 588 589 604 590 601 602 603 609 610 611 612 613 643 644 645 591 592 593 600 594 599 614 615 642 647 646 595 598 616 640 641 597 617 618 648 649 652 639 651 653 654 656 658 650 596 620 621 619 624 622 623 625 635 638 637 655 657 636 666 626 629 634 668 659 660 661 667 662 665 670 671 672 627 628 630 633 669 631 632 679 682 677 663 664 678 673 675 676 681 683 680 699 674 708 698 700 706 684 686 685 687 688 689 697 701 707 696 705 702 703 690 691 695 704 692 693 694 \n",
      "Con la semilla 6\n",
      "ingresando al punto:  710 711 712 716 717 718 719 720 721 722 723 724 743 744 745 746 747 714 715 713 725 726 727 728 729 730 734 735 736 742 748 749 733 737 741 731 732 738 739 750 751 752 753 740 \n",
      "Con la semilla 7\n",
      "ingresando al punto:  "
     ]
    }
   ],
   "source": [
    "Clusters = np.zeros(D.shape[0])\n",
    "ClID = 1\n",
    "for point in range(len(Clusters)):\n",
    "    if Clusters[point] ==0:\n",
    "        if ExpendCluster(D,point,ClID,2.5,7):\n",
    "            ClID +=1"
   ]
  },
  {
   "cell_type": "code",
   "execution_count": null,
   "metadata": {
    "slideshow": {
     "slide_type": "notes"
    }
   },
   "outputs": [],
   "source": [
    "pd.crosstab(Clusters,columns=\"Freq\")"
   ]
  },
  {
   "cell_type": "code",
   "execution_count": null,
   "metadata": {
    "slideshow": {
     "slide_type": "notes"
    }
   },
   "outputs": [],
   "source": [
    "plt.scatter(D.x,D.y, c=Clusters, cmap=\"Spectral\")\n",
    "plt.scatter(D.x[Clusters == -1],D.y[Clusters == -1], c=\"Black\") #Valores dispersos"
   ]
  },
  {
   "cell_type": "code",
   "execution_count": null,
   "metadata": {
    "scrolled": true,
    "slideshow": {
     "slide_type": "subslide"
    }
   },
   "outputs": [],
   "source": [
    "def DBSCAN(D,eps,MinPts):\n",
    "    Clusters = np.zeros(D.shape[0])\n",
    "    ClID = 1\n",
    "    for point in range(len(Clusters)):\n",
    "        if Clusters[point] ==0:\n",
    "            if ExpendCluster(D,point,ClID,eps,MinPts):\n",
    "                ClID +=1\n",
    "    print(\"Finalizó la calsificación\")\n",
    "    return Clusters"
   ]
  }
 ],
 "metadata": {
  "celltoolbar": "Slideshow",
  "kernelspec": {
   "display_name": "Python 3",
   "language": "python",
   "name": "python3"
  },
  "language_info": {
   "codemirror_mode": {
    "name": "ipython",
    "version": 3
   },
   "file_extension": ".py",
   "mimetype": "text/x-python",
   "name": "python",
   "nbconvert_exporter": "python",
   "pygments_lexer": "ipython3",
   "version": "3.6.3"
  }
 },
 "nbformat": 4,
 "nbformat_minor": 2
}
